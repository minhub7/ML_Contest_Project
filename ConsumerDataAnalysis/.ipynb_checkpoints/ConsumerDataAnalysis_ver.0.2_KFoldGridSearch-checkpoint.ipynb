{
 "cells": [
  {
   "cell_type": "markdown",
   "id": "1f83c873",
   "metadata": {},
   "source": [
    "# 소비자 데이터를 바탕으로 고객의 제품 총 소비량 예측"
   ]
  },
  {
   "cell_type": "markdown",
   "id": "0d2d2af3",
   "metadata": {},
   "source": [
    "## 1. 데이터 불러오기"
   ]
  },
  {
   "cell_type": "code",
   "execution_count": 1,
   "id": "7780db26",
   "metadata": {
    "scrolled": false
   },
   "outputs": [
    {
     "name": "stdout",
     "output_type": "stream",
     "text": [
      "(1108, 22)\n"
     ]
    },
    {
     "data": {
      "text/html": [
       "<div>\n",
       "<style scoped>\n",
       "    .dataframe tbody tr th:only-of-type {\n",
       "        vertical-align: middle;\n",
       "    }\n",
       "\n",
       "    .dataframe tbody tr th {\n",
       "        vertical-align: top;\n",
       "    }\n",
       "\n",
       "    .dataframe thead th {\n",
       "        text-align: right;\n",
       "    }\n",
       "</style>\n",
       "<table border=\"1\" class=\"dataframe\">\n",
       "  <thead>\n",
       "    <tr style=\"text-align: right;\">\n",
       "      <th></th>\n",
       "      <th>id</th>\n",
       "      <th>Year_Birth</th>\n",
       "      <th>Education</th>\n",
       "      <th>Marital_Status</th>\n",
       "      <th>Income</th>\n",
       "      <th>Kidhome</th>\n",
       "      <th>Teenhome</th>\n",
       "      <th>Dt_Customer</th>\n",
       "      <th>Recency</th>\n",
       "      <th>NumDealsPurchases</th>\n",
       "      <th>...</th>\n",
       "      <th>NumStorePurchases</th>\n",
       "      <th>NumWebVisitsMonth</th>\n",
       "      <th>AcceptedCmp3</th>\n",
       "      <th>AcceptedCmp4</th>\n",
       "      <th>AcceptedCmp5</th>\n",
       "      <th>AcceptedCmp1</th>\n",
       "      <th>AcceptedCmp2</th>\n",
       "      <th>Complain</th>\n",
       "      <th>Response</th>\n",
       "      <th>target</th>\n",
       "    </tr>\n",
       "  </thead>\n",
       "  <tbody>\n",
       "    <tr>\n",
       "      <th>0</th>\n",
       "      <td>0</td>\n",
       "      <td>1974</td>\n",
       "      <td>Master</td>\n",
       "      <td>Together</td>\n",
       "      <td>46014.0</td>\n",
       "      <td>1</td>\n",
       "      <td>1</td>\n",
       "      <td>21-01-2013</td>\n",
       "      <td>21</td>\n",
       "      <td>10</td>\n",
       "      <td>...</td>\n",
       "      <td>8</td>\n",
       "      <td>7</td>\n",
       "      <td>0</td>\n",
       "      <td>0</td>\n",
       "      <td>0</td>\n",
       "      <td>0</td>\n",
       "      <td>0</td>\n",
       "      <td>0</td>\n",
       "      <td>0</td>\n",
       "      <td>541</td>\n",
       "    </tr>\n",
       "    <tr>\n",
       "      <th>1</th>\n",
       "      <td>1</td>\n",
       "      <td>1962</td>\n",
       "      <td>Graduation</td>\n",
       "      <td>Single</td>\n",
       "      <td>76624.0</td>\n",
       "      <td>0</td>\n",
       "      <td>1</td>\n",
       "      <td>24-05-2014</td>\n",
       "      <td>68</td>\n",
       "      <td>1</td>\n",
       "      <td>...</td>\n",
       "      <td>7</td>\n",
       "      <td>1</td>\n",
       "      <td>1</td>\n",
       "      <td>0</td>\n",
       "      <td>0</td>\n",
       "      <td>0</td>\n",
       "      <td>0</td>\n",
       "      <td>0</td>\n",
       "      <td>0</td>\n",
       "      <td>899</td>\n",
       "    </tr>\n",
       "    <tr>\n",
       "      <th>2</th>\n",
       "      <td>2</td>\n",
       "      <td>1951</td>\n",
       "      <td>Graduation</td>\n",
       "      <td>Married</td>\n",
       "      <td>75903.0</td>\n",
       "      <td>0</td>\n",
       "      <td>1</td>\n",
       "      <td>08-04-2013</td>\n",
       "      <td>50</td>\n",
       "      <td>2</td>\n",
       "      <td>...</td>\n",
       "      <td>9</td>\n",
       "      <td>3</td>\n",
       "      <td>0</td>\n",
       "      <td>0</td>\n",
       "      <td>0</td>\n",
       "      <td>0</td>\n",
       "      <td>0</td>\n",
       "      <td>0</td>\n",
       "      <td>0</td>\n",
       "      <td>901</td>\n",
       "    </tr>\n",
       "    <tr>\n",
       "      <th>3</th>\n",
       "      <td>3</td>\n",
       "      <td>1974</td>\n",
       "      <td>Basic</td>\n",
       "      <td>Married</td>\n",
       "      <td>18393.0</td>\n",
       "      <td>1</td>\n",
       "      <td>0</td>\n",
       "      <td>29-03-2014</td>\n",
       "      <td>2</td>\n",
       "      <td>2</td>\n",
       "      <td>...</td>\n",
       "      <td>3</td>\n",
       "      <td>8</td>\n",
       "      <td>0</td>\n",
       "      <td>0</td>\n",
       "      <td>0</td>\n",
       "      <td>0</td>\n",
       "      <td>0</td>\n",
       "      <td>0</td>\n",
       "      <td>0</td>\n",
       "      <td>50</td>\n",
       "    </tr>\n",
       "    <tr>\n",
       "      <th>4</th>\n",
       "      <td>4</td>\n",
       "      <td>1946</td>\n",
       "      <td>PhD</td>\n",
       "      <td>Together</td>\n",
       "      <td>64014.0</td>\n",
       "      <td>2</td>\n",
       "      <td>1</td>\n",
       "      <td>10-06-2014</td>\n",
       "      <td>56</td>\n",
       "      <td>7</td>\n",
       "      <td>...</td>\n",
       "      <td>5</td>\n",
       "      <td>7</td>\n",
       "      <td>0</td>\n",
       "      <td>0</td>\n",
       "      <td>0</td>\n",
       "      <td>1</td>\n",
       "      <td>0</td>\n",
       "      <td>0</td>\n",
       "      <td>0</td>\n",
       "      <td>444</td>\n",
       "    </tr>\n",
       "  </tbody>\n",
       "</table>\n",
       "<p>5 rows × 22 columns</p>\n",
       "</div>"
      ],
      "text/plain": [
       "   id  Year_Birth   Education Marital_Status   Income  Kidhome  Teenhome  \\\n",
       "0   0        1974      Master       Together  46014.0        1         1   \n",
       "1   1        1962  Graduation         Single  76624.0        0         1   \n",
       "2   2        1951  Graduation        Married  75903.0        0         1   \n",
       "3   3        1974       Basic        Married  18393.0        1         0   \n",
       "4   4        1946         PhD       Together  64014.0        2         1   \n",
       "\n",
       "  Dt_Customer  Recency  NumDealsPurchases  ...  NumStorePurchases  \\\n",
       "0  21-01-2013       21                 10  ...                  8   \n",
       "1  24-05-2014       68                  1  ...                  7   \n",
       "2  08-04-2013       50                  2  ...                  9   \n",
       "3  29-03-2014        2                  2  ...                  3   \n",
       "4  10-06-2014       56                  7  ...                  5   \n",
       "\n",
       "   NumWebVisitsMonth  AcceptedCmp3  AcceptedCmp4  AcceptedCmp5  AcceptedCmp1  \\\n",
       "0                  7             0             0             0             0   \n",
       "1                  1             1             0             0             0   \n",
       "2                  3             0             0             0             0   \n",
       "3                  8             0             0             0             0   \n",
       "4                  7             0             0             0             1   \n",
       "\n",
       "   AcceptedCmp2  Complain  Response  target  \n",
       "0             0         0         0     541  \n",
       "1             0         0         0     899  \n",
       "2             0         0         0     901  \n",
       "3             0         0         0      50  \n",
       "4             0         0         0     444  \n",
       "\n",
       "[5 rows x 22 columns]"
      ]
     },
     "execution_count": 1,
     "metadata": {},
     "output_type": "execute_result"
    }
   ],
   "source": [
    "from matplotlib import pyplot as plt\n",
    "import pandas as pd\n",
    "import numpy as np\n",
    "import seaborn as sns\n",
    "%matplotlib inline\n",
    "\n",
    "import warnings\n",
    "from pandas.core.common import SettingWithCopyWarning\n",
    "warnings.simplefilter(action=\"ignore\", category=SettingWithCopyWarning)\n",
    "\n",
    "train = pd.read_csv('data/train.csv')\n",
    "test = pd.read_csv('data/test.csv')\n",
    "print(train.shape)\n",
    "train.head(5)"
   ]
  },
  {
   "cell_type": "code",
   "execution_count": 2,
   "id": "145eddab",
   "metadata": {
    "scrolled": false
   },
   "outputs": [
    {
     "name": "stdout",
     "output_type": "stream",
     "text": [
      "<class 'pandas.core.frame.DataFrame'>\n",
      "RangeIndex: 1108 entries, 0 to 1107\n",
      "Data columns (total 22 columns):\n",
      " #   Column               Non-Null Count  Dtype  \n",
      "---  ------               --------------  -----  \n",
      " 0   id                   1108 non-null   int64  \n",
      " 1   Year_Birth           1108 non-null   int64  \n",
      " 2   Education            1108 non-null   object \n",
      " 3   Marital_Status       1108 non-null   object \n",
      " 4   Income               1108 non-null   float64\n",
      " 5   Kidhome              1108 non-null   int64  \n",
      " 6   Teenhome             1108 non-null   int64  \n",
      " 7   Dt_Customer          1108 non-null   object \n",
      " 8   Recency              1108 non-null   int64  \n",
      " 9   NumDealsPurchases    1108 non-null   int64  \n",
      " 10  NumWebPurchases      1108 non-null   int64  \n",
      " 11  NumCatalogPurchases  1108 non-null   int64  \n",
      " 12  NumStorePurchases    1108 non-null   int64  \n",
      " 13  NumWebVisitsMonth    1108 non-null   int64  \n",
      " 14  AcceptedCmp3         1108 non-null   int64  \n",
      " 15  AcceptedCmp4         1108 non-null   int64  \n",
      " 16  AcceptedCmp5         1108 non-null   int64  \n",
      " 17  AcceptedCmp1         1108 non-null   int64  \n",
      " 18  AcceptedCmp2         1108 non-null   int64  \n",
      " 19  Complain             1108 non-null   int64  \n",
      " 20  Response             1108 non-null   int64  \n",
      " 21  target               1108 non-null   int64  \n",
      "dtypes: float64(1), int64(18), object(3)\n",
      "memory usage: 190.6+ KB\n"
     ]
    }
   ],
   "source": [
    "train.info()"
   ]
  },
  {
   "cell_type": "markdown",
   "id": "8c502bec",
   "metadata": {},
   "source": [
    "### 데이터 전처리"
   ]
  },
  {
   "cell_type": "code",
   "execution_count": 3,
   "id": "2eb47fff",
   "metadata": {},
   "outputs": [],
   "source": [
    "# Dt_customer 열을 y,m,d로 분리\n",
    "def seperate_datetime(dataframe):\n",
    "    year = []\n",
    "    month = []\n",
    "    day = []\n",
    "\n",
    "    for date in dataframe.Dt_Customer:\n",
    "        year_point, month_point, day_point = date.split('-') # - 기준으로 string을 나누고 list로 만듦 ex) '2016-04-01' -> ['2016', '04', '01']\n",
    "        year.append(int(year_point))\n",
    "        month.append(int(month_point))\n",
    "        day.append(int(day_point))\n",
    "        \n",
    "    return year, month, day\n",
    "\n",
    "day, month, year = seperate_datetime(train)\n",
    "train['year'] = year\n",
    "train['month'] = month\n",
    "train['day'] = day\n",
    "\n",
    "day, month, year = seperate_datetime(test)\n",
    "test['year'] = year\n",
    "test['month'] = month\n",
    "test['day'] = day"
   ]
  },
  {
   "cell_type": "code",
   "execution_count": 4,
   "id": "f9ed5b10",
   "metadata": {},
   "outputs": [],
   "source": [
    "train_T=train['target']\n",
    "target=[]\n",
    "for i in range(len(train_T)):\n",
    "    if train_T.iloc[i] < 250:\n",
    "        target.append(1)\n",
    "    elif train_T.iloc[i] < 1000:\n",
    "        target.append(2)\n",
    "    elif train_T.iloc[i] < 1800:\n",
    "        target.append(3)\n",
    "    else:\n",
    "        target.append(4)\n",
    "        \n",
    "train[\"Range\"] = target"
   ]
  },
  {
   "cell_type": "code",
   "execution_count": 5,
   "id": "9b474a6a",
   "metadata": {},
   "outputs": [],
   "source": [
    "# from sklearn.preprocessing import RobustScaler\n",
    "\n",
    "# train['Year_Birth'] = RobustScaler().fit_transform(train[['Year_Birth']])\n",
    "# test['Year_Birth'] = RobustScaler().fit_transform(test[['Year_Birth']])"
   ]
  },
  {
   "cell_type": "markdown",
   "id": "08caff4f",
   "metadata": {},
   "source": [
    "#### Year_Birth 이상치를 가장 많은 빈도수의 값으로 치환"
   ]
  },
  {
   "cell_type": "code",
   "execution_count": 6,
   "id": "150f2ec4",
   "metadata": {},
   "outputs": [
    {
     "name": "stdout",
     "output_type": "stream",
     "text": [
      "1971\n",
      "1976\n"
     ]
    }
   ],
   "source": [
    "def modifyYBirth_to_maxCnt(dataFrame):\n",
    "    dicYear = dict(dataFrame['Year_Birth'].value_counts().items())\n",
    "    maxYearCnt = max(dicYear, key=dicYear.get)\n",
    "    print(maxYearCnt)\n",
    "    for idx, year in enumerate(dataFrame.Year_Birth):\n",
    "        if year <= 1900:\n",
    "            dataFrame['Year_Birth'][idx] = maxYearCnt\n",
    "    \n",
    "    return dataFrame\n",
    "\n",
    "train = modifyYBirth_to_maxCnt(train)\n",
    "test = modifyYBirth_to_maxCnt(test)"
   ]
  },
  {
   "cell_type": "code",
   "execution_count": 7,
   "id": "7f3356a7",
   "metadata": {
    "scrolled": true
   },
   "outputs": [],
   "source": [
    "# def modifyIQRYear_Birth(dataFrame):\n",
    "#     mean = round(dataFrame['Year_Birth'].mean())\n",
    "#     for idx, year in enumerate(dataFrame.Year_Birth):\n",
    "#         if year <= 1900:\n",
    "#             dataFrame['Year_Birth'][idx] = mean\n",
    "    \n",
    "#     return dataFrame\n",
    "\n",
    "# train = modifyIQRYear_Birth(train)\n",
    "# test = modifyIQRYear_Birth(test)"
   ]
  },
  {
   "cell_type": "markdown",
   "id": "23bd67f5",
   "metadata": {},
   "source": [
    "#### 출생년도를 계산해 나이 컬럼 추가"
   ]
  },
  {
   "cell_type": "code",
   "execution_count": 8,
   "id": "22bb1523",
   "metadata": {},
   "outputs": [],
   "source": [
    "train['Age'] = 2022 - train['Year_Birth']\n",
    "test['Age'] = 2022 - test['Year_Birth']"
   ]
  },
  {
   "cell_type": "markdown",
   "id": "6d5edb34",
   "metadata": {},
   "source": [
    "#### Education, Marital_Status 정수 및 Binary 인코딩"
   ]
  },
  {
   "cell_type": "code",
   "execution_count": 9,
   "id": "3f88cb3a",
   "metadata": {},
   "outputs": [],
   "source": [
    "#train set 및 test set에 적용\n",
    "for data in [train, test]:\n",
    "    for i in range(data.shape[0]):\n",
    "        education = data['Education'].iloc[i]\n",
    "        if education in [\"Basic\", \"Graduation\"]:\n",
    "            data['Education'].iloc[i] = 0\n",
    "        elif education in [\"2n Cycle\", \"Master\"]:\n",
    "            data['Education'].iloc[i] = 1\n",
    "        else:\n",
    "            data['Education'].iloc[i] = 2"
   ]
  },
  {
   "cell_type": "code",
   "execution_count": 10,
   "id": "96b0c034",
   "metadata": {},
   "outputs": [],
   "source": [
    "#train set 및 test set에 적용\n",
    "for data in [train, test]:\n",
    "    for i in range(data.shape[0]):\n",
    "        marital_status = data['Marital_Status'].iloc[i]\n",
    "        if marital_status in [\"Married\", \"Together\"]:\n",
    "            data['Marital_Status'].iloc[i] = 0\n",
    "        else:\n",
    "            data['Marital_Status'].iloc[i] = 1"
   ]
  },
  {
   "cell_type": "markdown",
   "id": "68c4c207",
   "metadata": {},
   "source": [
    "#### 캠페인 참여 수 Total 컬럼 추가"
   ]
  },
  {
   "cell_type": "code",
   "execution_count": 11,
   "id": "f2c25d4e",
   "metadata": {},
   "outputs": [],
   "source": [
    "train[\"TotalAcceptedCmp\"] = train[\"AcceptedCmp1\"] + train[\"AcceptedCmp2\"] + train[\"AcceptedCmp3\"] + train[\"AcceptedCmp4\"] + train[\"AcceptedCmp5\"] + train[\"Response\"]\n",
    "test[\"TotalAcceptedCmp\"] = test[\"AcceptedCmp1\"] + test[\"AcceptedCmp2\"] + test[\"AcceptedCmp3\"] + test[\"AcceptedCmp4\"] + test[\"AcceptedCmp5\"] + test[\"Response\"]"
   ]
  },
  {
   "cell_type": "markdown",
   "id": "3b945873",
   "metadata": {},
   "source": [
    "#### 구매횟수 통합"
   ]
  },
  {
   "cell_type": "code",
   "execution_count": 12,
   "id": "c74479e9",
   "metadata": {},
   "outputs": [],
   "source": [
    "train['TotalPurchases'] = train['NumCatalogPurchases']+train['NumStorePurchases']+train['NumWebPurchases']\n",
    "test['TotalPurchases'] = test['NumCatalogPurchases']+test['NumStorePurchases']+test['NumWebPurchases']\n",
    "\n",
    "# train['RCatalogPurchases'] = train['NumCatalogPurchases'] / train['TotalPurchases']\n",
    "# train['RStorePurchases'] = train['NumStorePurchases'] / train['TotalPurchases']\n",
    "# train['RWebPurchases'] = train['NumWebPurchases'] / train['TotalPurchases']"
   ]
  },
  {
   "cell_type": "markdown",
   "id": "3b350657",
   "metadata": {},
   "source": [
    "#### 자녀 수 통합"
   ]
  },
  {
   "cell_type": "code",
   "execution_count": 13,
   "id": "5dfcc227",
   "metadata": {},
   "outputs": [],
   "source": [
    "train['Dependents'] = train['Kidhome'] + train['Teenhome']\n",
    "test['Dependents'] = test['Kidhome'] + test['Teenhome']"
   ]
  },
  {
   "cell_type": "markdown",
   "id": "b7ef518a",
   "metadata": {},
   "source": [
    "#### 상관관계"
   ]
  },
  {
   "cell_type": "code",
   "execution_count": 14,
   "id": "f1d6d19a",
   "metadata": {},
   "outputs": [
    {
     "data": {
      "text/plain": [
       "Text(0.5, 1.0, 'Correlation between features')"
      ]
     },
     "execution_count": 14,
     "metadata": {},
     "output_type": "execute_result"
    },
    {
     "data": {
      "image/png": "[encoded data removed]",
      "text/plain": [
       "<Figure size 864x720 with 2 Axes>"
      ]
     },
     "metadata": {
      "needs_background": "light"
     },
     "output_type": "display_data"
    }
   ],
   "source": [
    "# 수치형 데이터 상관관계 히트맵 시각화\n",
    "from sklearn.preprocessing import MinMaxScaler\n",
    "quantitative = ['Year_Birth', 'Age','Income', 'year',\t'month', 'day', 'Recency',\n",
    "                'NumDealsPurchases', 'NumWebPurchases', 'NumCatalogPurchases', 'NumStorePurchases', 'NumWebVisitsMonth',\n",
    "               'TotalPurchases', 'TotalAcceptedCmp', 'Kidhome', 'Teenhome', 'Dependents','target']\n",
    "\n",
    "train_corr = train[quantitative]\n",
    "scaler= MinMaxScaler()\n",
    "train_corr[train_corr.columns] = scaler.fit_transform(train_corr[train_corr.columns])\n",
    "corr28 = train_corr.corr(method= 'pearson')\n",
    "\n",
    "plt.figure(figsize=(12,10))\n",
    "sns.heatmap(data = corr28, annot=True, fmt = '.2f', linewidths=.5, cmap='Blues')\n",
    "plt.title('Correlation between features', fontsize=30)"
   ]
  },
  {
   "cell_type": "code",
   "execution_count": 15,
   "id": "2c8e84a8",
   "metadata": {},
   "outputs": [
    {
     "data": {
      "text/plain": [
       "target                 1.000000\n",
       "Range                  0.954404\n",
       "TotalPurchases         0.823537\n",
       "NumCatalogPurchases    0.798065\n",
       "Income                 0.784084\n",
       "NumStorePurchases      0.677785\n",
       "NumWebPurchases        0.546082\n",
       "AcceptedCmp5           0.458208\n",
       "TotalAcceptedCmp       0.444114\n",
       "AcceptedCmp1           0.361102\n",
       "AcceptedCmp4           0.256784\n",
       "Response               0.242760\n",
       "Age                    0.151380\n",
       "AcceptedCmp2           0.129995\n",
       "Recency                0.050873\n",
       "AcceptedCmp3           0.040736\n",
       "month                  0.037649\n",
       "id                     0.034192\n",
       "day                    0.018917\n",
       "Complain              -0.058704\n",
       "NumDealsPurchases     -0.072802\n",
       "Teenhome              -0.109214\n",
       "Year_Birth            -0.151380\n",
       "year                  -0.159404\n",
       "Dependents            -0.471012\n",
       "NumWebVisitsMonth     -0.488252\n",
       "Kidhome               -0.538365\n",
       "Name: target, dtype: float64"
      ]
     },
     "execution_count": 15,
     "metadata": {},
     "output_type": "execute_result"
    }
   ],
   "source": [
    "corr_matrix = train.corr()\n",
    "corr_matrix[\"target\"].sort_values(ascending=False)"
   ]
  },
  {
   "cell_type": "markdown",
   "id": "1c739cfd",
   "metadata": {},
   "source": [
    "#### 필요없는 열 정리"
   ]
  },
  {
   "cell_type": "code",
   "execution_count": 16,
   "id": "d9cf47a9",
   "metadata": {},
   "outputs": [],
   "source": [
    "train = train.drop([\"Dt_Customer\", \"Year_Birth\", \"month\", \"day\", \"Recency\", \"Complain\"], axis = 1)\n",
    "train = train.drop([\"AcceptedCmp1\", \"AcceptedCmp2\", \"AcceptedCmp3\", \"AcceptedCmp4\", \"AcceptedCmp5\", \"Response\"], axis = 1)\n",
    "# train = train.drop([\"NumWebPurchases\", \"NumCatalogPurchases\", \"NumStorePurchases\"], axis = 1)\n",
    "\n",
    "test = test.drop([\"Dt_Customer\", \"Year_Birth\", \"month\", \"day\", \"Recency\", \"Complain\"], axis = 1)\n",
    "test = test.drop([\"AcceptedCmp1\", \"AcceptedCmp2\", \"AcceptedCmp3\", \"AcceptedCmp4\", \"AcceptedCmp5\", \"Response\"], axis = 1)\n",
    "# test = test.drop([\"NumWebPurchases\", \"NumCatalogPurchases\", \"NumStorePurchases\"], axis = 1)"
   ]
  },
  {
   "cell_type": "code",
   "execution_count": 17,
   "id": "de3dd4b8",
   "metadata": {},
   "outputs": [
    {
     "data": {
      "text/html": [
       "<div>\n",
       "<style scoped>\n",
       "    .dataframe tbody tr th:only-of-type {\n",
       "        vertical-align: middle;\n",
       "    }\n",
       "\n",
       "    .dataframe tbody tr th {\n",
       "        vertical-align: top;\n",
       "    }\n",
       "\n",
       "    .dataframe thead th {\n",
       "        text-align: right;\n",
       "    }\n",
       "</style>\n",
       "<table border=\"1\" class=\"dataframe\">\n",
       "  <thead>\n",
       "    <tr style=\"text-align: right;\">\n",
       "      <th></th>\n",
       "      <th>id</th>\n",
       "      <th>Education</th>\n",
       "      <th>Marital_Status</th>\n",
       "      <th>Income</th>\n",
       "      <th>Kidhome</th>\n",
       "      <th>Teenhome</th>\n",
       "      <th>NumDealsPurchases</th>\n",
       "      <th>NumWebPurchases</th>\n",
       "      <th>NumCatalogPurchases</th>\n",
       "      <th>NumStorePurchases</th>\n",
       "      <th>NumWebVisitsMonth</th>\n",
       "      <th>target</th>\n",
       "      <th>year</th>\n",
       "      <th>Range</th>\n",
       "      <th>Age</th>\n",
       "      <th>TotalAcceptedCmp</th>\n",
       "      <th>TotalPurchases</th>\n",
       "      <th>Dependents</th>\n",
       "    </tr>\n",
       "  </thead>\n",
       "  <tbody>\n",
       "    <tr>\n",
       "      <th>0</th>\n",
       "      <td>0</td>\n",
       "      <td>1</td>\n",
       "      <td>0</td>\n",
       "      <td>46014.0</td>\n",
       "      <td>1</td>\n",
       "      <td>1</td>\n",
       "      <td>10</td>\n",
       "      <td>7</td>\n",
       "      <td>1</td>\n",
       "      <td>8</td>\n",
       "      <td>7</td>\n",
       "      <td>541</td>\n",
       "      <td>2013</td>\n",
       "      <td>2</td>\n",
       "      <td>48</td>\n",
       "      <td>0</td>\n",
       "      <td>16</td>\n",
       "      <td>2</td>\n",
       "    </tr>\n",
       "    <tr>\n",
       "      <th>1</th>\n",
       "      <td>1</td>\n",
       "      <td>0</td>\n",
       "      <td>1</td>\n",
       "      <td>76624.0</td>\n",
       "      <td>0</td>\n",
       "      <td>1</td>\n",
       "      <td>1</td>\n",
       "      <td>5</td>\n",
       "      <td>10</td>\n",
       "      <td>7</td>\n",
       "      <td>1</td>\n",
       "      <td>899</td>\n",
       "      <td>2014</td>\n",
       "      <td>2</td>\n",
       "      <td>60</td>\n",
       "      <td>1</td>\n",
       "      <td>22</td>\n",
       "      <td>1</td>\n",
       "    </tr>\n",
       "    <tr>\n",
       "      <th>2</th>\n",
       "      <td>2</td>\n",
       "      <td>0</td>\n",
       "      <td>0</td>\n",
       "      <td>75903.0</td>\n",
       "      <td>0</td>\n",
       "      <td>1</td>\n",
       "      <td>2</td>\n",
       "      <td>6</td>\n",
       "      <td>6</td>\n",
       "      <td>9</td>\n",
       "      <td>3</td>\n",
       "      <td>901</td>\n",
       "      <td>2013</td>\n",
       "      <td>2</td>\n",
       "      <td>71</td>\n",
       "      <td>0</td>\n",
       "      <td>21</td>\n",
       "      <td>1</td>\n",
       "    </tr>\n",
       "    <tr>\n",
       "      <th>3</th>\n",
       "      <td>3</td>\n",
       "      <td>0</td>\n",
       "      <td>0</td>\n",
       "      <td>18393.0</td>\n",
       "      <td>1</td>\n",
       "      <td>0</td>\n",
       "      <td>2</td>\n",
       "      <td>3</td>\n",
       "      <td>0</td>\n",
       "      <td>3</td>\n",
       "      <td>8</td>\n",
       "      <td>50</td>\n",
       "      <td>2014</td>\n",
       "      <td>1</td>\n",
       "      <td>48</td>\n",
       "      <td>0</td>\n",
       "      <td>6</td>\n",
       "      <td>1</td>\n",
       "    </tr>\n",
       "    <tr>\n",
       "      <th>4</th>\n",
       "      <td>4</td>\n",
       "      <td>2</td>\n",
       "      <td>0</td>\n",
       "      <td>64014.0</td>\n",
       "      <td>2</td>\n",
       "      <td>1</td>\n",
       "      <td>7</td>\n",
       "      <td>8</td>\n",
       "      <td>2</td>\n",
       "      <td>5</td>\n",
       "      <td>7</td>\n",
       "      <td>444</td>\n",
       "      <td>2014</td>\n",
       "      <td>2</td>\n",
       "      <td>76</td>\n",
       "      <td>1</td>\n",
       "      <td>15</td>\n",
       "      <td>3</td>\n",
       "    </tr>\n",
       "  </tbody>\n",
       "</table>\n",
       "</div>"
      ],
      "text/plain": [
       "   id Education Marital_Status   Income  Kidhome  Teenhome  NumDealsPurchases  \\\n",
       "0   0         1              0  46014.0        1         1                 10   \n",
       "1   1         0              1  76624.0        0         1                  1   \n",
       "2   2         0              0  75903.0        0         1                  2   \n",
       "3   3         0              0  18393.0        1         0                  2   \n",
       "4   4         2              0  64014.0        2         1                  7   \n",
       "\n",
       "   NumWebPurchases  NumCatalogPurchases  NumStorePurchases  NumWebVisitsMonth  \\\n",
       "0                7                    1                  8                  7   \n",
       "1                5                   10                  7                  1   \n",
       "2                6                    6                  9                  3   \n",
       "3                3                    0                  3                  8   \n",
       "4                8                    2                  5                  7   \n",
       "\n",
       "   target  year  Range  Age  TotalAcceptedCmp  TotalPurchases  Dependents  \n",
       "0     541  2013      2   48                 0              16           2  \n",
       "1     899  2014      2   60                 1              22           1  \n",
       "2     901  2013      2   71                 0              21           1  \n",
       "3      50  2014      1   48                 0               6           1  \n",
       "4     444  2014      2   76                 1              15           3  "
      ]
     },
     "execution_count": 17,
     "metadata": {},
     "output_type": "execute_result"
    }
   ],
   "source": [
    "train.head()"
   ]
  },
  {
   "cell_type": "code",
   "execution_count": 18,
   "id": "d73a903c",
   "metadata": {},
   "outputs": [
    {
     "name": "stdout",
     "output_type": "stream",
     "text": [
      "<class 'pandas.core.frame.DataFrame'>\n",
      "RangeIndex: 1108 entries, 0 to 1107\n",
      "Data columns (total 18 columns):\n",
      " #   Column               Non-Null Count  Dtype  \n",
      "---  ------               --------------  -----  \n",
      " 0   id                   1108 non-null   int64  \n",
      " 1   Education            1108 non-null   object \n",
      " 2   Marital_Status       1108 non-null   object \n",
      " 3   Income               1108 non-null   float64\n",
      " 4   Kidhome              1108 non-null   int64  \n",
      " 5   Teenhome             1108 non-null   int64  \n",
      " 6   NumDealsPurchases    1108 non-null   int64  \n",
      " 7   NumWebPurchases      1108 non-null   int64  \n",
      " 8   NumCatalogPurchases  1108 non-null   int64  \n",
      " 9   NumStorePurchases    1108 non-null   int64  \n",
      " 10  NumWebVisitsMonth    1108 non-null   int64  \n",
      " 11  target               1108 non-null   int64  \n",
      " 12  year                 1108 non-null   int64  \n",
      " 13  Range                1108 non-null   int64  \n",
      " 14  Age                  1108 non-null   int64  \n",
      " 15  TotalAcceptedCmp     1108 non-null   int64  \n",
      " 16  TotalPurchases       1108 non-null   int64  \n",
      " 17  Dependents           1108 non-null   int64  \n",
      "dtypes: float64(1), int64(15), object(2)\n",
      "memory usage: 155.9+ KB\n"
     ]
    }
   ],
   "source": [
    "train.info(10)"
   ]
  },
  {
   "cell_type": "code",
   "execution_count": 19,
   "id": "24c7bbad",
   "metadata": {
    "scrolled": false
   },
   "outputs": [
    {
     "name": "stdout",
     "output_type": "stream",
     "text": [
      "<class 'pandas.core.frame.DataFrame'>\n",
      "RangeIndex: 1108 entries, 0 to 1107\n",
      "Data columns (total 16 columns):\n",
      " #   Column               Non-Null Count  Dtype  \n",
      "---  ------               --------------  -----  \n",
      " 0   id                   1108 non-null   int64  \n",
      " 1   Education            1108 non-null   object \n",
      " 2   Marital_Status       1108 non-null   object \n",
      " 3   Income               1108 non-null   float64\n",
      " 4   Kidhome              1108 non-null   int64  \n",
      " 5   Teenhome             1108 non-null   int64  \n",
      " 6   NumDealsPurchases    1108 non-null   int64  \n",
      " 7   NumWebPurchases      1108 non-null   int64  \n",
      " 8   NumCatalogPurchases  1108 non-null   int64  \n",
      " 9   NumStorePurchases    1108 non-null   int64  \n",
      " 10  NumWebVisitsMonth    1108 non-null   int64  \n",
      " 11  year                 1108 non-null   int64  \n",
      " 12  Age                  1108 non-null   int64  \n",
      " 13  TotalAcceptedCmp     1108 non-null   int64  \n",
      " 14  TotalPurchases       1108 non-null   int64  \n",
      " 15  Dependents           1108 non-null   int64  \n",
      "dtypes: float64(1), int64(13), object(2)\n",
      "memory usage: 138.6+ KB\n"
     ]
    }
   ],
   "source": [
    "test.info(10)"
   ]
  },
  {
   "cell_type": "markdown",
   "id": "199337e9",
   "metadata": {},
   "source": [
    "### 훈련 데이터 분할 및 모델 학습"
   ]
  },
  {
   "cell_type": "code",
   "execution_count": 20,
   "id": "61b698f2",
   "metadata": {},
   "outputs": [],
   "source": [
    "data_train_X = train.drop(['id', 'target'], axis = 1) #training 데이터에서 피쳐 추출\n",
    "data_train_y = train.target #training 데이터에서 소비량 추출\n",
    "test = test.drop(['id'], axis = 1)"
   ]
  },
  {
   "cell_type": "code",
   "execution_count": 21,
   "id": "d5203fc9",
   "metadata": {},
   "outputs": [],
   "source": [
    "def NMAE(true, pred):\n",
    "    mae = np.mean(np.abs(true-pred))\n",
    "    score = mae / np.mean(np.abs(true))\n",
    "    return score"
   ]
  },
  {
   "cell_type": "code",
   "execution_count": 22,
   "id": "079de9ba",
   "metadata": {
    "scrolled": true
   },
   "outputs": [
    {
     "name": "stdout",
     "output_type": "stream",
     "text": [
      "target_preds is [ 542.51302311  854.94371919  820.92931669 ...   71.55524942 1139.28816156\n",
      "  170.51270031]\n",
      "========== fold 1 ==========\n",
      "RandomForestRegressor model NMAE : 0.2289827371742362\n",
      "XGBRegressor model NMAE : 0.21478413883073938\n",
      "CatBoostRegressor model NMAE : 0.20518188161766937\n",
      "==============================\n",
      "Average NMAE 0.21123448924486515\n",
      "\n",
      "target_preds is [539.91140865 694.67004579 781.64323739 ...  71.44853359 915.83113364\n",
      " 129.23199162]\n",
      "========== fold 2 ==========\n",
      "RandomForestRegressor model NMAE : 0.2046052732841817\n",
      "XGBRegressor model NMAE : 0.21060813618802815\n",
      "CatBoostRegressor model NMAE : 0.1856269913343287\n",
      "==============================\n",
      "Average NMAE 0.1931536578983823\n",
      "\n",
      "target_preds is [ 529.38427765  795.67746483  853.68417497 ...   69.86125625 1126.47639907\n",
      "  129.12807988]\n",
      "========== fold 3 ==========\n",
      "RandomForestRegressor model NMAE : 0.1409660205495425\n",
      "XGBRegressor model NMAE : 0.12904509101883482\n",
      "CatBoostRegressor model NMAE : 0.1432020522106534\n",
      "==============================\n",
      "Average NMAE 0.1286335514493052\n",
      "\n",
      "target_preds is [ 523.93963315  760.98556923  794.64986587 ...   74.38689323 1110.04126868\n",
      "  128.83506687]\n",
      "========== fold 4 ==========\n",
      "RandomForestRegressor model NMAE : 0.19205573911794283\n",
      "XGBRegressor model NMAE : 0.16740410860508548\n",
      "CatBoostRegressor model NMAE : 0.18597902600201122\n",
      "==============================\n",
      "Average NMAE 0.172748168366614\n",
      "\n",
      "target_preds is [ 526.24710682  704.39761526  820.6822612  ...   72.0448749  1104.40211811\n",
      "  129.73739528]\n",
      "========== fold 5 ==========\n",
      "RandomForestRegressor model NMAE : 0.20956538995832505\n",
      "XGBRegressor model NMAE : 0.20867998839818644\n",
      "CatBoostRegressor model NMAE : 0.2016120414612179\n",
      "==============================\n",
      "Average NMAE 0.2024363808447952\n",
      "\n",
      "target_preds is [ 538.66419697  765.16016105  861.78822125 ...   69.30986125 1045.57084507\n",
      "  130.12526319]\n",
      "========== fold 6 ==========\n",
      "RandomForestRegressor model NMAE : 0.19831366432208128\n",
      "XGBRegressor model NMAE : 0.18630624797669149\n",
      "CatBoostRegressor model NMAE : 0.16108478766296833\n",
      "==============================\n",
      "Average NMAE 0.1691633067482857\n",
      "\n",
      "target_preds is [ 581.47513427  816.84154218  812.43129205 ...   70.02382742 1110.41672554\n",
      "  129.12300078]\n",
      "========== fold 7 ==========\n",
      "RandomForestRegressor model NMAE : 0.1695086396928109\n",
      "XGBRegressor model NMAE : 0.18334636990684777\n",
      "CatBoostRegressor model NMAE : 0.1776576832823722\n",
      "==============================\n",
      "Average NMAE 0.1618289127497689\n",
      "\n",
      "target_preds is [ 495.12697291  873.4642494   847.29562958 ...   72.73325611 1059.91304606\n",
      "  129.27105018]\n",
      "========== fold 8 ==========\n",
      "RandomForestRegressor model NMAE : 0.20302412029402722\n",
      "XGBRegressor model NMAE : 0.16765421057044635\n",
      "CatBoostRegressor model NMAE : 0.16300064283518265\n",
      "==============================\n",
      "Average NMAE 0.16859051398865257\n",
      "\n",
      "target_preds is [ 486.84056298  779.01528614  863.28283651 ...   74.70948423 1138.59214978\n",
      "  128.84160362]\n",
      "========== fold 9 ==========\n",
      "RandomForestRegressor model NMAE : 0.1920872402339731\n",
      "XGBRegressor model NMAE : 0.18594397577966548\n",
      "CatBoostRegressor model NMAE : 0.2035213544575409\n",
      "==============================\n",
      "Average NMAE 0.18628200229270156\n",
      "\n",
      "target_preds is [ 566.95071077  684.65223644  831.81887453 ...   71.56080036 1036.01820637\n",
      "  129.26100253]\n",
      "========== fold 10 ==========\n",
      "RandomForestRegressor model NMAE : 0.16134521517173436\n",
      "XGBRegressor model NMAE : 0.16546504858716582\n",
      "CatBoostRegressor model NMAE : 0.14735867926499785\n",
      "==============================\n",
      "Average NMAE 0.14404490021345515\n",
      "\n",
      "==============================\n",
      "Total Average NMAE 0.1545\n"
     ]
    }
   ],
   "source": [
    "from sklearn.model_selection import StratifiedKFold\n",
    "from sklearn.utils import shuffle\n",
    "from sklearn.metrics import mean_squared_error\n",
    "from sklearn.ensemble import RandomForestRegressor\n",
    "from xgboost import XGBRegressor\n",
    "from catboost import CatBoostRegressor\n",
    "# from lightgbm import LGBMRegressor\n",
    "from sklearn.model_selection import GridSearchCV\n",
    "# from sklearn.ensemble import GradientBoostingRegressor\n",
    "\n",
    "skf = StratifiedKFold(n_splits = 10, random_state = 42, shuffle = True) #총 10번의 fold 진행\n",
    "n = 0 #x번째 fold인지 기록\n",
    "\n",
    "fold_target_pred = []\n",
    "fold_score = []\n",
    "\n",
    "# param_rf = {'n_estimators':[300, 500], 'max_depth': [8,16], 'min_samples_split': [8,16], 'min_samples_leaf' :[8,16],'criterion':['mae'],'random_state':[42]}\n",
    "# param_xgb = {'n_estimators':[300,500], 'max_depth': [8,16],'random_state':[42]}\n",
    "# param_cat = {'n_estimators':[1200], 'max_depth': [8,16], 'silent': [True],'random_state':[42]}\n",
    "\n",
    "\n",
    "for train_index, valid_index in skf.split(train, train['Range']): #range 기준으로 stratified k fold 진행\n",
    "    n += 1\n",
    "\n",
    "    val_pred_name = []\n",
    "    val_pred = []      #validation set pred 결과 저장\n",
    "    target_pred = []   #test set pred 결과 저장\n",
    "    \n",
    "    train_X = np.array(data_train_X.drop(\"Range\", axis = 1)) #분배된 학습을 위해 생성한 Range feature 제거\n",
    "    train_Y = np.array(data_train_y)\n",
    "    \n",
    "    X_train, X_valid = train_X[train_index], train_X[valid_index]\n",
    "    y_train, y_valid = train_Y[train_index], train_Y[valid_index]\n",
    "    \n",
    "    X_test = np.array(test)\n",
    "\n",
    "    ### Create Model ###\n",
    "    \n",
    "    ### RandomForestRegressor ###\n",
    "    model = RandomForestRegressor(n_estimators=500, max_depth=16, random_state=42, criterion='mae') #추가적으로 하이퍼파라미터 튜닝 필요\n",
    "#     grid_search = GridSearchCV(model, param_rf, cv=5)\n",
    "#     grid_search.fit(X_train, y_train)\n",
    "#     print(\"RandomForestRegressor best param is : \", grid_search.best_params_)\n",
    "#     model = grid_search.best_estimator_\n",
    "    model.fit(X_train, y_train) # 모델 학습\n",
    "    \n",
    "    val_pred_name.append(\"RandomForestRegressor\")      # 모델 이름 저장\n",
    "    val_pred.append(model.predict(X_valid))   # validation set pred 결과 저장\n",
    "    target_pred.append(model.predict(X_test)) # test set pred 결과 저장\n",
    "    \n",
    "    ### XGBRegressor ###\n",
    "    model = XGBRegressor(n_estimators=200, max_depth=8, random_state=42) #추가적으로 하이퍼파라미터 튜닝 필요\n",
    "#     grid_search = GridSearchCV(model, param_xgb, cv=5)\n",
    "#     grid_search.fit(X_train, y_train)\n",
    "#     print(\"XGBRegressor best param is : \", grid_search.best_params_)\n",
    "#     model = grid_search.best_estimator_\n",
    "    model.fit(X_train, y_train)\n",
    "    \n",
    "    val_pred_name.append(\"XGBRegressor\")\n",
    "    val_pred.append(model.predict(X_valid))   # validation set pred 결과 저장\n",
    "    target_pred.append(model.predict(X_test)) # test set pred 결과 저장\n",
    "    \n",
    "    ### CatBoostRegressor ###\n",
    "    model = CatBoostRegressor(n_estimators=1200, max_depth=8, random_state=42, verbose=0) #추가적으로 하이퍼파라미터 튜닝 필요\n",
    "#     grid_search = GridSearchCV(model, param_cat, cv=5)\n",
    "#     grid_search.fit(X_train, y_train)\n",
    "#     print(\"CatBoostRegressor best param is : \", grid_search.best_params_)\n",
    "#     model = grid_search.best_estimator_\n",
    "    model.fit(X_train, y_train)\n",
    "    \n",
    "    val_pred_name.append(\"CatBoostRegressor\")\n",
    "    val_pred.append(model.predict(X_valid))   # validation set pred 결과 저장\n",
    "    target_pred.append(model.predict(X_test)) # test set pred 결과 저장\n",
    "    \n",
    "\n",
    "    ### voting ###\n",
    "    ### average validation pred ###\n",
    "    preds = np.array(val_pred[0])\n",
    "    for i in range(1, len(val_pred)):\n",
    "        preds += val_pred[i]\n",
    "    \n",
    "    preds = preds/len(val_pred)\n",
    "    \n",
    "    ### average target pred ###\n",
    "    target_preds = np.array(target_pred[0])\n",
    "    for i in range(1, len(target_pred)):\n",
    "        target_preds += target_pred[i]\n",
    "    \n",
    "    target_preds = target_preds/len(target_pred)\n",
    "    print(f\"target_preds is {target_preds}\")\n",
    "    \n",
    "    fold_target_pred.append(target_preds) # append final target pred\n",
    "    \n",
    "    print(f\"========== fold {n} ==========\")\n",
    "    for i in range(len(val_pred)):\n",
    "        print(f\"{val_pred_name[i]} model NMAE : { NMAE(y_valid, val_pred[i].astype(int))}\")\n",
    "    print(\"==============================\")\n",
    "    print(f\"Average NMAE { NMAE(y_valid, preds.astype(int))}\")\n",
    "    print(\"\")\n",
    "    \n",
    "    fold_score.append(NMAE(y_valid, preds.astype(int)))\n",
    "\n",
    "\n",
    "total_score = fold_score[0]\n",
    "for i in range(2, len(fold_score), 1):\n",
    "    total_score += fold_score[i]\n",
    "total_score = total_score/(len(fold_score))    \n",
    "\n",
    "print(\"==============================\")\n",
    "print(\"Total Average NMAE %0.4f\" %(total_score)) #최종 average score 출력"
   ]
  },
  {
   "cell_type": "markdown",
   "id": "a8d8556a",
   "metadata": {},
   "source": [
    "- GridSearch를 통해 적절한 파라미터를 찾은 후 학습 시간이 오래걸려 직접 파라미터를 설정해줌"
   ]
  },
  {
   "cell_type": "code",
   "execution_count": 23,
   "id": "f46ec1ab",
   "metadata": {},
   "outputs": [],
   "source": [
    "### average target pred ###\n",
    "final_pred = np.array(fold_target_pred[0])\n",
    "for i in range(1, len(fold_target_pred)):\n",
    "    final_pred += fold_target_pred[i]\n",
    "\n",
    "final_pred = final_pred/len(fold_target_pred)\n",
    "final_pred = final_pred.astype(int)"
   ]
  },
  {
   "cell_type": "code",
   "execution_count": 24,
   "id": "16c18cfa",
   "metadata": {},
   "outputs": [
    {
     "data": {
      "text/plain": [
       "[array([ 542.51302311,  854.94371919,  820.92931669, ...,   71.55524942,\n",
       "        1139.28816156,  170.51270031]),\n",
       " array([539.91140865, 694.67004579, 781.64323739, ...,  71.44853359,\n",
       "        915.83113364, 129.23199162]),\n",
       " array([ 529.38427765,  795.67746483,  853.68417497, ...,   69.86125625,\n",
       "        1126.47639907,  129.12807988]),\n",
       " array([ 523.93963315,  760.98556923,  794.64986587, ...,   74.38689323,\n",
       "        1110.04126868,  128.83506687]),\n",
       " array([ 526.24710682,  704.39761526,  820.6822612 , ...,   72.0448749 ,\n",
       "        1104.40211811,  129.73739528]),\n",
       " array([ 538.66419697,  765.16016105,  861.78822125, ...,   69.30986125,\n",
       "        1045.57084507,  130.12526319]),\n",
       " array([ 581.47513427,  816.84154218,  812.43129205, ...,   70.02382742,\n",
       "        1110.41672554,  129.12300078]),\n",
       " array([ 495.12697291,  873.4642494 ,  847.29562958, ...,   72.73325611,\n",
       "        1059.91304606,  129.27105018]),\n",
       " array([ 486.84056298,  779.01528614,  863.28283651, ...,   74.70948423,\n",
       "        1138.59214978,  128.84160362]),\n",
       " array([ 566.95071077,  684.65223644,  831.81887453, ...,   71.56080036,\n",
       "        1036.01820637,  129.26100253])]"
      ]
     },
     "execution_count": 24,
     "metadata": {},
     "output_type": "execute_result"
    }
   ],
   "source": [
    "fold_target_pred"
   ]
  },
  {
   "cell_type": "code",
   "execution_count": 25,
   "id": "bcc5362b",
   "metadata": {},
   "outputs": [
    {
     "data": {
      "text/plain": [
       "array([ 533,  772,  828, ...,   71, 1078,  133])"
      ]
     },
     "execution_count": 25,
     "metadata": {},
     "output_type": "execute_result"
    }
   ],
   "source": [
    "final_pred"
   ]
  },
  {
   "cell_type": "code",
   "execution_count": 26,
   "id": "487451b3",
   "metadata": {
    "scrolled": true
   },
   "outputs": [
    {
     "data": {
      "text/html": [
       "<div>\n",
       "<style scoped>\n",
       "    .dataframe tbody tr th:only-of-type {\n",
       "        vertical-align: middle;\n",
       "    }\n",
       "\n",
       "    .dataframe tbody tr th {\n",
       "        vertical-align: top;\n",
       "    }\n",
       "\n",
       "    .dataframe thead th {\n",
       "        text-align: right;\n",
       "    }\n",
       "</style>\n",
       "<table border=\"1\" class=\"dataframe\">\n",
       "  <thead>\n",
       "    <tr style=\"text-align: right;\">\n",
       "      <th></th>\n",
       "      <th>id</th>\n",
       "      <th>target</th>\n",
       "    </tr>\n",
       "  </thead>\n",
       "  <tbody>\n",
       "    <tr>\n",
       "      <th>0</th>\n",
       "      <td>0</td>\n",
       "      <td>0</td>\n",
       "    </tr>\n",
       "    <tr>\n",
       "      <th>1</th>\n",
       "      <td>1</td>\n",
       "      <td>0</td>\n",
       "    </tr>\n",
       "    <tr>\n",
       "      <th>2</th>\n",
       "      <td>2</td>\n",
       "      <td>0</td>\n",
       "    </tr>\n",
       "    <tr>\n",
       "      <th>3</th>\n",
       "      <td>3</td>\n",
       "      <td>0</td>\n",
       "    </tr>\n",
       "    <tr>\n",
       "      <th>4</th>\n",
       "      <td>4</td>\n",
       "      <td>0</td>\n",
       "    </tr>\n",
       "  </tbody>\n",
       "</table>\n",
       "</div>"
      ],
      "text/plain": [
       "   id  target\n",
       "0   0       0\n",
       "1   1       0\n",
       "2   2       0\n",
       "3   3       0\n",
       "4   4       0"
      ]
     },
     "execution_count": 26,
     "metadata": {},
     "output_type": "execute_result"
    }
   ],
   "source": [
    "submission = pd.read_csv(\"data/sample_submission.csv\")\n",
    "submission.head()"
   ]
  },
  {
   "cell_type": "code",
   "execution_count": 27,
   "id": "380f5042",
   "metadata": {
    "scrolled": false
   },
   "outputs": [
    {
     "data": {
      "text/html": [
       "<div>\n",
       "<style scoped>\n",
       "    .dataframe tbody tr th:only-of-type {\n",
       "        vertical-align: middle;\n",
       "    }\n",
       "\n",
       "    .dataframe tbody tr th {\n",
       "        vertical-align: top;\n",
       "    }\n",
       "\n",
       "    .dataframe thead th {\n",
       "        text-align: right;\n",
       "    }\n",
       "</style>\n",
       "<table border=\"1\" class=\"dataframe\">\n",
       "  <thead>\n",
       "    <tr style=\"text-align: right;\">\n",
       "      <th></th>\n",
       "      <th>id</th>\n",
       "      <th>target</th>\n",
       "    </tr>\n",
       "  </thead>\n",
       "  <tbody>\n",
       "    <tr>\n",
       "      <th>0</th>\n",
       "      <td>0</td>\n",
       "      <td>533</td>\n",
       "    </tr>\n",
       "    <tr>\n",
       "      <th>1</th>\n",
       "      <td>1</td>\n",
       "      <td>772</td>\n",
       "    </tr>\n",
       "    <tr>\n",
       "      <th>2</th>\n",
       "      <td>2</td>\n",
       "      <td>828</td>\n",
       "    </tr>\n",
       "    <tr>\n",
       "      <th>3</th>\n",
       "      <td>3</td>\n",
       "      <td>1286</td>\n",
       "    </tr>\n",
       "    <tr>\n",
       "      <th>4</th>\n",
       "      <td>4</td>\n",
       "      <td>1386</td>\n",
       "    </tr>\n",
       "  </tbody>\n",
       "</table>\n",
       "</div>"
      ],
      "text/plain": [
       "   id  target\n",
       "0   0     533\n",
       "1   1     772\n",
       "2   2     828\n",
       "3   3    1286\n",
       "4   4    1386"
      ]
     },
     "execution_count": 27,
     "metadata": {},
     "output_type": "execute_result"
    }
   ],
   "source": [
    "submission['target'] = final_pred\n",
    "submission.head()"
   ]
  },
  {
   "cell_type": "code",
   "execution_count": 28,
   "id": "b18c42e6",
   "metadata": {},
   "outputs": [],
   "source": [
    "submission.to_csv(\"submission_baseline8.csv\",index=False)"
   ]
  }
 ],
 "metadata": {
  "kernelspec": {
   "display_name": "Python 3 (ipykernel)",
   "language": "python",
   "name": "python3"
  },
  "language_info": {
   "codemirror_mode": {
    "name": "ipython",
    "version": 3
   },
   "file_extension": ".py",
   "mimetype": "text/x-python",
   "name": "python",
   "nbconvert_exporter": "python",
   "pygments_lexer": "ipython3",
   "version": "3.9.7"
  }
 },
 "nbformat": 4,
 "nbformat_minor": 5
}
