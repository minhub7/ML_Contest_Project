{
 "cells": [
  {
   "cell_type": "markdown",
   "id": "8f42cf7d",
   "metadata": {},
   "source": [
    "# 소비자 데이터를 바탕으로 고객의 제품 총 소비량 예측"
   ]
  },
  {
   "cell_type": "code",
   "execution_count": 1,
   "id": "0905366f",
   "metadata": {},
   "outputs": [],
   "source": [
    "import pandas as pd\n",
    "import numpy as np\n",
    "import matplotlib.pyplot as plt\n",
    "import seaborn as sns\n",
    "from sklearn.preprocessing import MinMaxScaler\n",
    "\n",
    "import warnings\n",
    "warnings.simplefilter(action='ignore', category=FutureWarning) \n",
    "pd.set_option('mode.chained_assignment',  None)"
   ]
  },
  {
   "cell_type": "markdown",
   "id": "cf848131",
   "metadata": {},
   "source": [
    "## 1. 데이터 불러오기 및 EDA"
   ]
  },
  {
   "cell_type": "code",
   "execution_count": 2,
   "id": "6d1d3f61",
   "metadata": {},
   "outputs": [
    {
     "data": {
      "text/html": [
       "<div>\n",
       "<style scoped>\n",
       "    .dataframe tbody tr th:only-of-type {\n",
       "        vertical-align: middle;\n",
       "    }\n",
       "\n",
       "    .dataframe tbody tr th {\n",
       "        vertical-align: top;\n",
       "    }\n",
       "\n",
       "    .dataframe thead th {\n",
       "        text-align: right;\n",
       "    }\n",
       "</style>\n",
       "<table border=\"1\" class=\"dataframe\">\n",
       "  <thead>\n",
       "    <tr style=\"text-align: right;\">\n",
       "      <th></th>\n",
       "      <th>id</th>\n",
       "      <th>Year_Birth</th>\n",
       "      <th>Education</th>\n",
       "      <th>Marital_Status</th>\n",
       "      <th>Income</th>\n",
       "      <th>Kidhome</th>\n",
       "      <th>Teenhome</th>\n",
       "      <th>Dt_Customer</th>\n",
       "      <th>Recency</th>\n",
       "      <th>NumDealsPurchases</th>\n",
       "      <th>...</th>\n",
       "      <th>NumStorePurchases</th>\n",
       "      <th>NumWebVisitsMonth</th>\n",
       "      <th>AcceptedCmp3</th>\n",
       "      <th>AcceptedCmp4</th>\n",
       "      <th>AcceptedCmp5</th>\n",
       "      <th>AcceptedCmp1</th>\n",
       "      <th>AcceptedCmp2</th>\n",
       "      <th>Complain</th>\n",
       "      <th>Response</th>\n",
       "      <th>target</th>\n",
       "    </tr>\n",
       "  </thead>\n",
       "  <tbody>\n",
       "    <tr>\n",
       "      <th>0</th>\n",
       "      <td>0</td>\n",
       "      <td>1974</td>\n",
       "      <td>Master</td>\n",
       "      <td>Together</td>\n",
       "      <td>46014.0</td>\n",
       "      <td>1</td>\n",
       "      <td>1</td>\n",
       "      <td>21-01-2013</td>\n",
       "      <td>21</td>\n",
       "      <td>10</td>\n",
       "      <td>...</td>\n",
       "      <td>8</td>\n",
       "      <td>7</td>\n",
       "      <td>0</td>\n",
       "      <td>0</td>\n",
       "      <td>0</td>\n",
       "      <td>0</td>\n",
       "      <td>0</td>\n",
       "      <td>0</td>\n",
       "      <td>0</td>\n",
       "      <td>541</td>\n",
       "    </tr>\n",
       "    <tr>\n",
       "      <th>1</th>\n",
       "      <td>1</td>\n",
       "      <td>1962</td>\n",
       "      <td>Graduation</td>\n",
       "      <td>Single</td>\n",
       "      <td>76624.0</td>\n",
       "      <td>0</td>\n",
       "      <td>1</td>\n",
       "      <td>24-05-2014</td>\n",
       "      <td>68</td>\n",
       "      <td>1</td>\n",
       "      <td>...</td>\n",
       "      <td>7</td>\n",
       "      <td>1</td>\n",
       "      <td>1</td>\n",
       "      <td>0</td>\n",
       "      <td>0</td>\n",
       "      <td>0</td>\n",
       "      <td>0</td>\n",
       "      <td>0</td>\n",
       "      <td>0</td>\n",
       "      <td>899</td>\n",
       "    </tr>\n",
       "    <tr>\n",
       "      <th>2</th>\n",
       "      <td>2</td>\n",
       "      <td>1951</td>\n",
       "      <td>Graduation</td>\n",
       "      <td>Married</td>\n",
       "      <td>75903.0</td>\n",
       "      <td>0</td>\n",
       "      <td>1</td>\n",
       "      <td>08-04-2013</td>\n",
       "      <td>50</td>\n",
       "      <td>2</td>\n",
       "      <td>...</td>\n",
       "      <td>9</td>\n",
       "      <td>3</td>\n",
       "      <td>0</td>\n",
       "      <td>0</td>\n",
       "      <td>0</td>\n",
       "      <td>0</td>\n",
       "      <td>0</td>\n",
       "      <td>0</td>\n",
       "      <td>0</td>\n",
       "      <td>901</td>\n",
       "    </tr>\n",
       "    <tr>\n",
       "      <th>3</th>\n",
       "      <td>3</td>\n",
       "      <td>1974</td>\n",
       "      <td>Basic</td>\n",
       "      <td>Married</td>\n",
       "      <td>18393.0</td>\n",
       "      <td>1</td>\n",
       "      <td>0</td>\n",
       "      <td>29-03-2014</td>\n",
       "      <td>2</td>\n",
       "      <td>2</td>\n",
       "      <td>...</td>\n",
       "      <td>3</td>\n",
       "      <td>8</td>\n",
       "      <td>0</td>\n",
       "      <td>0</td>\n",
       "      <td>0</td>\n",
       "      <td>0</td>\n",
       "      <td>0</td>\n",
       "      <td>0</td>\n",
       "      <td>0</td>\n",
       "      <td>50</td>\n",
       "    </tr>\n",
       "    <tr>\n",
       "      <th>4</th>\n",
       "      <td>4</td>\n",
       "      <td>1946</td>\n",
       "      <td>PhD</td>\n",
       "      <td>Together</td>\n",
       "      <td>64014.0</td>\n",
       "      <td>2</td>\n",
       "      <td>1</td>\n",
       "      <td>10-06-2014</td>\n",
       "      <td>56</td>\n",
       "      <td>7</td>\n",
       "      <td>...</td>\n",
       "      <td>5</td>\n",
       "      <td>7</td>\n",
       "      <td>0</td>\n",
       "      <td>0</td>\n",
       "      <td>0</td>\n",
       "      <td>1</td>\n",
       "      <td>0</td>\n",
       "      <td>0</td>\n",
       "      <td>0</td>\n",
       "      <td>444</td>\n",
       "    </tr>\n",
       "  </tbody>\n",
       "</table>\n",
       "<p>5 rows × 22 columns</p>\n",
       "</div>"
      ],
      "text/plain": [
       "   id  Year_Birth   Education Marital_Status   Income  Kidhome  Teenhome  \\\n",
       "0   0        1974      Master       Together  46014.0        1         1   \n",
       "1   1        1962  Graduation         Single  76624.0        0         1   \n",
       "2   2        1951  Graduation        Married  75903.0        0         1   \n",
       "3   3        1974       Basic        Married  18393.0        1         0   \n",
       "4   4        1946         PhD       Together  64014.0        2         1   \n",
       "\n",
       "  Dt_Customer  Recency  NumDealsPurchases  ...  NumStorePurchases  \\\n",
       "0  21-01-2013       21                 10  ...                  8   \n",
       "1  24-05-2014       68                  1  ...                  7   \n",
       "2  08-04-2013       50                  2  ...                  9   \n",
       "3  29-03-2014        2                  2  ...                  3   \n",
       "4  10-06-2014       56                  7  ...                  5   \n",
       "\n",
       "   NumWebVisitsMonth  AcceptedCmp3  AcceptedCmp4  AcceptedCmp5  AcceptedCmp1  \\\n",
       "0                  7             0             0             0             0   \n",
       "1                  1             1             0             0             0   \n",
       "2                  3             0             0             0             0   \n",
       "3                  8             0             0             0             0   \n",
       "4                  7             0             0             0             1   \n",
       "\n",
       "   AcceptedCmp2  Complain  Response  target  \n",
       "0             0         0         0     541  \n",
       "1             0         0         0     899  \n",
       "2             0         0         0     901  \n",
       "3             0         0         0      50  \n",
       "4             0         0         0     444  \n",
       "\n",
       "[5 rows x 22 columns]"
      ]
     },
     "execution_count": 2,
     "metadata": {},
     "output_type": "execute_result"
    }
   ],
   "source": [
    "# 데이터 불러온 후 확인\n",
    "train = pd.read_csv('data/train.csv')\n",
    "train.head()"
   ]
  },
  {
   "cell_type": "code",
   "execution_count": 3,
   "id": "e678b131",
   "metadata": {
    "scrolled": false
   },
   "outputs": [
    {
     "name": "stdout",
     "output_type": "stream",
     "text": [
      "<class 'pandas.core.frame.DataFrame'>\n",
      "RangeIndex: 1108 entries, 0 to 1107\n",
      "Data columns (total 22 columns):\n",
      " #   Column               Non-Null Count  Dtype  \n",
      "---  ------               --------------  -----  \n",
      " 0   id                   1108 non-null   int64  \n",
      " 1   Year_Birth           1108 non-null   int64  \n",
      " 2   Education            1108 non-null   object \n",
      " 3   Marital_Status       1108 non-null   object \n",
      " 4   Income               1108 non-null   float64\n",
      " 5   Kidhome              1108 non-null   int64  \n",
      " 6   Teenhome             1108 non-null   int64  \n",
      " 7   Dt_Customer          1108 non-null   object \n",
      " 8   Recency              1108 non-null   int64  \n",
      " 9   NumDealsPurchases    1108 non-null   int64  \n",
      " 10  NumWebPurchases      1108 non-null   int64  \n",
      " 11  NumCatalogPurchases  1108 non-null   int64  \n",
      " 12  NumStorePurchases    1108 non-null   int64  \n",
      " 13  NumWebVisitsMonth    1108 non-null   int64  \n",
      " 14  AcceptedCmp3         1108 non-null   int64  \n",
      " 15  AcceptedCmp4         1108 non-null   int64  \n",
      " 16  AcceptedCmp5         1108 non-null   int64  \n",
      " 17  AcceptedCmp1         1108 non-null   int64  \n",
      " 18  AcceptedCmp2         1108 non-null   int64  \n",
      " 19  Complain             1108 non-null   int64  \n",
      " 20  Response             1108 non-null   int64  \n",
      " 21  target               1108 non-null   int64  \n",
      "dtypes: float64(1), int64(18), object(3)\n",
      "memory usage: 190.6+ KB\n"
     ]
    }
   ],
   "source": [
    "# 훈련 데이터 정보 확인\n",
    "train.info()"
   ]
  },
  {
   "cell_type": "code",
   "execution_count": 4,
   "id": "69aca0e3",
   "metadata": {},
   "outputs": [
    {
     "data": {
      "text/plain": [
       "count    1108.000000\n",
       "mean      617.121841\n",
       "std       603.587972\n",
       "min         6.000000\n",
       "25%        70.750000\n",
       "50%       412.000000\n",
       "75%      1068.750000\n",
       "max      2525.000000\n",
       "Name: target, dtype: float64"
      ]
     },
     "execution_count": 4,
     "metadata": {},
     "output_type": "execute_result"
    }
   ],
   "source": [
    "train.target.describe()"
   ]
  },
  {
   "cell_type": "markdown",
   "id": "34411263",
   "metadata": {},
   "source": [
    "### target 값 분포 확인 (대부분 0~400) 사이에 분포"
   ]
  },
  {
   "cell_type": "code",
   "execution_count": 5,
   "id": "dbda1107",
   "metadata": {
    "scrolled": true
   },
   "outputs": [
    {
     "data": {
      "image/png": "[encoded data removed]",
      "text/plain": [
       "<Figure size 864x432 with 1 Axes>"
      ]
     },
     "metadata": {
      "needs_background": "light"
     },
     "output_type": "display_data"
    }
   ],
   "source": [
    "plt.figure(figsize=(12, 6))\n",
    "sns.distplot(train.target, bins=200)\n",
    "plt.title(\"target y distribution\")\n",
    "plt.show()"
   ]
  },
  {
   "cell_type": "markdown",
   "id": "943f8af3",
   "metadata": {},
   "source": [
    "## 데이터 전처리"
   ]
  },
  {
   "cell_type": "markdown",
   "id": "649dd294",
   "metadata": {},
   "source": [
    "#### - 100세 이상 이상치로 제거"
   ]
  },
  {
   "cell_type": "code",
   "execution_count": 6,
   "id": "d9d9b297",
   "metadata": {},
   "outputs": [],
   "source": [
    "train = train.loc[(2022-train['Year_Birth']+1)<100,:].reset_index(drop=True)"
   ]
  },
  {
   "cell_type": "code",
   "execution_count": 7,
   "id": "d3d2ff02",
   "metadata": {},
   "outputs": [
    {
     "data": {
      "image/png": "[encoded data removed]",
      "text/plain": [
       "<Figure size 864x360 with 1 Axes>"
      ]
     },
     "metadata": {
      "needs_background": "light"
     },
     "output_type": "display_data"
    }
   ],
   "source": [
    "plt.figure(figsize=(12,5))\n",
    "sns.countplot(x='Year_Birth',data=train)\n",
    "plt.xticks(rotation=90);plt.title('Year_Birth distribution(age under 100)')\n",
    "plt.show()"
   ]
  },
  {
   "cell_type": "markdown",
   "id": "69b74348",
   "metadata": {},
   "source": [
    "#### 소득 분포 확인 및 출생 연도에 따른 소득의 총합과 평균값"
   ]
  },
  {
   "cell_type": "code",
   "execution_count": 8,
   "id": "22070bcc",
   "metadata": {},
   "outputs": [
    {
     "data": {
      "image/png": "[encoded data removed]",
      "text/plain": [
       "<Figure size 432x288 with 2 Axes>"
      ]
     },
     "metadata": {
      "needs_background": "light"
     },
     "output_type": "display_data"
    }
   ],
   "source": [
    "fig,ax = plt.subplots(1,2)\n",
    "sns.distplot(x=train.Income, ax=ax[0]);\n",
    "# plt.xticks(rotation=90);\n",
    "plt.title('Income distribution')\n",
    "sns.boxplot(x='Income',data=train, ax=ax[1])\n",
    "plt.tight_layout()\n",
    "plt.show()"
   ]
  },
  {
   "cell_type": "markdown",
   "id": "0a1f2db5",
   "metadata": {},
   "source": [
    "- 150,000 이상의 이상치가 존재함  \n",
    "- 소득은 상관관계가 높으므로 제거하지 않고 진행"
   ]
  },
  {
   "cell_type": "code",
   "execution_count": 9,
   "id": "8f9a5350",
   "metadata": {},
   "outputs": [
    {
     "data": {
      "image/png": "[encoded data removed]",
      "text/plain": [
       "<Figure size 864x360 with 2 Axes>"
      ]
     },
     "metadata": {
      "needs_background": "light"
     },
     "output_type": "display_data"
    }
   ],
   "source": [
    "sample_sum = train[['Year_Birth','Income']].groupby('Year_Birth').sum()\n",
    "sample_mean = train[['Year_Birth','Income']].groupby('Year_Birth').mean()\n",
    "\n",
    "fig,ax = plt.subplots(1,2); fig.set_size_inches(12,5)\n",
    "\n",
    "ax[0].yaxis.set_major_formatter(plt.FormatStrFormatter('%.0f'))\n",
    "ax[0].plot(sample_sum.index,sample_sum.Income,'o--');\n",
    "ax[0].set_title('Income x Year_Birth (sum)')\n",
    "\n",
    "ax[1].plot(sample_mean.index,sample_mean.Income,'o--');\n",
    "ax[1].set_title('Income x Year_Birth (mean)')\n",
    "\n",
    "plt.tight_layout()\n",
    "plt.show()"
   ]
  },
  {
   "cell_type": "markdown",
   "id": "a140c5aa",
   "metadata": {},
   "source": [
    "- 연령대가 높을수록 소득의 평균이 높아짐, 93년생에서 평균 이상의 수치 발견"
   ]
  },
  {
   "cell_type": "markdown",
   "id": "e2d5aa35",
   "metadata": {},
   "source": [
    "#### 출생년도가 아닌 연령대로 묶기"
   ]
  },
  {
   "cell_type": "code",
   "execution_count": 10,
   "id": "eca8104f",
   "metadata": {},
   "outputs": [
    {
     "data": {
      "text/plain": [
       "0       1974\n",
       "1       1962\n",
       "2       1951\n",
       "3       1974\n",
       "4       1946\n",
       "        ... \n",
       "1101    1956\n",
       "1102    1986\n",
       "1103    1975\n",
       "1104    1974\n",
       "1105    1952\n",
       "Name: Year_Birth, Length: 1106, dtype: int64"
      ]
     },
     "execution_count": 10,
     "metadata": {},
     "output_type": "execute_result"
    }
   ],
   "source": [
    "train.Year_Birth"
   ]
  },
  {
   "cell_type": "code",
   "execution_count": 11,
   "id": "bfc5816b",
   "metadata": {},
   "outputs": [
    {
     "data": {
      "text/plain": [
       "0       40\n",
       "1       60\n",
       "2       70\n",
       "3       40\n",
       "4       70\n",
       "        ..\n",
       "1101    60\n",
       "1102    30\n",
       "1103    40\n",
       "1104    40\n",
       "1105    70\n",
       "Name: age_group, Length: 1106, dtype: int64"
      ]
     },
     "execution_count": 11,
     "metadata": {},
     "output_type": "execute_result"
    }
   ],
   "source": [
    "age = [2022 - age + 1 for age in train.Year_Birth + 1]\n",
    "train['age_group'] = [i // 10 * 10 for i in age]\n",
    "train.age_group"
   ]
  },
  {
   "cell_type": "code",
   "execution_count": 12,
   "id": "288c54e9",
   "metadata": {
    "scrolled": false
   },
   "outputs": [
    {
     "data": {
      "text/html": [
       "<div>\n",
       "<style scoped>\n",
       "    .dataframe tbody tr th:only-of-type {\n",
       "        vertical-align: middle;\n",
       "    }\n",
       "\n",
       "    .dataframe tbody tr th {\n",
       "        vertical-align: top;\n",
       "    }\n",
       "\n",
       "    .dataframe thead th {\n",
       "        text-align: right;\n",
       "    }\n",
       "</style>\n",
       "<table border=\"1\" class=\"dataframe\">\n",
       "  <thead>\n",
       "    <tr style=\"text-align: right;\">\n",
       "      <th></th>\n",
       "      <th>id</th>\n",
       "      <th>Year_Birth</th>\n",
       "      <th>Education</th>\n",
       "      <th>Marital_Status</th>\n",
       "      <th>Income</th>\n",
       "      <th>Kidhome</th>\n",
       "      <th>Teenhome</th>\n",
       "      <th>Dt_Customer</th>\n",
       "      <th>Recency</th>\n",
       "      <th>NumDealsPurchases</th>\n",
       "      <th>...</th>\n",
       "      <th>NumWebVisitsMonth</th>\n",
       "      <th>AcceptedCmp3</th>\n",
       "      <th>AcceptedCmp4</th>\n",
       "      <th>AcceptedCmp5</th>\n",
       "      <th>AcceptedCmp1</th>\n",
       "      <th>AcceptedCmp2</th>\n",
       "      <th>Complain</th>\n",
       "      <th>Response</th>\n",
       "      <th>target</th>\n",
       "      <th>age_group</th>\n",
       "    </tr>\n",
       "  </thead>\n",
       "  <tbody>\n",
       "    <tr>\n",
       "      <th>0</th>\n",
       "      <td>0</td>\n",
       "      <td>1974</td>\n",
       "      <td>Master</td>\n",
       "      <td>Together</td>\n",
       "      <td>46014.0</td>\n",
       "      <td>1</td>\n",
       "      <td>1</td>\n",
       "      <td>21-01-2013</td>\n",
       "      <td>21</td>\n",
       "      <td>10</td>\n",
       "      <td>...</td>\n",
       "      <td>7</td>\n",
       "      <td>0</td>\n",
       "      <td>0</td>\n",
       "      <td>0</td>\n",
       "      <td>0</td>\n",
       "      <td>0</td>\n",
       "      <td>0</td>\n",
       "      <td>0</td>\n",
       "      <td>541</td>\n",
       "      <td>40</td>\n",
       "    </tr>\n",
       "    <tr>\n",
       "      <th>1</th>\n",
       "      <td>1</td>\n",
       "      <td>1962</td>\n",
       "      <td>Graduation</td>\n",
       "      <td>Single</td>\n",
       "      <td>76624.0</td>\n",
       "      <td>0</td>\n",
       "      <td>1</td>\n",
       "      <td>24-05-2014</td>\n",
       "      <td>68</td>\n",
       "      <td>1</td>\n",
       "      <td>...</td>\n",
       "      <td>1</td>\n",
       "      <td>1</td>\n",
       "      <td>0</td>\n",
       "      <td>0</td>\n",
       "      <td>0</td>\n",
       "      <td>0</td>\n",
       "      <td>0</td>\n",
       "      <td>0</td>\n",
       "      <td>899</td>\n",
       "      <td>60</td>\n",
       "    </tr>\n",
       "    <tr>\n",
       "      <th>2</th>\n",
       "      <td>2</td>\n",
       "      <td>1951</td>\n",
       "      <td>Graduation</td>\n",
       "      <td>Married</td>\n",
       "      <td>75903.0</td>\n",
       "      <td>0</td>\n",
       "      <td>1</td>\n",
       "      <td>08-04-2013</td>\n",
       "      <td>50</td>\n",
       "      <td>2</td>\n",
       "      <td>...</td>\n",
       "      <td>3</td>\n",
       "      <td>0</td>\n",
       "      <td>0</td>\n",
       "      <td>0</td>\n",
       "      <td>0</td>\n",
       "      <td>0</td>\n",
       "      <td>0</td>\n",
       "      <td>0</td>\n",
       "      <td>901</td>\n",
       "      <td>70</td>\n",
       "    </tr>\n",
       "    <tr>\n",
       "      <th>3</th>\n",
       "      <td>3</td>\n",
       "      <td>1974</td>\n",
       "      <td>Basic</td>\n",
       "      <td>Married</td>\n",
       "      <td>18393.0</td>\n",
       "      <td>1</td>\n",
       "      <td>0</td>\n",
       "      <td>29-03-2014</td>\n",
       "      <td>2</td>\n",
       "      <td>2</td>\n",
       "      <td>...</td>\n",
       "      <td>8</td>\n",
       "      <td>0</td>\n",
       "      <td>0</td>\n",
       "      <td>0</td>\n",
       "      <td>0</td>\n",
       "      <td>0</td>\n",
       "      <td>0</td>\n",
       "      <td>0</td>\n",
       "      <td>50</td>\n",
       "      <td>40</td>\n",
       "    </tr>\n",
       "    <tr>\n",
       "      <th>4</th>\n",
       "      <td>4</td>\n",
       "      <td>1946</td>\n",
       "      <td>PhD</td>\n",
       "      <td>Together</td>\n",
       "      <td>64014.0</td>\n",
       "      <td>2</td>\n",
       "      <td>1</td>\n",
       "      <td>10-06-2014</td>\n",
       "      <td>56</td>\n",
       "      <td>7</td>\n",
       "      <td>...</td>\n",
       "      <td>7</td>\n",
       "      <td>0</td>\n",
       "      <td>0</td>\n",
       "      <td>0</td>\n",
       "      <td>1</td>\n",
       "      <td>0</td>\n",
       "      <td>0</td>\n",
       "      <td>0</td>\n",
       "      <td>444</td>\n",
       "      <td>70</td>\n",
       "    </tr>\n",
       "  </tbody>\n",
       "</table>\n",
       "<p>5 rows × 23 columns</p>\n",
       "</div>"
      ],
      "text/plain": [
       "   id  Year_Birth   Education Marital_Status   Income  Kidhome  Teenhome  \\\n",
       "0   0        1974      Master       Together  46014.0        1         1   \n",
       "1   1        1962  Graduation         Single  76624.0        0         1   \n",
       "2   2        1951  Graduation        Married  75903.0        0         1   \n",
       "3   3        1974       Basic        Married  18393.0        1         0   \n",
       "4   4        1946         PhD       Together  64014.0        2         1   \n",
       "\n",
       "  Dt_Customer  Recency  NumDealsPurchases  ...  NumWebVisitsMonth  \\\n",
       "0  21-01-2013       21                 10  ...                  7   \n",
       "1  24-05-2014       68                  1  ...                  1   \n",
       "2  08-04-2013       50                  2  ...                  3   \n",
       "3  29-03-2014        2                  2  ...                  8   \n",
       "4  10-06-2014       56                  7  ...                  7   \n",
       "\n",
       "   AcceptedCmp3  AcceptedCmp4  AcceptedCmp5  AcceptedCmp1  AcceptedCmp2  \\\n",
       "0             0             0             0             0             0   \n",
       "1             1             0             0             0             0   \n",
       "2             0             0             0             0             0   \n",
       "3             0             0             0             0             0   \n",
       "4             0             0             0             1             0   \n",
       "\n",
       "   Complain  Response  target  age_group  \n",
       "0         0         0     541         40  \n",
       "1         0         0     899         60  \n",
       "2         0         0     901         70  \n",
       "3         0         0      50         40  \n",
       "4         0         0     444         70  \n",
       "\n",
       "[5 rows x 23 columns]"
      ]
     },
     "execution_count": 12,
     "metadata": {},
     "output_type": "execute_result"
    }
   ],
   "source": [
    "train.head()"
   ]
  },
  {
   "cell_type": "markdown",
   "id": "60395cf2",
   "metadata": {},
   "source": [
    "#### 자녀 수와 청소년 수를 binary로 변환"
   ]
  },
  {
   "cell_type": "code",
   "execution_count": 13,
   "id": "be018e7e",
   "metadata": {},
   "outputs": [],
   "source": [
    "def KidTeenToBinary(dataframe):\n",
    "    result = []\n",
    "    for val in train.Kidhome:\n",
    "        if val == 0: result.append(0)\n",
    "        else: result.append(1)\n",
    "    return result\n",
    "\n",
    "train['Kidhome'] = KidTeenToBinary(train)\n",
    "train['Teenhome'] = KidTeenToBinary(train)"
   ]
  },
  {
   "cell_type": "markdown",
   "id": "e7b94ca8",
   "metadata": {},
   "source": [
    "#### 캠페인 참여 횟수를 0과 1로 변환"
   ]
  },
  {
   "cell_type": "code",
   "execution_count": 14,
   "id": "d6213ee9",
   "metadata": {
    "scrolled": true
   },
   "outputs": [],
   "source": [
    "def AcceptedCmp_to_Binary(dataframe):\n",
    "    result = []\n",
    "    for val in train.AcceptedCmp:\n",
    "        if val == 0: result.append(0)\n",
    "        else: result.append(1)\n",
    "    return result\n",
    "\n",
    "train['AcceptedCmp'] = train['AcceptedCmp1'] + train['AcceptedCmp2'] + train['AcceptedCmp3'] + train['AcceptedCmp4'] + train['AcceptedCmp5'] + train['Response']"
   ]
  },
  {
   "cell_type": "code",
   "execution_count": 15,
   "id": "47476372",
   "metadata": {
    "scrolled": true
   },
   "outputs": [
    {
     "data": {
      "text/plain": [
       "count    1106.000000\n",
       "mean        0.453888\n",
       "std         0.885350\n",
       "min         0.000000\n",
       "25%         0.000000\n",
       "50%         0.000000\n",
       "75%         1.000000\n",
       "max         5.000000\n",
       "Name: AcceptedCmp, dtype: float64"
      ]
     },
     "execution_count": 15,
     "metadata": {},
     "output_type": "execute_result"
    }
   ],
   "source": [
    "train.AcceptedCmp.describe()"
   ]
  },
  {
   "cell_type": "code",
   "execution_count": 16,
   "id": "a7c2249d",
   "metadata": {},
   "outputs": [],
   "source": [
    "train['AcceptedCmp'] = AcceptedCmp_to_Binary(train)"
   ]
  },
  {
   "cell_type": "markdown",
   "id": "db632f09",
   "metadata": {},
   "source": [
    "#### Marital_Status의 Alone, YOLO, Absurd를 Single로 통합"
   ]
  },
  {
   "cell_type": "code",
   "execution_count": 17,
   "id": "96c2fd45",
   "metadata": {},
   "outputs": [],
   "source": [
    "for idx, data in enumerate(train.Marital_Status):\n",
    "    if data == 'Alone' or data == 'YOLO' or data == 'Absurd':\n",
    "        train['Marital_Status'][idx] = \"Single\""
   ]
  },
  {
   "cell_type": "code",
   "execution_count": 18,
   "id": "8c6c18fd",
   "metadata": {},
   "outputs": [
    {
     "data": {
      "text/plain": [
       "array(['Together', 'Single', 'Married', 'Widow', 'Divorced'], dtype=object)"
      ]
     },
     "execution_count": 18,
     "metadata": {},
     "output_type": "execute_result"
    }
   ],
   "source": [
    "train.Marital_Status.unique()"
   ]
  },
  {
   "cell_type": "markdown",
   "id": "bc53fef9",
   "metadata": {},
   "source": [
    "#### 구매횟수 통합 및 비중으로 표현"
   ]
  },
  {
   "cell_type": "code",
   "execution_count": 19,
   "id": "6a323912",
   "metadata": {
    "scrolled": false
   },
   "outputs": [],
   "source": [
    "train['TotalPurchases'] = train['NumCatalogPurchases']+train['NumStorePurchases']+train['NumWebPurchases']\n",
    "train['RCatalogPurchases'] = train['NumCatalogPurchases'] / train['TotalPurchases']\n",
    "train['RStorePurchases'] = train['NumStorePurchases'] / train['TotalPurchases']\n",
    "# train['RWebPurchases'] = train['NumWebPurchases'] / train['TotalPurchases']"
   ]
  },
  {
   "cell_type": "code",
   "execution_count": 20,
   "id": "efe8d146",
   "metadata": {},
   "outputs": [],
   "source": [
    "train = train.fillna(0)"
   ]
  },
  {
   "cell_type": "markdown",
   "id": "86b0aa7b",
   "metadata": {},
   "source": [
    "#### 상관 관계가 없다고 생각되는 Dt_Customer와 이미 전처리가 진행된 열 삭제"
   ]
  },
  {
   "cell_type": "code",
   "execution_count": 21,
   "id": "e5d7e09d",
   "metadata": {
    "scrolled": false
   },
   "outputs": [
    {
     "data": {
      "text/plain": [
       "(1106, 15)"
      ]
     },
     "execution_count": 21,
     "metadata": {},
     "output_type": "execute_result"
    }
   ],
   "source": [
    "train = train.drop(['Year_Birth', 'Dt_Customer', 'Recency', 'NumCatalogPurchases', 'NumStorePurchases', 'NumWebPurchases', 'AcceptedCmp1', 'AcceptedCmp2', 'AcceptedCmp3', 'AcceptedCmp4', 'AcceptedCmp5', 'Response'], axis = 1)\n",
    "train.shape"
   ]
  },
  {
   "cell_type": "code",
   "execution_count": 22,
   "id": "48117a05",
   "metadata": {},
   "outputs": [
    {
     "name": "stdout",
     "output_type": "stream",
     "text": [
      "결측치가 존재하지 않습니다\n"
     ]
    }
   ],
   "source": [
    "# 결측치 존재 여부 확인\n",
    "def check_missing_col(dataframe):\n",
    "    missing_col = []\n",
    "    counted_missing_col = 0\n",
    "    for i, col in enumerate(dataframe.columns):\n",
    "        missing_values = sum(dataframe[col].isna())\n",
    "        is_missing = True if missing_values >= 1 else False\n",
    "        if is_missing:\n",
    "            counted_missing_col += 1\n",
    "            print(f'결측치가 있는 컬럼은: {col}입니다')\n",
    "            print(f'해당 컬럼에 총 {missing_values}개의 결측치가 존재합니다.')\n",
    "            missing_col.append([col, dataframe[col].dtype])\n",
    "    if counted_missing_col == 0:\n",
    "        print('결측치가 존재하지 않습니다')\n",
    "    return missing_col\n",
    "\n",
    "missing_col = check_missing_col(train)"
   ]
  },
  {
   "cell_type": "code",
   "execution_count": 23,
   "id": "53f2a069",
   "metadata": {
    "scrolled": false
   },
   "outputs": [
    {
     "data": {
      "text/html": [
       "<div>\n",
       "<style scoped>\n",
       "    .dataframe tbody tr th:only-of-type {\n",
       "        vertical-align: middle;\n",
       "    }\n",
       "\n",
       "    .dataframe tbody tr th {\n",
       "        vertical-align: top;\n",
       "    }\n",
       "\n",
       "    .dataframe thead th {\n",
       "        text-align: right;\n",
       "    }\n",
       "</style>\n",
       "<table border=\"1\" class=\"dataframe\">\n",
       "  <thead>\n",
       "    <tr style=\"text-align: right;\">\n",
       "      <th></th>\n",
       "      <th>id</th>\n",
       "      <th>Education</th>\n",
       "      <th>Marital_Status</th>\n",
       "      <th>Income</th>\n",
       "      <th>Kidhome</th>\n",
       "      <th>Teenhome</th>\n",
       "      <th>NumDealsPurchases</th>\n",
       "      <th>NumWebVisitsMonth</th>\n",
       "      <th>Complain</th>\n",
       "      <th>target</th>\n",
       "      <th>age_group</th>\n",
       "      <th>AcceptedCmp</th>\n",
       "      <th>TotalPurchases</th>\n",
       "      <th>RCatalogPurchases</th>\n",
       "      <th>RStorePurchases</th>\n",
       "    </tr>\n",
       "  </thead>\n",
       "  <tbody>\n",
       "    <tr>\n",
       "      <th>0</th>\n",
       "      <td>0</td>\n",
       "      <td>Master</td>\n",
       "      <td>Together</td>\n",
       "      <td>46014.0</td>\n",
       "      <td>1</td>\n",
       "      <td>1</td>\n",
       "      <td>10</td>\n",
       "      <td>7</td>\n",
       "      <td>0</td>\n",
       "      <td>541</td>\n",
       "      <td>40</td>\n",
       "      <td>0</td>\n",
       "      <td>16</td>\n",
       "      <td>0.062500</td>\n",
       "      <td>0.500000</td>\n",
       "    </tr>\n",
       "    <tr>\n",
       "      <th>1</th>\n",
       "      <td>1</td>\n",
       "      <td>Graduation</td>\n",
       "      <td>Single</td>\n",
       "      <td>76624.0</td>\n",
       "      <td>0</td>\n",
       "      <td>0</td>\n",
       "      <td>1</td>\n",
       "      <td>1</td>\n",
       "      <td>0</td>\n",
       "      <td>899</td>\n",
       "      <td>60</td>\n",
       "      <td>1</td>\n",
       "      <td>22</td>\n",
       "      <td>0.454545</td>\n",
       "      <td>0.318182</td>\n",
       "    </tr>\n",
       "    <tr>\n",
       "      <th>2</th>\n",
       "      <td>2</td>\n",
       "      <td>Graduation</td>\n",
       "      <td>Married</td>\n",
       "      <td>75903.0</td>\n",
       "      <td>0</td>\n",
       "      <td>0</td>\n",
       "      <td>2</td>\n",
       "      <td>3</td>\n",
       "      <td>0</td>\n",
       "      <td>901</td>\n",
       "      <td>70</td>\n",
       "      <td>0</td>\n",
       "      <td>21</td>\n",
       "      <td>0.285714</td>\n",
       "      <td>0.428571</td>\n",
       "    </tr>\n",
       "    <tr>\n",
       "      <th>3</th>\n",
       "      <td>3</td>\n",
       "      <td>Basic</td>\n",
       "      <td>Married</td>\n",
       "      <td>18393.0</td>\n",
       "      <td>1</td>\n",
       "      <td>1</td>\n",
       "      <td>2</td>\n",
       "      <td>8</td>\n",
       "      <td>0</td>\n",
       "      <td>50</td>\n",
       "      <td>40</td>\n",
       "      <td>0</td>\n",
       "      <td>6</td>\n",
       "      <td>0.000000</td>\n",
       "      <td>0.500000</td>\n",
       "    </tr>\n",
       "    <tr>\n",
       "      <th>4</th>\n",
       "      <td>4</td>\n",
       "      <td>PhD</td>\n",
       "      <td>Together</td>\n",
       "      <td>64014.0</td>\n",
       "      <td>1</td>\n",
       "      <td>1</td>\n",
       "      <td>7</td>\n",
       "      <td>7</td>\n",
       "      <td>0</td>\n",
       "      <td>444</td>\n",
       "      <td>70</td>\n",
       "      <td>1</td>\n",
       "      <td>15</td>\n",
       "      <td>0.133333</td>\n",
       "      <td>0.333333</td>\n",
       "    </tr>\n",
       "  </tbody>\n",
       "</table>\n",
       "</div>"
      ],
      "text/plain": [
       "   id   Education Marital_Status   Income  Kidhome  Teenhome  \\\n",
       "0   0      Master       Together  46014.0        1         1   \n",
       "1   1  Graduation         Single  76624.0        0         0   \n",
       "2   2  Graduation        Married  75903.0        0         0   \n",
       "3   3       Basic        Married  18393.0        1         1   \n",
       "4   4         PhD       Together  64014.0        1         1   \n",
       "\n",
       "   NumDealsPurchases  NumWebVisitsMonth  Complain  target  age_group  \\\n",
       "0                 10                  7         0     541         40   \n",
       "1                  1                  1         0     899         60   \n",
       "2                  2                  3         0     901         70   \n",
       "3                  2                  8         0      50         40   \n",
       "4                  7                  7         0     444         70   \n",
       "\n",
       "   AcceptedCmp  TotalPurchases  RCatalogPurchases  RStorePurchases  \n",
       "0            0              16           0.062500         0.500000  \n",
       "1            1              22           0.454545         0.318182  \n",
       "2            0              21           0.285714         0.428571  \n",
       "3            0               6           0.000000         0.500000  \n",
       "4            1              15           0.133333         0.333333  "
      ]
     },
     "execution_count": 23,
     "metadata": {},
     "output_type": "execute_result"
    }
   ],
   "source": [
    "train.head()"
   ]
  },
  {
   "cell_type": "code",
   "execution_count": 24,
   "id": "f8dcf748",
   "metadata": {
    "scrolled": false
   },
   "outputs": [
    {
     "name": "stdout",
     "output_type": "stream",
     "text": [
      "<class 'pandas.core.frame.DataFrame'>\n",
      "RangeIndex: 1106 entries, 0 to 1105\n",
      "Data columns (total 15 columns):\n",
      " #   Column             Non-Null Count  Dtype  \n",
      "---  ------             --------------  -----  \n",
      " 0   id                 1106 non-null   int64  \n",
      " 1   Education          1106 non-null   object \n",
      " 2   Marital_Status     1106 non-null   object \n",
      " 3   Income             1106 non-null   float64\n",
      " 4   Kidhome            1106 non-null   int64  \n",
      " 5   Teenhome           1106 non-null   int64  \n",
      " 6   NumDealsPurchases  1106 non-null   int64  \n",
      " 7   NumWebVisitsMonth  1106 non-null   int64  \n",
      " 8   Complain           1106 non-null   int64  \n",
      " 9   target             1106 non-null   int64  \n",
      " 10  age_group          1106 non-null   int64  \n",
      " 11  AcceptedCmp        1106 non-null   int64  \n",
      " 12  TotalPurchases     1106 non-null   int64  \n",
      " 13  RCatalogPurchases  1106 non-null   float64\n",
      " 14  RStorePurchases    1106 non-null   float64\n",
      "dtypes: float64(3), int64(10), object(2)\n",
      "memory usage: 129.7+ KB\n"
     ]
    }
   ],
   "source": [
    "train.info()"
   ]
  },
  {
   "cell_type": "markdown",
   "id": "e67001a2",
   "metadata": {},
   "source": [
    "### 카테고리 데이터 인코딩"
   ]
  },
  {
   "cell_type": "code",
   "execution_count": 25,
   "id": "94d6e4cc",
   "metadata": {},
   "outputs": [
    {
     "data": {
      "text/html": [
       "<div>\n",
       "<style scoped>\n",
       "    .dataframe tbody tr th:only-of-type {\n",
       "        vertical-align: middle;\n",
       "    }\n",
       "\n",
       "    .dataframe tbody tr th {\n",
       "        vertical-align: top;\n",
       "    }\n",
       "\n",
       "    .dataframe thead th {\n",
       "        text-align: right;\n",
       "    }\n",
       "</style>\n",
       "<table border=\"1\" class=\"dataframe\">\n",
       "  <thead>\n",
       "    <tr style=\"text-align: right;\">\n",
       "      <th></th>\n",
       "      <th>id</th>\n",
       "      <th>Education</th>\n",
       "      <th>Marital_Status</th>\n",
       "      <th>Income</th>\n",
       "      <th>Kidhome</th>\n",
       "      <th>Teenhome</th>\n",
       "      <th>NumDealsPurchases</th>\n",
       "      <th>NumWebVisitsMonth</th>\n",
       "      <th>Complain</th>\n",
       "      <th>target</th>\n",
       "      <th>age_group</th>\n",
       "      <th>AcceptedCmp</th>\n",
       "      <th>TotalPurchases</th>\n",
       "      <th>RCatalogPurchases</th>\n",
       "      <th>RStorePurchases</th>\n",
       "    </tr>\n",
       "  </thead>\n",
       "  <tbody>\n",
       "    <tr>\n",
       "      <th>0</th>\n",
       "      <td>0</td>\n",
       "      <td>0</td>\n",
       "      <td>0</td>\n",
       "      <td>46014.0</td>\n",
       "      <td>1</td>\n",
       "      <td>1</td>\n",
       "      <td>10</td>\n",
       "      <td>7</td>\n",
       "      <td>0</td>\n",
       "      <td>541</td>\n",
       "      <td>40</td>\n",
       "      <td>0</td>\n",
       "      <td>16</td>\n",
       "      <td>0.062500</td>\n",
       "      <td>0.500000</td>\n",
       "    </tr>\n",
       "    <tr>\n",
       "      <th>1</th>\n",
       "      <td>1</td>\n",
       "      <td>1</td>\n",
       "      <td>1</td>\n",
       "      <td>76624.0</td>\n",
       "      <td>0</td>\n",
       "      <td>0</td>\n",
       "      <td>1</td>\n",
       "      <td>1</td>\n",
       "      <td>0</td>\n",
       "      <td>899</td>\n",
       "      <td>60</td>\n",
       "      <td>1</td>\n",
       "      <td>22</td>\n",
       "      <td>0.454545</td>\n",
       "      <td>0.318182</td>\n",
       "    </tr>\n",
       "    <tr>\n",
       "      <th>2</th>\n",
       "      <td>2</td>\n",
       "      <td>1</td>\n",
       "      <td>2</td>\n",
       "      <td>75903.0</td>\n",
       "      <td>0</td>\n",
       "      <td>0</td>\n",
       "      <td>2</td>\n",
       "      <td>3</td>\n",
       "      <td>0</td>\n",
       "      <td>901</td>\n",
       "      <td>70</td>\n",
       "      <td>0</td>\n",
       "      <td>21</td>\n",
       "      <td>0.285714</td>\n",
       "      <td>0.428571</td>\n",
       "    </tr>\n",
       "    <tr>\n",
       "      <th>3</th>\n",
       "      <td>3</td>\n",
       "      <td>2</td>\n",
       "      <td>2</td>\n",
       "      <td>18393.0</td>\n",
       "      <td>1</td>\n",
       "      <td>1</td>\n",
       "      <td>2</td>\n",
       "      <td>8</td>\n",
       "      <td>0</td>\n",
       "      <td>50</td>\n",
       "      <td>40</td>\n",
       "      <td>0</td>\n",
       "      <td>6</td>\n",
       "      <td>0.000000</td>\n",
       "      <td>0.500000</td>\n",
       "    </tr>\n",
       "    <tr>\n",
       "      <th>4</th>\n",
       "      <td>4</td>\n",
       "      <td>3</td>\n",
       "      <td>0</td>\n",
       "      <td>64014.0</td>\n",
       "      <td>1</td>\n",
       "      <td>1</td>\n",
       "      <td>7</td>\n",
       "      <td>7</td>\n",
       "      <td>0</td>\n",
       "      <td>444</td>\n",
       "      <td>70</td>\n",
       "      <td>1</td>\n",
       "      <td>15</td>\n",
       "      <td>0.133333</td>\n",
       "      <td>0.333333</td>\n",
       "    </tr>\n",
       "  </tbody>\n",
       "</table>\n",
       "</div>"
      ],
      "text/plain": [
       "   id  Education  Marital_Status   Income  Kidhome  Teenhome  \\\n",
       "0   0          0               0  46014.0        1         1   \n",
       "1   1          1               1  76624.0        0         0   \n",
       "2   2          1               2  75903.0        0         0   \n",
       "3   3          2               2  18393.0        1         1   \n",
       "4   4          3               0  64014.0        1         1   \n",
       "\n",
       "   NumDealsPurchases  NumWebVisitsMonth  Complain  target  age_group  \\\n",
       "0                 10                  7         0     541         40   \n",
       "1                  1                  1         0     899         60   \n",
       "2                  2                  3         0     901         70   \n",
       "3                  2                  8         0      50         40   \n",
       "4                  7                  7         0     444         70   \n",
       "\n",
       "   AcceptedCmp  TotalPurchases  RCatalogPurchases  RStorePurchases  \n",
       "0            0              16           0.062500         0.500000  \n",
       "1            1              22           0.454545         0.318182  \n",
       "2            0              21           0.285714         0.428571  \n",
       "3            0               6           0.000000         0.500000  \n",
       "4            1              15           0.133333         0.333333  "
      ]
     },
     "execution_count": 25,
     "metadata": {},
     "output_type": "execute_result"
    }
   ],
   "source": [
    "#라벨인코딩을 하기 위함 dictionary map 생성 함수\n",
    "def make_label_map(dataframe):\n",
    "    label_maps = {}\n",
    "    for col in dataframe.columns:\n",
    "        if dataframe[col].dtype=='object':\n",
    "            label_map = {'unknown':0}\n",
    "            for i, key in enumerate(dataframe[col].unique()):\n",
    "                label_map[key] = i  #새로 등장하는 유니크 값들에 대해 1부터 1씩 증가시켜 키값을 부여해줍니다.\n",
    "            label_maps[col] = label_map\n",
    "    return label_maps\n",
    "\n",
    "# 각 범주형 변수에 인코딩 값을 부여하는 함수\n",
    "def label_encoder(dataframe, label_map):\n",
    "    for col in dataframe.columns:\n",
    "        if dataframe[col].dtype=='object':\n",
    "            dataframe[col] = dataframe[col].map(label_map[col])\n",
    "            #dataframe[col] = dataframe[col].fillna(label_map[col]['unknown']) #혹시 모를 결측값은 unknown의 값(0)으로 채워줍니다.\n",
    "    return dataframe\n",
    "\n",
    "train = label_encoder(train, make_label_map(train))\n",
    "train.head()"
   ]
  },
  {
   "cell_type": "markdown",
   "id": "938c7947",
   "metadata": {},
   "source": [
    "## 변수 및 모델 정의"
   ]
  },
  {
   "cell_type": "code",
   "execution_count": 26,
   "id": "0b0d09bc",
   "metadata": {},
   "outputs": [],
   "source": [
    "X = train.drop(['id', 'target'], axis = 1) #training 데이터에서 피쳐 추출\n",
    "y = train.target #training 데이터에서 소비량 추출"
   ]
  },
  {
   "cell_type": "markdown",
   "id": "961ba81f",
   "metadata": {},
   "source": [
    "## 검증 데이터 분리"
   ]
  },
  {
   "cell_type": "code",
   "execution_count": 27,
   "id": "788f9506",
   "metadata": {},
   "outputs": [
    {
     "name": "stdout",
     "output_type": "stream",
     "text": [
      "학습시킬 train 셋 :  (774, 15)\n",
      "검증할 val 셋 :  (332, 15)\n"
     ]
    }
   ],
   "source": [
    "from sklearn.model_selection import train_test_split\n",
    "\n",
    "data = train.drop('id', axis = 1).copy() #필요없는 id열 삭제\n",
    "train_data, val_data = train_test_split(data, test_size=0.3) #30프로로 설정\n",
    "train_data.reset_index(inplace=True) #전처리 과정에서 데이터가 뒤섞이지 않도록 인덱스를 초기화\n",
    "val_data.reset_index(inplace=True)\n",
    "\n",
    "print('학습시킬 train 셋 : ', train_data.shape)\n",
    "print('검증할 val 셋 : ', val_data.shape)\n",
    "\n",
    "train_data_X = train_data.drop(['target', 'index'], axis = 1) #training 데이터에서 피쳐 추출\n",
    "train_data_y = train_data.target #training 데이터에서 소비량 추출\n",
    "\n",
    "val_data_X = val_data.drop(['target', 'index'], axis = 1) #training 데이터에서 피쳐 추출\n",
    "val_data_y = val_data.target #training 데이터에서 소비량 추출"
   ]
  },
  {
   "cell_type": "code",
   "execution_count": 28,
   "id": "13422cb3",
   "metadata": {},
   "outputs": [
    {
     "name": "stdout",
     "output_type": "stream",
     "text": [
      "<class 'pandas.core.frame.DataFrame'>\n",
      "RangeIndex: 774 entries, 0 to 773\n",
      "Data columns (total 13 columns):\n",
      " #   Column             Non-Null Count  Dtype  \n",
      "---  ------             --------------  -----  \n",
      " 0   Education          774 non-null    int64  \n",
      " 1   Marital_Status     774 non-null    int64  \n",
      " 2   Income             774 non-null    float64\n",
      " 3   Kidhome            774 non-null    int64  \n",
      " 4   Teenhome           774 non-null    int64  \n",
      " 5   NumDealsPurchases  774 non-null    int64  \n",
      " 6   NumWebVisitsMonth  774 non-null    int64  \n",
      " 7   Complain           774 non-null    int64  \n",
      " 8   age_group          774 non-null    int64  \n",
      " 9   AcceptedCmp        774 non-null    int64  \n",
      " 10  TotalPurchases     774 non-null    int64  \n",
      " 11  RCatalogPurchases  774 non-null    float64\n",
      " 12  RStorePurchases    774 non-null    float64\n",
      "dtypes: float64(3), int64(10)\n",
      "memory usage: 78.7 KB\n"
     ]
    }
   ],
   "source": [
    "train_data_X.info()"
   ]
  },
  {
   "cell_type": "markdown",
   "id": "88ff44b7",
   "metadata": {},
   "source": [
    "### Ensemble 기법으로 훈련\n",
    "---\n",
    "#### DecisionTree, RandomForest, GradientBoosting 선택"
   ]
  },
  {
   "cell_type": "code",
   "execution_count": 29,
   "id": "c195ebc9",
   "metadata": {},
   "outputs": [],
   "source": [
    "import numpy as np\n",
    "from sklearn.linear_model import LinearRegression\n",
    "from sklearn.tree import DecisionTreeRegressor\n",
    "from sklearn.ensemble import RandomForestRegressor\n",
    "from sklearn.ensemble import GradientBoostingRegressor\n",
    "from sklearn.metrics import mean_squared_error\n",
    "import xgboost\n",
    "\n",
    "#모델을 할당할 리스트\n",
    "models = []\n",
    "\n",
    "#모델을 리스트에 추가\n",
    "# models.append(LinearRegression())\n",
    "# models.append(DecisionTreeRegressor(random_state=32))\n",
    "models.append(xgboost.XGBRegressor(random_state=32))\n",
    "models.append(RandomForestRegressor(random_state=32))\n",
    "models.append(GradientBoostingRegressor(learning_rate=0.06, criterion='mae', random_state=32))\n",
    "\n",
    "#모델 순차적으로 train 데이터에 학습\n",
    "for model in models:\n",
    "    model.fit(train_data_X, train_data_y)"
   ]
  },
  {
   "cell_type": "code",
   "execution_count": 30,
   "id": "bbc22278",
   "metadata": {},
   "outputs": [
    {
     "name": "stdout",
     "output_type": "stream",
     "text": [
      "[XGBRegressor(base_score=0.5, booster='gbtree', callbacks=None,\n",
      "             colsample_bylevel=1, colsample_bynode=1, colsample_bytree=1,\n",
      "             early_stopping_rounds=None, enable_categorical=False,\n",
      "             eval_metric=None, gamma=0, gpu_id=-1, grow_policy='depthwise',\n",
      "             importance_type=None, interaction_constraints='',\n",
      "             learning_rate=0.300000012, max_bin=256, max_cat_to_onehot=4,\n",
      "             max_delta_step=0, max_depth=6, max_leaves=0, min_child_weight=1,\n",
      "             missing=nan, monotone_constraints='()', n_estimators=100, n_jobs=0,\n",
      "             num_parallel_tree=1, predictor='auto', random_state=32,\n",
      "             reg_alpha=0, reg_lambda=1, ...), GradientBoostingRegressor(criterion='mae', learning_rate=0.06, random_state=32)]\n"
     ]
    }
   ],
   "source": [
    "print(models) ## 사용된 모델 확인"
   ]
  },
  {
   "cell_type": "markdown",
   "id": "56be1deb",
   "metadata": {},
   "source": [
    "#### Soft Voting 진행"
   ]
  },
  {
   "cell_type": "code",
   "execution_count": 31,
   "id": "76372806",
   "metadata": {},
   "outputs": [],
   "source": [
    "# 전처리가 완료된 테스트 데이터셋을 통해 학습한 모델 추론\n",
    "prediction = None\n",
    "\n",
    "for model in models:\n",
    "    # 각 모델들의 최종 회귀값들을 prediction에 모두 더해줍니다.\n",
    "    if prediction is None:\n",
    "        prediction = model.predict(val_data_X)\n",
    "    else:\n",
    "        prediction += model.predict(val_data_X)\n",
    "        \n",
    "# 앙상블에 참여한 모든 모델의 수 만큼 다시 나눠줍니다 (= 평균)\n",
    "prediction /= len(models)"
   ]
  },
  {
   "cell_type": "code",
   "execution_count": 32,
   "id": "8f16be4d",
   "metadata": {},
   "outputs": [
    {
     "name": "stdout",
     "output_type": "stream",
     "text": [
      "모델 NMAE: 0.20731974142155932\n"
     ]
    }
   ],
   "source": [
    "def nmae(true, pred):\n",
    "    mae = np.mean(np.abs(true-pred))\n",
    "    score = mae / np.mean(np.abs(true))\n",
    "    return score\n",
    "\n",
    "y_hat = model.predict(val_data_X) # y예측\n",
    "print(f'모델 NMAE: {nmae(val_data_y,y_hat)}')"
   ]
  }
 ],
 "metadata": {
  "kernelspec": {
   "display_name": "Python 3 (ipykernel)",
   "language": "python",
   "name": "python3"
  },
  "language_info": {
   "codemirror_mode": {
    "name": "ipython",
    "version": 3
   },
   "file_extension": ".py",
   "mimetype": "text/x-python",
   "name": "python",
   "nbconvert_exporter": "python",
   "pygments_lexer": "ipython3",
   "version": "3.9.7"
  }
 },
 "nbformat": 4,
 "nbformat_minor": 5
}
