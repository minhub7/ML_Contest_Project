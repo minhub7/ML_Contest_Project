{
 "cells": [
  {
   "cell_type": "markdown",
   "id": "9365e022",
   "metadata": {},
   "source": [
    "## 0. 필요 라이브러리 및 변수, 함수 정의"
   ]
  },
  {
   "cell_type": "markdown",
   "id": "c6989123",
   "metadata": {},
   "source": [
    "### import library & package"
   ]
  },
  {
   "cell_type": "code",
   "execution_count": 2,
   "id": "cd6ace5c",
   "metadata": {},
   "outputs": [],
   "source": [
    "import os\n",
    "import numpy as np\n",
    "import pandas as pd\n",
    "from tqdm import tqdm"
   ]
  },
  {
   "cell_type": "markdown",
   "id": "0be38f78",
   "metadata": {},
   "source": [
    "### Define variable data"
   ]
  },
  {
   "cell_type": "code",
   "execution_count": 3,
   "id": "ce8ce7b6",
   "metadata": {},
   "outputs": [],
   "source": [
    "sample_code_folder = \"data/code/.\"\n",
    "sample_codes = os.listdir(sample_code_folder)"
   ]
  },
  {
   "cell_type": "markdown",
   "id": "56f640c0",
   "metadata": {},
   "source": [
    "### Define function"
   ]
  },
  {
   "cell_type": "code",
   "execution_count": 4,
   "id": "707ca909",
   "metadata": {},
   "outputs": [],
   "source": [
    "# PREPROCESSING FOR CODE SCRIPT\n",
    "def preprocess_script(script):\n",
    "    with open(script,'r',encoding='utf-8') as f:\n",
    "        lines = f.readlines()\n",
    "        preprocess_lines = []\n",
    "        for line in lines:\n",
    "            if line.lstrip().startswith('#') or line == '': # 주석으로 시작되거나 빈 행은 skip\n",
    "                continue\n",
    "                \n",
    "            line = line.rstrip()\n",
    "            if '#' in line:\n",
    "                line = line[:line.index('#')] # 주석 전까지 코드만 저장\n",
    "            line = line.replace('\\n','') # 개행 문자를 모두 삭제함\n",
    "            line = line.replace('    ','\\t') # 공백 4칸을 tab으로 변환\n",
    "            \n",
    "            preprocess_lines.append(line)\n",
    "        preprocessed_script = '\\n'.join(preproc_lines)\n",
    "        \n",
    "    return preprocessed_script"
   ]
  }
 ],
 "metadata": {
  "kernelspec": {
   "display_name": "Python 3 (ipykernel)",
   "language": "python",
   "name": "python3"
  },
  "language_info": {
   "codemirror_mode": {
    "name": "ipython",
    "version": 3
   },
   "file_extension": ".py",
   "mimetype": "text/x-python",
   "name": "python",
   "nbconvert_exporter": "python",
   "pygments_lexer": "ipython3",
   "version": "3.9.7"
  }
 },
 "nbformat": 4,
 "nbformat_minor": 5
}
