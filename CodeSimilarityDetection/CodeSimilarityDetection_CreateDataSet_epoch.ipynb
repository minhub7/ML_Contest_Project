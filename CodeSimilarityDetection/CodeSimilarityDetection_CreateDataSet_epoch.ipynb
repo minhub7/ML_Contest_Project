{
 "cells": [
  {
   "cell_type": "markdown",
   "id": "12beff2b",
   "metadata": {},
   "source": [
    "# 0. 필요 라이브러리 및 변수, 함수 정의"
   ]
  },
  {
   "cell_type": "markdown",
   "id": "b6160b87",
   "metadata": {},
   "source": [
    "## import library & package"
   ]
  },
  {
   "cell_type": "code",
   "execution_count": 1,
   "id": "41b3b0a4",
   "metadata": {},
   "outputs": [],
   "source": [
    "import os\n",
    "import numpy as np\n",
    "import pandas as pd\n",
    "import torch\n",
    "import random\n",
    "\n",
    "from tqdm import tqdm\n",
    "from itertools import combinations\n",
    "from transformers import AutoTokenizer, BertForSequenceClassification\n",
    "from transformers import AutoModel, AutoModelForSequenceClassification\n",
    "# from datasets import load_dataset, load_metric\n",
    "from rank_bm25 import BM25Okapi\n",
    "from sklearn.model_selection import train_test_split"
   ]
  },
  {
   "cell_type": "markdown",
   "id": "3cbef753",
   "metadata": {},
   "source": [
    "## Define variable data"
   ]
  },
  {
   "cell_type": "code",
   "execution_count": 2,
   "id": "cae75785",
   "metadata": {},
   "outputs": [],
   "source": [
    "code_folder = \"data/code/\"\n",
    "problem_folders = os.listdir(code_folder)"
   ]
  },
  {
   "cell_type": "markdown",
   "id": "8ca351d8",
   "metadata": {},
   "source": [
    "## Define function"
   ]
  },
  {
   "cell_type": "code",
   "execution_count": 3,
   "id": "f49450c0",
   "metadata": {},
   "outputs": [],
   "source": [
    "# PREPROCESSING FOR CODE SCRIPT\n",
    "def preprocess_script(script):\n",
    "    with open(script,'r',encoding='utf-8') as file:\n",
    "        lines = file.readlines()\n",
    "        preprocess_lines = []\n",
    "        for line in lines:\n",
    "            if line.lstrip().startswith('#'): # 주석으로 시작되는 행 skip\n",
    "                continue\n",
    "            line = line.rstrip()\n",
    "            if '#' in line:\n",
    "                line = line[:line.index('#')] # 주석 전까지 코드만 저장\n",
    "            line = line.replace('\\n','') # 개행 문자를 모두 삭제함\n",
    "            line = line.replace('    ','\\t') # 공백 4칸을 tab으로 변환\n",
    "            \n",
    "            if line == '': # 전처리 후 빈 라인은 skip\n",
    "                continue\n",
    "            \n",
    "            preprocess_lines.append(line)\n",
    "        preprocessed_script = '\\n'.join(preprocess_lines) # 개행 문자로 합침\n",
    "        \n",
    "    return preprocessed_script"
   ]
  },
  {
   "cell_type": "markdown",
   "id": "4e75ebdc-3fa6-4fb5-a4b0-2893c17a5f96",
   "metadata": {},
   "source": [
    "## Preprocessing"
   ]
  },
  {
   "cell_type": "code",
   "execution_count": 4,
   "id": "8a99c605",
   "metadata": {},
   "outputs": [
    {
     "name": "stderr",
     "output_type": "stream",
     "text": [
      "100%|█████████████████████████████████████████| 300/300 [00:08<00:00, 33.79it/s]\n"
     ]
    }
   ],
   "source": [
    "preprocess_scripts = []\n",
    "problem_nums = []\n",
    "\n",
    "# 300개 Sample code에 대한 전처리\n",
    "for problem_folder in tqdm(problem_folders):\n",
    "    scripts = os.listdir(os.path.join(code_folder, problem_folder))\n",
    "    problem_num = problem_folder\n",
    "    for script in scripts:\n",
    "        script_file = os.path.join(code_folder,problem_folder,script)\n",
    "        preprocessed_script = preprocess_script(script_file)\n",
    "\n",
    "        preprocess_scripts.append(preprocessed_script)\n",
    "    # 번호 목록을 만들어서 전처리한 dataframe에 함께 넣어줌\n",
    "    problem_nums.extend([problem_num]*len(scripts))"
   ]
  },
  {
   "cell_type": "code",
   "execution_count": 5,
   "id": "646007ab",
   "metadata": {
    "scrolled": true
   },
   "outputs": [
    {
     "data": {
      "text/html": [
       "<div>\n",
       "<style scoped>\n",
       "    .dataframe tbody tr th:only-of-type {\n",
       "        vertical-align: middle;\n",
       "    }\n",
       "\n",
       "    .dataframe tbody tr th {\n",
       "        vertical-align: top;\n",
       "    }\n",
       "\n",
       "    .dataframe thead th {\n",
       "        text-align: right;\n",
       "    }\n",
       "</style>\n",
       "<table border=\"1\" class=\"dataframe\">\n",
       "  <thead>\n",
       "    <tr style=\"text-align: right;\">\n",
       "      <th></th>\n",
       "      <th>code</th>\n",
       "      <th>problem_num</th>\n",
       "    </tr>\n",
       "  </thead>\n",
       "  <tbody>\n",
       "    <tr>\n",
       "      <th>0</th>\n",
       "      <td>x, k, d = map(int, input().split())\\nx = abs(x...</td>\n",
       "      <td>problem092</td>\n",
       "    </tr>\n",
       "    <tr>\n",
       "      <th>1</th>\n",
       "      <td>X,K,D = map(int,input().split())\\nX = abs(X)\\n...</td>\n",
       "      <td>problem092</td>\n",
       "    </tr>\n",
       "    <tr>\n",
       "      <th>2</th>\n",
       "      <td>X, K, D = map(int,input().split())\\nX = abs(X)...</td>\n",
       "      <td>problem092</td>\n",
       "    </tr>\n",
       "    <tr>\n",
       "      <th>3</th>\n",
       "      <td>import sys\\nX,K,D= map(int,input().split())\\nt...</td>\n",
       "      <td>problem092</td>\n",
       "    </tr>\n",
       "    <tr>\n",
       "      <th>4</th>\n",
       "      <td>X,K,D = map(int,input().split())\\nX = abs(X)\\n...</td>\n",
       "      <td>problem092</td>\n",
       "    </tr>\n",
       "    <tr>\n",
       "      <th>5</th>\n",
       "      <td>X, K, D=(map(int, input().split()))\\nX=abs(X)\\...</td>\n",
       "      <td>problem092</td>\n",
       "    </tr>\n",
       "    <tr>\n",
       "      <th>6</th>\n",
       "      <td>X, K, D = map(int, input().split())\\nX = abs(X...</td>\n",
       "      <td>problem092</td>\n",
       "    </tr>\n",
       "    <tr>\n",
       "      <th>7</th>\n",
       "      <td>X, K, D = map(int,input().split())\\nans = abs(...</td>\n",
       "      <td>problem092</td>\n",
       "    </tr>\n",
       "    <tr>\n",
       "      <th>8</th>\n",
       "      <td>import sys\\nX, K, D = map(int, input().split()...</td>\n",
       "      <td>problem092</td>\n",
       "    </tr>\n",
       "    <tr>\n",
       "      <th>9</th>\n",
       "      <td>x, k, d = map(int, input().split())\\nx = abs(x...</td>\n",
       "      <td>problem092</td>\n",
       "    </tr>\n",
       "  </tbody>\n",
       "</table>\n",
       "</div>"
      ],
      "text/plain": [
       "                                                code problem_num\n",
       "0  x, k, d = map(int, input().split())\\nx = abs(x...  problem092\n",
       "1  X,K,D = map(int,input().split())\\nX = abs(X)\\n...  problem092\n",
       "2  X, K, D = map(int,input().split())\\nX = abs(X)...  problem092\n",
       "3  import sys\\nX,K,D= map(int,input().split())\\nt...  problem092\n",
       "4  X,K,D = map(int,input().split())\\nX = abs(X)\\n...  problem092\n",
       "5  X, K, D=(map(int, input().split()))\\nX=abs(X)\\...  problem092\n",
       "6  X, K, D = map(int, input().split())\\nX = abs(X...  problem092\n",
       "7  X, K, D = map(int,input().split())\\nans = abs(...  problem092\n",
       "8  import sys\\nX, K, D = map(int, input().split()...  problem092\n",
       "9  x, k, d = map(int, input().split())\\nx = abs(x...  problem092"
      ]
     },
     "execution_count": 5,
     "metadata": {},
     "output_type": "execute_result"
    }
   ],
   "source": [
    "df = pd.DataFrame(data= {'code':preprocess_scripts, 'problem_num':problem_nums})\n",
    "df.head(10)"
   ]
  },
  {
   "cell_type": "code",
   "execution_count": 6,
   "id": "9f9827d5",
   "metadata": {},
   "outputs": [
    {
     "data": {
      "text/plain": [
       "45101"
      ]
     },
     "execution_count": 6,
     "metadata": {},
     "output_type": "execute_result"
    }
   ],
   "source": [
    "len(df)"
   ]
  },
  {
   "cell_type": "markdown",
   "id": "4a0ecbd5-e21f-4131-869a-72177e02f660",
   "metadata": {
    "tags": []
   },
   "source": [
    "## Create Data Set"
   ]
  },
  {
   "cell_type": "markdown",
   "id": "835c0544-2c35-4562-a2c3-9cc479b5a61b",
   "metadata": {},
   "source": [
    "### Tokenizer 수행, microsoft에서 개발한 사전 학습 모델인 graphcodebert 사용"
   ]
  },
  {
   "cell_type": "code",
   "execution_count": 7,
   "id": "2366864c-6f80-470f-932d-f44a61501e90",
   "metadata": {},
   "outputs": [
    {
     "name": "stderr",
     "output_type": "stream",
     "text": [
      "Token indices sequence length is longer than the specified maximum sequence length for this model (541 > 512). Running this sequence through the model will result in indexing errors\n"
     ]
    },
    {
     "data": {
      "text/html": [
       "<div>\n",
       "<style scoped>\n",
       "    .dataframe tbody tr th:only-of-type {\n",
       "        vertical-align: middle;\n",
       "    }\n",
       "\n",
       "    .dataframe tbody tr th {\n",
       "        vertical-align: top;\n",
       "    }\n",
       "\n",
       "    .dataframe thead th {\n",
       "        text-align: right;\n",
       "    }\n",
       "</style>\n",
       "<table border=\"1\" class=\"dataframe\">\n",
       "  <thead>\n",
       "    <tr style=\"text-align: right;\">\n",
       "      <th></th>\n",
       "      <th>len</th>\n",
       "    </tr>\n",
       "  </thead>\n",
       "  <tbody>\n",
       "    <tr>\n",
       "      <th>count</th>\n",
       "      <td>45101.000000</td>\n",
       "    </tr>\n",
       "    <tr>\n",
       "      <th>mean</th>\n",
       "      <td>160.123789</td>\n",
       "    </tr>\n",
       "    <tr>\n",
       "      <th>std</th>\n",
       "      <td>500.930345</td>\n",
       "    </tr>\n",
       "    <tr>\n",
       "      <th>min</th>\n",
       "      <td>5.000000</td>\n",
       "    </tr>\n",
       "    <tr>\n",
       "      <th>25%</th>\n",
       "      <td>61.000000</td>\n",
       "    </tr>\n",
       "    <tr>\n",
       "      <th>50%</th>\n",
       "      <td>108.000000</td>\n",
       "    </tr>\n",
       "    <tr>\n",
       "      <th>75%</th>\n",
       "      <td>200.000000</td>\n",
       "    </tr>\n",
       "    <tr>\n",
       "      <th>max</th>\n",
       "      <td>97566.000000</td>\n",
       "    </tr>\n",
       "  </tbody>\n",
       "</table>\n",
       "</div>"
      ],
      "text/plain": [
       "                len\n",
       "count  45101.000000\n",
       "mean     160.123789\n",
       "std      500.930345\n",
       "min        5.000000\n",
       "25%       61.000000\n",
       "50%      108.000000\n",
       "75%      200.000000\n",
       "max    97566.000000"
      ]
     },
     "execution_count": 7,
     "metadata": {},
     "output_type": "execute_result"
    }
   ],
   "source": [
    "# AutoTokenizer로 graphcodebert 사용하도록 설정\n",
    "tokenizer = AutoTokenizer.from_pretrained(\"microsoft/graphcodebert-base\")\n",
    "\n",
    "df['tokens'] = df['code'].apply(tokenizer.tokenize) # Sample code를 Tokenization해서 tokens 컬럼에 추가\n",
    "df['len'] = df['tokens'].apply(len) # tokens의 길이를 len 컬럼에 추가\n",
    "df.describe()"
   ]
  },
  {
   "cell_type": "code",
   "execution_count": 8,
   "id": "084cf0db-85ac-47e1-9831-e136469209d6",
   "metadata": {},
   "outputs": [
    {
     "data": {
      "text/html": [
       "<div>\n",
       "<style scoped>\n",
       "    .dataframe tbody tr th:only-of-type {\n",
       "        vertical-align: middle;\n",
       "    }\n",
       "\n",
       "    .dataframe tbody tr th {\n",
       "        vertical-align: top;\n",
       "    }\n",
       "\n",
       "    .dataframe thead th {\n",
       "        text-align: right;\n",
       "    }\n",
       "</style>\n",
       "<table border=\"1\" class=\"dataframe\">\n",
       "  <thead>\n",
       "    <tr style=\"text-align: right;\">\n",
       "      <th></th>\n",
       "      <th>len</th>\n",
       "    </tr>\n",
       "  </thead>\n",
       "  <tbody>\n",
       "    <tr>\n",
       "      <th>count</th>\n",
       "      <td>43647.000000</td>\n",
       "    </tr>\n",
       "    <tr>\n",
       "      <th>mean</th>\n",
       "      <td>137.920842</td>\n",
       "    </tr>\n",
       "    <tr>\n",
       "      <th>std</th>\n",
       "      <td>104.933475</td>\n",
       "    </tr>\n",
       "    <tr>\n",
       "      <th>min</th>\n",
       "      <td>5.000000</td>\n",
       "    </tr>\n",
       "    <tr>\n",
       "      <th>25%</th>\n",
       "      <td>60.000000</td>\n",
       "    </tr>\n",
       "    <tr>\n",
       "      <th>50%</th>\n",
       "      <td>104.000000</td>\n",
       "    </tr>\n",
       "    <tr>\n",
       "      <th>75%</th>\n",
       "      <td>187.000000</td>\n",
       "    </tr>\n",
       "    <tr>\n",
       "      <th>max</th>\n",
       "      <td>512.000000</td>\n",
       "    </tr>\n",
       "  </tbody>\n",
       "</table>\n",
       "</div>"
      ],
      "text/plain": [
       "                len\n",
       "count  43647.000000\n",
       "mean     137.920842\n",
       "std      104.933475\n",
       "min        5.000000\n",
       "25%       60.000000\n",
       "50%      104.000000\n",
       "75%      187.000000\n",
       "max      512.000000"
      ]
     },
     "execution_count": 8,
     "metadata": {},
     "output_type": "execute_result"
    }
   ],
   "source": [
    "# AutoTokenizer에서 사용하는 모델인 graphcodebert가 512이상 길이의 토큰을 처리하지 못하므로\n",
    "# 토큰의 길이가 512보다 긴건 Drop함\n",
    "ndf = df[df['len'] <= 512].reset_index(drop=True)\n",
    "ndf.describe()"
   ]
  },
  {
   "cell_type": "code",
   "execution_count": 9,
   "id": "5da08a5f-c9fe-44b7-970a-87b08fdb51ef",
   "metadata": {},
   "outputs": [
    {
     "data": {
      "text/html": [
       "<div>\n",
       "<style scoped>\n",
       "    .dataframe tbody tr th:only-of-type {\n",
       "        vertical-align: middle;\n",
       "    }\n",
       "\n",
       "    .dataframe tbody tr th {\n",
       "        vertical-align: top;\n",
       "    }\n",
       "\n",
       "    .dataframe thead th {\n",
       "        text-align: right;\n",
       "    }\n",
       "</style>\n",
       "<table border=\"1\" class=\"dataframe\">\n",
       "  <thead>\n",
       "    <tr style=\"text-align: right;\">\n",
       "      <th></th>\n",
       "      <th>code</th>\n",
       "      <th>problem_num</th>\n",
       "      <th>tokens</th>\n",
       "      <th>len</th>\n",
       "    </tr>\n",
       "  </thead>\n",
       "  <tbody>\n",
       "    <tr>\n",
       "      <th>0</th>\n",
       "      <td>x, k, d = map(int, input().split())\\nx = abs(x...</td>\n",
       "      <td>problem092</td>\n",
       "      <td>[x, ,, Ġk, ,, Ġd, Ġ=, Ġmap, (, int, ,, Ġinput,...</td>\n",
       "      <td>100</td>\n",
       "    </tr>\n",
       "    <tr>\n",
       "      <th>1</th>\n",
       "      <td>X,K,D = map(int,input().split())\\nX = abs(X)\\n...</td>\n",
       "      <td>problem092</td>\n",
       "      <td>[X, ,, K, ,, D, Ġ=, Ġmap, (, int, ,, input, ()...</td>\n",
       "      <td>137</td>\n",
       "    </tr>\n",
       "    <tr>\n",
       "      <th>2</th>\n",
       "      <td>X, K, D = map(int,input().split())\\nX = abs(X)...</td>\n",
       "      <td>problem092</td>\n",
       "      <td>[X, ,, ĠK, ,, ĠD, Ġ=, Ġmap, (, int, ,, input, ...</td>\n",
       "      <td>92</td>\n",
       "    </tr>\n",
       "    <tr>\n",
       "      <th>3</th>\n",
       "      <td>import sys\\nX,K,D= map(int,input().split())\\nt...</td>\n",
       "      <td>problem092</td>\n",
       "      <td>[import, Ġsys, Ċ, X, ,, K, ,, D, =, Ġmap, (, i...</td>\n",
       "      <td>234</td>\n",
       "    </tr>\n",
       "    <tr>\n",
       "      <th>4</th>\n",
       "      <td>X,K,D = map(int,input().split())\\nX = abs(X)\\n...</td>\n",
       "      <td>problem092</td>\n",
       "      <td>[X, ,, K, ,, D, Ġ=, Ġmap, (, int, ,, input, ()...</td>\n",
       "      <td>117</td>\n",
       "    </tr>\n",
       "  </tbody>\n",
       "</table>\n",
       "</div>"
      ],
      "text/plain": [
       "                                                code problem_num  \\\n",
       "0  x, k, d = map(int, input().split())\\nx = abs(x...  problem092   \n",
       "1  X,K,D = map(int,input().split())\\nX = abs(X)\\n...  problem092   \n",
       "2  X, K, D = map(int,input().split())\\nX = abs(X)...  problem092   \n",
       "3  import sys\\nX,K,D= map(int,input().split())\\nt...  problem092   \n",
       "4  X,K,D = map(int,input().split())\\nX = abs(X)\\n...  problem092   \n",
       "\n",
       "                                              tokens  len  \n",
       "0  [x, ,, Ġk, ,, Ġd, Ġ=, Ġmap, (, int, ,, Ġinput,...  100  \n",
       "1  [X, ,, K, ,, D, Ġ=, Ġmap, (, int, ,, input, ()...  137  \n",
       "2  [X, ,, ĠK, ,, ĠD, Ġ=, Ġmap, (, int, ,, input, ...   92  \n",
       "3  [import, Ġsys, Ċ, X, ,, K, ,, D, =, Ġmap, (, i...  234  \n",
       "4  [X, ,, K, ,, D, Ġ=, Ġmap, (, int, ,, input, ()...  117  "
      ]
     },
     "execution_count": 9,
     "metadata": {},
     "output_type": "execute_result"
    }
   ],
   "source": [
    "ndf.head()"
   ]
  },
  {
   "cell_type": "code",
   "execution_count": 10,
   "id": "85f05e9a-437c-48c2-9403-5b605efdf4a1",
   "metadata": {},
   "outputs": [],
   "source": [
    "# train과 validation data set 분리\n",
    "train_df, valid_df, train_label, valid_label = train_test_split(\n",
    "        ndf,\n",
    "        ndf['problem_num'],\n",
    "        random_state=42,\n",
    "        test_size=0.1,\n",
    "        stratify=ndf['problem_num']\n",
    "    )\n",
    "\n",
    "train_df = train_df.reset_index(drop=True) # Reindexing\n",
    "valid_df = valid_df.reset_index(drop=True)"
   ]
  },
  {
   "cell_type": "code",
   "execution_count": 11,
   "id": "e51c0335-194d-496f-a0f4-dd761740538a",
   "metadata": {},
   "outputs": [
    {
     "data": {
      "text/html": [
       "<div>\n",
       "<style scoped>\n",
       "    .dataframe tbody tr th:only-of-type {\n",
       "        vertical-align: middle;\n",
       "    }\n",
       "\n",
       "    .dataframe tbody tr th {\n",
       "        vertical-align: top;\n",
       "    }\n",
       "\n",
       "    .dataframe thead th {\n",
       "        text-align: right;\n",
       "    }\n",
       "</style>\n",
       "<table border=\"1\" class=\"dataframe\">\n",
       "  <thead>\n",
       "    <tr style=\"text-align: right;\">\n",
       "      <th></th>\n",
       "      <th>code</th>\n",
       "      <th>problem_num</th>\n",
       "      <th>tokens</th>\n",
       "      <th>len</th>\n",
       "    </tr>\n",
       "  </thead>\n",
       "  <tbody>\n",
       "    <tr>\n",
       "      <th>0</th>\n",
       "      <td>import math\\nn=int(input());\\narr=[]\\nj=2\\nwhi...</td>\n",
       "      <td>problem136</td>\n",
       "      <td>[import, Ġmath, Ċ, n, =, int, (, input, ());, ...</td>\n",
       "      <td>140</td>\n",
       "    </tr>\n",
       "    <tr>\n",
       "      <th>1</th>\n",
       "      <td>x,y,xx,yy=map(float, input().split())\\nprint('...</td>\n",
       "      <td>problem029</td>\n",
       "      <td>[x, ,, y, ,, xx, ,, yy, =, map, (, float, ,, Ġ...</td>\n",
       "      <td>44</td>\n",
       "    </tr>\n",
       "    <tr>\n",
       "      <th>2</th>\n",
       "      <td>import math\\nn,k = (int(x) for x in input().sp...</td>\n",
       "      <td>problem099</td>\n",
       "      <td>[import, Ġmath, Ċ, n, ,, k, Ġ=, Ġ(, int, (, x,...</td>\n",
       "      <td>143</td>\n",
       "    </tr>\n",
       "    <tr>\n",
       "      <th>3</th>\n",
       "      <td>import math\\nnum_list = input().split(\" \")\\npr...</td>\n",
       "      <td>problem086</td>\n",
       "      <td>[import, Ġmath, Ċ, num, _, list, Ġ=, Ġinput, (...</td>\n",
       "      <td>49</td>\n",
       "    </tr>\n",
       "    <tr>\n",
       "      <th>4</th>\n",
       "      <td>n = int(input())\\na = 10000\\nans = (a - n) % 1...</td>\n",
       "      <td>problem108</td>\n",
       "      <td>[n, Ġ=, Ġint, (, input, ()), Ċ, a, Ġ=, Ġ10000,...</td>\n",
       "      <td>25</td>\n",
       "    </tr>\n",
       "  </tbody>\n",
       "</table>\n",
       "</div>"
      ],
      "text/plain": [
       "                                                code problem_num  \\\n",
       "0  import math\\nn=int(input());\\narr=[]\\nj=2\\nwhi...  problem136   \n",
       "1  x,y,xx,yy=map(float, input().split())\\nprint('...  problem029   \n",
       "2  import math\\nn,k = (int(x) for x in input().sp...  problem099   \n",
       "3  import math\\nnum_list = input().split(\" \")\\npr...  problem086   \n",
       "4  n = int(input())\\na = 10000\\nans = (a - n) % 1...  problem108   \n",
       "\n",
       "                                              tokens  len  \n",
       "0  [import, Ġmath, Ċ, n, =, int, (, input, ());, ...  140  \n",
       "1  [x, ,, y, ,, xx, ,, yy, =, map, (, float, ,, Ġ...   44  \n",
       "2  [import, Ġmath, Ċ, n, ,, k, Ġ=, Ġ(, int, (, x,...  143  \n",
       "3  [import, Ġmath, Ċ, num, _, list, Ġ=, Ġinput, (...   49  \n",
       "4  [n, Ġ=, Ġint, (, input, ()), Ċ, a, Ġ=, Ġ10000,...   25  "
      ]
     },
     "execution_count": 11,
     "metadata": {},
     "output_type": "execute_result"
    }
   ],
   "source": [
    "train_df.head()"
   ]
  },
  {
   "cell_type": "markdown",
   "id": "5af78563-b2e2-42ec-b06b-14de2cf1f8f6",
   "metadata": {},
   "source": [
    "**stratify (classification을 다룰 때 매우 중요한 옵션)**\n",
    "- default=None\n",
    "- stratify 값을 target으로 지정해주면 각각의 class 비율을 train / validation에 유지해 줌\n",
    "    - 한 쪽에 쏠려서 분배되는 것을 방지\n",
    "- 만약 이 옵션을 지정해 주지 않고 분류 문제를 다룬다면, 성능의 차이가 많이 날 수 있음"
   ]
  },
  {
   "cell_type": "markdown",
   "id": "f1f166eb-3550-4b59-b052-8c82d015a2fd",
   "metadata": {},
   "source": [
    "#### Create train data"
   ]
  },
  {
   "cell_type": "code",
   "execution_count": 37,
   "id": "69927a0a-225d-467c-977c-59a798f9da4b",
   "metadata": {},
   "outputs": [],
   "source": [
    "codes = train_df['code'].to_list() # code 컬럼을 list로 변환 - codes는 code가 쭉 나열된 형태임\n",
    "problems = train_df['problem_num'].unique().tolist() # 문제 번호를 중복을 제외하고 list로 변환\n",
    "problems.sort()\n",
    "\n",
    "# code를 토큰화하여 저장, train_df에 저장된 모든 코드들에 대한 token들을 리스트 하나에 저장함\n",
    "tokenized_corpus = [token for token in train_df['tokens']]\n",
    "# 토큰화된 code에 대해 상관관계를 계산, 현재 무작위로 설정된 code에 대해서 수행하기 때문에\n",
    "# 상관관계를 계산하는 코드는 같은 문제를 푸는 코드가 아닐 수 있음.\n",
    "bm25 = BM25Okapi(tokenized_corpus)"
   ]
  },
  {
   "cell_type": "code",
   "execution_count": 53,
   "id": "fefea800-a433-4fe4-a71f-5c9197a144e3",
   "metadata": {},
   "outputs": [],
   "source": [
    "total_positive_pairs = []\n",
    "total_negative_pairs = []"
   ]
  },
  {
   "cell_type": "code",
   "execution_count": 54,
   "id": "ff7c78d1-f98e-4b87-ad9c-5af4a5e6c4d2",
   "metadata": {},
   "outputs": [
    {
     "name": "stderr",
     "output_type": "stream",
     "text": [
      "100%|█████████████████████████████████████████| 300/300 [11:33<00:00,  2.31s/it]\n"
     ]
    }
   ],
   "source": [
    "for problem in tqdm(problems): # 문제 번호 차례대로 반복\n",
    "    # 문제번호가 problem_num (ex: 001, 002...)인 code를 골라 정답 코드로 저장\n",
    "    # 이때 train_df에는 problem_num이 정렬된 상태가 아니기 때문에 index가 다를 수 있음\n",
    "    solution_codes = train_df[train_df['problem_num'] == problem]['code']\n",
    "    # 같은 문제를 푸는 코드의 조합 50개 추출\n",
    "    positive_pairs = list(combinations(solution_codes.to_list(),2))[:50]\n",
    "    \n",
    "    # solution_codes의 index를 list로 변환\n",
    "    solution_codes_indices = solution_codes.index.to_list()\n",
    "    negative_pairs = []\n",
    "    \n",
    "    # 첫번째 positive code에 대한 토큰화 진행\n",
    "    first_tokenized_code = tokenizer.tokenize(positive_pairs[0][0])\n",
    "    # 첫번째 코드와 가장 유사한 code 순서로 negative_code ranking을 설정함.\n",
    "    negative_code_scores = bm25.get_scores(first_tokenized_code)\n",
    "    # 내림차순, score가 가장 높은, 즉 유사한 순서대로 ranking을 매김\n",
    "    negative_code_ranking = negative_code_scores.argsort()[::-1]\n",
    "    ranking_idx = 0\n",
    "    \n",
    "    # 정답 코드에 대해\n",
    "    for solution_code in solution_codes:\n",
    "        negative_solutions = []\n",
    "        # negative_solutions의 길이가 positive_pairs 쌍을 정답 코드 길이만큼 나눈 것보다 작을때\n",
    "        # 원래 positive_pairs의 길이는 5000~9000, solution_codes의 길이는 100 ~ 120\n",
    "        # 원래 negative_solutions의 길이는 대략 문제당 50 ~ 90\n",
    "        # positive_pairs의 길이는 문제당 50개 (총 300*50 = 15000개)\n",
    "        # negative_solutions은 문제당 50개 (총 300*50 = 15000개)\n",
    "        while len(negative_solutions) < 50:\n",
    "            high_score_idx = negative_code_ranking[ranking_idx]\n",
    "            \n",
    "            # 유사도가 높은 코드의 index가 동일한 문제에 대한 풀이가 아닐때 negative 코드에 추가\n",
    "            if high_score_idx not in solution_codes_indices:\n",
    "                negative_solutions.append(train_df['code'].iloc[high_score_idx])\n",
    "            # 동일한 문제면 추가하지 않고 다음 ranking 탐색\n",
    "            ranking_idx += 1\n",
    "        \n",
    "        # 정답 코드와 negative 코드를 묶어서 pairs 리스트에 추가\n",
    "        for negative_solution in negative_solutions:\n",
    "            negative_pairs.append((solution_code, negative_solution))\n",
    "    \n",
    "    total_positive_pairs.extend(positive_pairs)\n",
    "    total_negative_pairs.extend(negative_pairs)"
   ]
  },
  {
   "cell_type": "code",
   "execution_count": 55,
   "id": "b5f1b938-9588-46d7-8beb-4199bef52e0b",
   "metadata": {},
   "outputs": [
    {
     "name": "stdout",
     "output_type": "stream",
     "text": [
      "total_positive length is  300000\n",
      "total_negative length is  282622\n"
     ]
    }
   ],
   "source": [
    "print(\"total_positive length is \", len(total_positive_pairs))\n",
    "print(\"total_negative length is \", len(total_negative_pairs))"
   ]
  },
  {
   "cell_type": "code",
   "execution_count": 56,
   "id": "762c61d4-efe7-44d2-9232-138c79ee71f6",
   "metadata": {},
   "outputs": [],
   "source": [
    "# 쌍으로 묶인 pos, neg 코드를 각각 나눔\n",
    "pos_code1 = list(map(lambda x:x[0],total_positive_pairs))\n",
    "pos_code2 = list(map(lambda x:x[1],total_positive_pairs))\n",
    "\n",
    "neg_code1 = list(map(lambda x:x[0],total_negative_pairs))\n",
    "neg_code2 = list(map(lambda x:x[1],total_negative_pairs))\n",
    "\n",
    "# pos와 neg쌍에 대해 라벨링, pos는 모두 동일한 코드이므로 label이 1, neg는 0\n",
    "pos_label = [1]*len(pos_code1)\n",
    "neg_label = [0]*len(neg_code1)\n",
    "\n",
    "# pos_code1과 neg_code1에는 정답 코드가 들어있으므로 합쳐서 total_code1이라는 변수로 선언\n",
    "pos_code1.extend(neg_code1)\n",
    "total_code1 = pos_code1\n",
    "# pos_code2과 neg_code2에는 비교 대상 코드가 들어있으므로 합쳐서 total_code2라는 변수로 선언\n",
    "pos_code2.extend(neg_code2)\n",
    "total_code2 = pos_code2\n",
    "# label 합침\n",
    "pos_label.extend(neg_label)\n",
    "total_label = pos_label\n",
    "\n",
    "# DataFrame으로 선언\n",
    "pair_data = pd.DataFrame(data={\n",
    "    'code1':total_code1,\n",
    "    'code2':total_code2,\n",
    "    'similar':total_label\n",
    "})\n",
    "\n",
    "\n",
    "pair_data = pair_data.sample(frac=1).reset_index(drop=True)\n",
    "\n",
    "pair_data.to_csv('data/epoch_train_data.csv',index=False)\n",
    "\n",
    "#valid_df에도 동일하게..."
   ]
  },
  {
   "cell_type": "markdown",
   "id": "cfe1e821-8663-4250-80a5-9fdd9405dec4",
   "metadata": {},
   "source": [
    "#### Create validation data"
   ]
  },
  {
   "cell_type": "code",
   "execution_count": 57,
   "id": "56bbfe89-75ee-40ca-b7c1-1ecae8dfa0ab",
   "metadata": {},
   "outputs": [],
   "source": [
    "codes = valid_df['code'].to_list() # code 컬럼을 list로 변환 - codes는 code가 쭉 나열된 형태임\n",
    "problems = valid_df['problem_num'].unique().tolist() # 문제 번호를 중복을 제외하고 list로 변환\n",
    "problems.sort()\n",
    "\n",
    "# code를 토큰화하여 저장, train_df에 저장된 모든 코드들에 대한 token들을 리스트 하나에 저장함\n",
    "tokenized_corpus = [token for token in valid_df['tokens']]\n",
    "# 토큰화된 code에 대해 상관관계를 계산, 현재 무작위로 설정된 code에 대해서 수행하기 때문에\n",
    "# 상관관계를 계산하는 코드는 같은 문제를 푸는 코드가 아닐 수 있음.\n",
    "bm25 = BM25Okapi(tokenized_corpus)\n",
    "\n",
    "total_positive_pairs = []\n",
    "total_negative_pairs = []"
   ]
  },
  {
   "cell_type": "code",
   "execution_count": 60,
   "id": "d952df35-f716-4b5b-ad25-3bcc90ec5884",
   "metadata": {
    "tags": []
   },
   "outputs": [
    {
     "name": "stderr",
     "output_type": "stream",
     "text": [
      "100%|█████████████████████████████████████████| 300/300 [00:45<00:00,  6.65it/s]\n"
     ]
    }
   ],
   "source": [
    "for problem in tqdm(problems): # 문제 번호 차례대로 반복\n",
    "    # 문제번호가 problem_num (ex: 001, 002...)인 code를 골라 정답 코드로 저장\n",
    "    # 이때 train_df에는 problem_num이 정렬된 상태가 아니기 때문에 index가 다를 수 있음\n",
    "    solution_codes = valid_df[valid_df['problem_num'] == problem]['code']\n",
    "    # 같은 문제를 푸는 코드의 조합 10개 추출\n",
    "    positive_pairs = list(combinations(solution_codes.to_list(),2))[:10]\n",
    "    \n",
    "    # solution_codes의 index를 list로 변환\n",
    "    solution_codes_indices = solution_codes.index.to_list()\n",
    "    negative_pairs = []\n",
    "    \n",
    "    # 첫번째 positive code에 대한 토큰화 진행\n",
    "    first_tokenized_code = tokenizer.tokenize(positive_pairs[0][0])\n",
    "    # 첫번째 코드와 가장 유사한 code 순서로 negative_code ranking을 설정함.\n",
    "    negative_code_scores = bm25.get_scores(first_tokenized_code)\n",
    "    # 내림차순, score가 가장 높은, 즉 유사한 순서대로 ranking을 매김\n",
    "    negative_code_ranking = negative_code_scores.argsort()[::-1]\n",
    "    ranking_idx = 0\n",
    "    \n",
    "    # 정답 코드에 대해\n",
    "    for solution_code in solution_codes:\n",
    "        negative_solutions = []\n",
    "        # negative_solutions의 길이가 positive_pairs 쌍을 정답 코드 길이만큼 나눈 것보다 작을때\n",
    "        # 원래 positive_pairs의 길이는 5000~9000, solution_codes의 길이는 100 ~ 120\n",
    "        # 원래 negative_solutions의 길이는 대략 문제당 50 ~ 90\n",
    "        # positive_pairs의 길이는 문제당 10개 (총 300*10 = 3000개)\n",
    "        # negative_solutions은 문제당 10개 (총 300*10 = 3000개)\n",
    "        while len(negative_solutions) < 10:\n",
    "            high_score_idx = negative_code_ranking[ranking_idx]\n",
    "            \n",
    "            # 유사도가 높은 코드의 index가 동일한 문제에 대한 풀이가 아닐때 negative 코드에 추가\n",
    "            if high_score_idx not in solution_codes_indices:\n",
    "                negative_solutions.append(valid_df['code'].iloc[high_score_idx])\n",
    "            # 동일한 문제면 추가하지 않고 다음 ranking 탐색\n",
    "            ranking_idx += 1\n",
    "        \n",
    "        # 정답 코드와 negative 코드를 묶어서 pairs 리스트에 추가\n",
    "        for negative_solution in negative_solutions:\n",
    "            negative_pairs.append((solution_code, negative_solution))\n",
    "    \n",
    "    total_positive_pairs.extend(positive_pairs)\n",
    "    total_negative_pairs.extend(negative_pairs)"
   ]
  },
  {
   "cell_type": "code",
   "execution_count": 61,
   "id": "82c888bb-b116-42f0-b861-3b95d22bbc36",
   "metadata": {},
   "outputs": [
    {
     "name": "stdout",
     "output_type": "stream",
     "text": [
      "total_positive length is  29812\n",
      "total_negative length is  29577\n"
     ]
    }
   ],
   "source": [
    "print(\"total_positive length is \", len(total_positive_pairs))\n",
    "print(\"total_negative length is \", len(total_negative_pairs))"
   ]
  },
  {
   "cell_type": "code",
   "execution_count": 62,
   "id": "c168c71f-de7d-44d4-a990-866d93f8e041",
   "metadata": {},
   "outputs": [],
   "source": [
    "# 쌍으로 묶인 pos, neg 코드를 각각 나눔\n",
    "pos_code1 = list(map(lambda x:x[0],total_positive_pairs))\n",
    "pos_code2 = list(map(lambda x:x[1],total_positive_pairs))\n",
    "\n",
    "neg_code1 = list(map(lambda x:x[0],total_negative_pairs))\n",
    "neg_code2 = list(map(lambda x:x[1],total_negative_pairs))\n",
    "\n",
    "# pos와 neg쌍에 대해 라벨링, pos는 모두 동일한 코드이므로 label이 1, neg는 0\n",
    "pos_label = [1]*len(pos_code1)\n",
    "neg_label = [0]*len(neg_code1)\n",
    "\n",
    "# pos_code1과 neg_code1에는 정답 코드가 들어있으므로 합쳐서 total_code1이라는 변수로 선언\n",
    "pos_code1.extend(neg_code1)\n",
    "total_code1 = pos_code1\n",
    "# pos_code2과 neg_code2에는 비교 대상 코드가 들어있으므로 합쳐서 total_code2라는 변수로 선언\n",
    "pos_code2.extend(neg_code2)\n",
    "total_code2 = pos_code2\n",
    "# label 합침\n",
    "pos_label.extend(neg_label)\n",
    "total_label = pos_label\n",
    "\n",
    "# DataFrame으로 선언\n",
    "pair_data = pd.DataFrame(data={\n",
    "    'code1':total_code1,\n",
    "    'code2':total_code2,\n",
    "    'similar':total_label\n",
    "})\n",
    "\n",
    "\n",
    "pair_data = pair_data.sample(frac=1).reset_index(drop=True)\n",
    "\n",
    "pair_data.to_csv('data/epoch_valid_data.csv',index=False)\n",
    "\n",
    "#valid_df에도 동일하게..."
   ]
  },
  {
   "cell_type": "markdown",
   "id": "d65f9e57-aff3-4118-b6b5-04267a12d839",
   "metadata": {},
   "source": [
    "**BM25: 키워드 기반 랭킹 알고리즘**\n",
    "- 주어진 쿼리에 대해 문서와의 연관성을 평가하는 랭킹 함수\n",
    "- Bag-of-words 개념을 사용하여 쿼리에 있는 용어가 각각의 문서에 얼마나 자주 등장하는지를 평가\n",
    "    - 이때 IDF값을 곱해서 자주 등장하지 않는 단어에 더 큰 가중치를 줌.\n",
    "    \n",
    "- 지금까지 한건 Train_data set을 만드는 것.\n",
    "- 실제 모델에는 위 코드로 만든 train_data와 sample_train을 모두 적용해서 학습시키기\n",
    "- test는 어떻게?"
   ]
  }
 ],
 "metadata": {
  "kernelspec": {
   "display_name": "Python 3 (ipykernel)",
   "language": "python",
   "name": "python3"
  },
  "language_info": {
   "codemirror_mode": {
    "name": "ipython",
    "version": 3
   },
   "file_extension": ".py",
   "mimetype": "text/x-python",
   "name": "python",
   "nbconvert_exporter": "python",
   "pygments_lexer": "ipython3",
   "version": "3.9.7"
  }
 },
 "nbformat": 4,
 "nbformat_minor": 5
}
