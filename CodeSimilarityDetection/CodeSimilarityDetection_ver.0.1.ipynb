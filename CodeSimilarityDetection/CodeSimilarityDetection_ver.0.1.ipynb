{
 "cells": [
  {
   "cell_type": "markdown",
   "id": "12beff2b",
   "metadata": {},
   "source": [
    "## 0. 필요 라이브러리 및 변수, 함수 정의"
   ]
  },
  {
   "cell_type": "markdown",
   "id": "b6160b87",
   "metadata": {},
   "source": [
    "### import library & package"
   ]
  },
  {
   "cell_type": "code",
   "execution_count": 8,
   "id": "41b3b0a4",
   "metadata": {},
   "outputs": [],
   "source": [
    "import os\n",
    "import numpy as np\n",
    "import pandas as pd\n",
    "from tqdm import tqdm"
   ]
  },
  {
   "cell_type": "markdown",
   "id": "3cbef753",
   "metadata": {},
   "source": [
    "### Define variable data"
   ]
  },
  {
   "cell_type": "code",
   "execution_count": 11,
   "id": "cae75785",
   "metadata": {},
   "outputs": [],
   "source": [
    "code_folder = \"data/code/\"\n",
    "problem_folders = os.listdir(code_folder)"
   ]
  },
  {
   "cell_type": "markdown",
   "id": "8ca351d8",
   "metadata": {},
   "source": [
    "### Define function"
   ]
  },
  {
   "cell_type": "code",
   "execution_count": 21,
   "id": "f49450c0",
   "metadata": {},
   "outputs": [],
   "source": [
    "# PREPROCESSING FOR CODE SCRIPT\n",
    "def preprocess_script(script):\n",
    "    with open(script,'r',encoding='utf-8') as f:\n",
    "        lines = f.readlines()\n",
    "        preprocess_lines = []\n",
    "        for line in lines:\n",
    "            if line.lstrip().startswith('#'): # 주석으로 시작되거나 빈 행은 skip\n",
    "                continue\n",
    "            line = line.rstrip()\n",
    "            \n",
    "            if '#' in line:\n",
    "                line = line[:line.index('#')] # 주석 전까지 코드만 저장\n",
    "            line = line.replace('\\n','') # 개행 문자를 모두 삭제함\n",
    "            line = line.replace('    ','\\t') # 공백 4칸을 tab으로 변환\n",
    "            \n",
    "            if line == '':\n",
    "                continue\n",
    "            \n",
    "            preprocess_lines.append(line)\n",
    "        preprocessed_script = '\\n'.join(preprocess_lines)\n",
    "        \n",
    "    return preprocessed_script"
   ]
  },
  {
   "cell_type": "code",
   "execution_count": 22,
   "id": "8a99c605",
   "metadata": {},
   "outputs": [
    {
     "name": "stderr",
     "output_type": "stream",
     "text": [
      "100%|████████████████████████████████████████████████████████████████████████████████| 300/300 [00:06<00:00, 46.79it/s]\n"
     ]
    }
   ],
   "source": [
    "preprocess_scripts = []\n",
    "problem_nums = []\n",
    "\n",
    "for problem_folder in tqdm(problem_folders):\n",
    "    scripts = os.listdir(os.path.join(code_folder, problem_folder))\n",
    "    problem_num = problem_folder\n",
    "    for script in scripts:\n",
    "        script_file = os.path.join(code_folder,problem_folder,script)\n",
    "        preprocessed_script = preprocess_script(script_file)\n",
    "\n",
    "        preprocess_scripts.append(preprocessed_script)\n",
    "    problem_nums.extend([problem_num]*len(scripts))"
   ]
  },
  {
   "cell_type": "code",
   "execution_count": 24,
   "id": "646007ab",
   "metadata": {
    "scrolled": true
   },
   "outputs": [
    {
     "data": {
      "text/html": [
       "<div>\n",
       "<style scoped>\n",
       "    .dataframe tbody tr th:only-of-type {\n",
       "        vertical-align: middle;\n",
       "    }\n",
       "\n",
       "    .dataframe tbody tr th {\n",
       "        vertical-align: top;\n",
       "    }\n",
       "\n",
       "    .dataframe thead th {\n",
       "        text-align: right;\n",
       "    }\n",
       "</style>\n",
       "<table border=\"1\" class=\"dataframe\">\n",
       "  <thead>\n",
       "    <tr style=\"text-align: right;\">\n",
       "      <th></th>\n",
       "      <th>code</th>\n",
       "      <th>problem)num</th>\n",
       "    </tr>\n",
       "  </thead>\n",
       "  <tbody>\n",
       "    <tr>\n",
       "      <th>0</th>\n",
       "      <td>M = 9\\nN = 9\\ndef main():\\n\\tfor i in range(1,...</td>\n",
       "      <td>problem001</td>\n",
       "    </tr>\n",
       "    <tr>\n",
       "      <th>1</th>\n",
       "      <td>list1 = range(1,10)\\nlist2 = list1\\nfor i in l...</td>\n",
       "      <td>problem001</td>\n",
       "    </tr>\n",
       "    <tr>\n",
       "      <th>2</th>\n",
       "      <td>for x in range(1, 10):\\n\\tfor y in range(1, 10...</td>\n",
       "      <td>problem001</td>\n",
       "    </tr>\n",
       "    <tr>\n",
       "      <th>3</th>\n",
       "      <td>for i in range(1,10):\\n\\tfor n in range(1, 10)...</td>\n",
       "      <td>problem001</td>\n",
       "    </tr>\n",
       "    <tr>\n",
       "      <th>4</th>\n",
       "      <td>for i in range(1,10):\\n\\tfor k in range(1,10):...</td>\n",
       "      <td>problem001</td>\n",
       "    </tr>\n",
       "    <tr>\n",
       "      <th>...</th>\n",
       "      <td>...</td>\n",
       "      <td>...</td>\n",
       "    </tr>\n",
       "    <tr>\n",
       "      <th>95</th>\n",
       "      <td>for a in range(1,10):\\n\\tfor b in range(1,10):...</td>\n",
       "      <td>problem001</td>\n",
       "    </tr>\n",
       "    <tr>\n",
       "      <th>96</th>\n",
       "      <td>for i in range(1,10):\\n\\tfor j in range(1,10):...</td>\n",
       "      <td>problem001</td>\n",
       "    </tr>\n",
       "    <tr>\n",
       "      <th>97</th>\n",
       "      <td>for i in range(1, 10):\\n\\tfor j in range(1, 10...</td>\n",
       "      <td>problem001</td>\n",
       "    </tr>\n",
       "    <tr>\n",
       "      <th>98</th>\n",
       "      <td>def exe():\\n\\tfor i in range(1,10):\\n\\t\\tfor j...</td>\n",
       "      <td>problem001</td>\n",
       "    </tr>\n",
       "    <tr>\n",
       "      <th>99</th>\n",
       "      <td>x = 0\\ny = 0\\nfor i in range(1,10):\\n\\tx += 1\\...</td>\n",
       "      <td>problem001</td>\n",
       "    </tr>\n",
       "  </tbody>\n",
       "</table>\n",
       "<p>100 rows × 2 columns</p>\n",
       "</div>"
      ],
      "text/plain": [
       "                                                 code problem)num\n",
       "0   M = 9\\nN = 9\\ndef main():\\n\\tfor i in range(1,...  problem001\n",
       "1   list1 = range(1,10)\\nlist2 = list1\\nfor i in l...  problem001\n",
       "2   for x in range(1, 10):\\n\\tfor y in range(1, 10...  problem001\n",
       "3   for i in range(1,10):\\n\\tfor n in range(1, 10)...  problem001\n",
       "4   for i in range(1,10):\\n\\tfor k in range(1,10):...  problem001\n",
       "..                                                ...         ...\n",
       "95  for a in range(1,10):\\n\\tfor b in range(1,10):...  problem001\n",
       "96  for i in range(1,10):\\n\\tfor j in range(1,10):...  problem001\n",
       "97  for i in range(1, 10):\\n\\tfor j in range(1, 10...  problem001\n",
       "98  def exe():\\n\\tfor i in range(1,10):\\n\\t\\tfor j...  problem001\n",
       "99  x = 0\\ny = 0\\nfor i in range(1,10):\\n\\tx += 1\\...  problem001\n",
       "\n",
       "[100 rows x 2 columns]"
      ]
     },
     "execution_count": 24,
     "metadata": {},
     "output_type": "execute_result"
    }
   ],
   "source": [
    "pretrainedCode = pd.DataFrame(data= {'code':preprocess_scripts, 'problem)num':problem_nums})\n",
    "pretrainedCode.head(100)"
   ]
  },
  {
   "cell_type": "code",
   "execution_count": 25,
   "id": "9f9827d5",
   "metadata": {},
   "outputs": [
    {
     "data": {
      "text/plain": [
       "45101"
      ]
     },
     "execution_count": 25,
     "metadata": {},
     "output_type": "execute_result"
    }
   ],
   "source": [
    "len(pretrainedCode)"
   ]
  }
 ],
 "metadata": {
  "kernelspec": {
   "display_name": "Python 3 (ipykernel)",
   "language": "python",
   "name": "python3"
  },
  "language_info": {
   "codemirror_mode": {
    "name": "ipython",
    "version": 3
   },
   "file_extension": ".py",
   "mimetype": "text/x-python",
   "name": "python",
   "nbconvert_exporter": "python",
   "pygments_lexer": "ipython3",
   "version": "3.9.7"
  }
 },
 "nbformat": 4,
 "nbformat_minor": 5
}
