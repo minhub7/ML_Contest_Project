{
 "cells": [
  {
   "cell_type": "markdown",
   "id": "e01aec76",
   "metadata": {
    "pycharm": {
     "name": "#%% md\n"
    }
   },
   "source": [
    "#### make datasets"
   ]
  },
  {
   "cell_type": "code",
   "execution_count": 2,
   "id": "b7a3d399-1e6e-46e0-8594-f7750548c5eb",
   "metadata": {
    "pycharm": {
     "name": "#%%\n"
    }
   },
   "outputs": [],
   "source": [
    "from transformers import AutoTokenizer\n",
    "from datasets import load_dataset, load_metric"
   ]
  },
  {
   "cell_type": "code",
   "execution_count": 3,
   "id": "f896608f-52c9-438d-974f-79026ce23268",
   "metadata": {
    "pycharm": {
     "name": "#%%\n"
    }
   },
   "outputs": [
    {
     "name": "stderr",
     "output_type": "stream",
     "text": [
      "Using custom data configuration default-561f944b5d6d1cae\n"
     ]
    },
    {
     "name": "stdout",
     "output_type": "stream",
     "text": [
      "Downloading and preparing dataset csv/default to C:\\Users\\PC\\.cache\\huggingface\\datasets\\csv\\default-561f944b5d6d1cae\\0.0.0\\433e0ccc46f9880962cc2b12065189766fbb2bee57a221866138fb9203c83519...\n"
     ]
    },
    {
     "data": {
      "application/vnd.jupyter.widget-view+json": {
       "model_id": "45a2020c695e44e9b0e9e14a31ba4445",
       "version_major": 2,
       "version_minor": 0
      },
      "text/plain": [
       "Downloading data files:   0%|          | 0/1 [00:00<?, ?it/s]"
      ]
     },
     "metadata": {},
     "output_type": "display_data"
    },
    {
     "data": {
      "application/vnd.jupyter.widget-view+json": {
       "model_id": "e9025b2a366d4bc1bf46661a10a65882",
       "version_major": 2,
       "version_minor": 0
      },
      "text/plain": [
       "Extracting data files:   0%|          | 0/1 [00:00<?, ?it/s]"
      ]
     },
     "metadata": {},
     "output_type": "display_data"
    },
    {
     "name": "stdout",
     "output_type": "stream",
     "text": [
      "Dataset csv downloaded and prepared to C:\\Users\\PC\\.cache\\huggingface\\datasets\\csv\\default-561f944b5d6d1cae\\0.0.0\\433e0ccc46f9880962cc2b12065189766fbb2bee57a221866138fb9203c83519. Subsequent calls will reuse this data.\n"
     ]
    },
    {
     "data": {
      "application/vnd.jupyter.widget-view+json": {
       "model_id": "e50adb80bb744c8ebbf04c4f814e8fdc",
       "version_major": 2,
       "version_minor": 0
      },
      "text/plain": [
       "  0%|          | 0/1 [00:00<?, ?it/s]"
      ]
     },
     "metadata": {},
     "output_type": "display_data"
    },
    {
     "name": "stderr",
     "output_type": "stream",
     "text": [
      "Using custom data configuration default-cbb84c9edbbf260d\n"
     ]
    },
    {
     "name": "stdout",
     "output_type": "stream",
     "text": [
      "Downloading and preparing dataset csv/default to C:\\Users\\PC\\.cache\\huggingface\\datasets\\csv\\default-cbb84c9edbbf260d\\0.0.0\\433e0ccc46f9880962cc2b12065189766fbb2bee57a221866138fb9203c83519...\n"
     ]
    },
    {
     "data": {
      "application/vnd.jupyter.widget-view+json": {
       "model_id": "74db3e9d4b784bb2a9102e455e5ec40f",
       "version_major": 2,
       "version_minor": 0
      },
      "text/plain": [
       "Downloading data files:   0%|          | 0/1 [00:00<?, ?it/s]"
      ]
     },
     "metadata": {},
     "output_type": "display_data"
    },
    {
     "data": {
      "application/vnd.jupyter.widget-view+json": {
       "model_id": "9d0d06317664477c822f15bd5751e1c9",
       "version_major": 2,
       "version_minor": 0
      },
      "text/plain": [
       "Extracting data files:   0%|          | 0/1 [00:00<?, ?it/s]"
      ]
     },
     "metadata": {},
     "output_type": "display_data"
    },
    {
     "name": "stdout",
     "output_type": "stream",
     "text": [
      "Dataset csv downloaded and prepared to C:\\Users\\PC\\.cache\\huggingface\\datasets\\csv\\default-cbb84c9edbbf260d\\0.0.0\\433e0ccc46f9880962cc2b12065189766fbb2bee57a221866138fb9203c83519. Subsequent calls will reuse this data.\n"
     ]
    },
    {
     "data": {
      "application/vnd.jupyter.widget-view+json": {
       "model_id": "fcc22bb5d2534b7c9fa657fc59ae2b70",
       "version_major": 2,
       "version_minor": 0
      },
      "text/plain": [
       "  0%|          | 0/1 [00:00<?, ?it/s]"
      ]
     },
     "metadata": {},
     "output_type": "display_data"
    },
    {
     "data": {
      "application/vnd.jupyter.widget-view+json": {
       "model_id": "970c6e8c657d4c49a6a147c8f9474283",
       "version_major": 2,
       "version_minor": 0
      },
      "text/plain": [
       "  0%|          | 0/300000 [00:00<?, ?ex/s]"
      ]
     },
     "metadata": {},
     "output_type": "display_data"
    },
    {
     "data": {
      "application/vnd.jupyter.widget-view+json": {
       "model_id": "2e86a00c10374a46bb44e083b6138695",
       "version_major": 2,
       "version_minor": 0
      },
      "text/plain": [
       "  0%|          | 0/30000 [00:00<?, ?ex/s]"
      ]
     },
     "metadata": {},
     "output_type": "display_data"
    }
   ],
   "source": [
    "MODEL = \"microsoft/graphcodebert-base\"\n",
    "TRAIN_LV1_INPUT = \"./data/train_data_lv1.csv\"\n",
    "# TRAIN_LV2_INPUT = \"./data/train_data_lv2.csv\"\n",
    "# TRAIN_LV3_INPUT = \"./data/train_data_lv3.csv\"\n",
    "VALID_LV1_INPUT = \"./data/valid_data_lv1.csv\"\n",
    "# VALID_LV2_INPUT = \"./data/valid_data_lv2.csv\"\n",
    "# VALID_LV3_INPUT = \"./data/valid_data_lv3.csv\"\n",
    "MAX_LEN = 512\n",
    "\n",
    "train_dataset_lv1 = load_dataset(\"csv\", data_files=TRAIN_LV1_INPUT)['train']\n",
    "# train_dataset_lv2 = load_dataset(\"csv\", data_files=TRAIN_LV2_INPUT)['train']\n",
    "# train_dataset_lv3 = load_dataset(\"csv\", data_files=TRAIN_LV3_INPUT)['train']\n",
    "valid_dataset_lv1 = load_dataset(\"csv\", data_files=VALID_LV1_INPUT)[\"train\"]\n",
    "# valid_dataset_lv2 = load_dataset(\"csv\", data_files=VALID_LV2_INPUT)[\"train\"]\n",
    "# valid_dataset_lv3 = load_dataset(\"csv\", data_files=VALID_LV3_INPUT)[\"train\"]\n",
    "tokenizer = AutoTokenizer.from_pretrained(MODEL)\n",
    "tokenizer.truncation_side='left'\n",
    "\n",
    "def example_fn(examples):\n",
    "    outputs = tokenizer(examples['code1'], examples['code2'], padding=True, max_length=MAX_LEN,truncation=True,)\n",
    "    if 'similar' in examples:\n",
    "        outputs[\"labels\"] = examples[\"similar\"]\n",
    "    return outputs\n",
    "\n",
    "train_dataset_lv1 = train_dataset_lv1.map(example_fn, remove_columns=['code1', 'code2', 'similar'])\n",
    "# train_dataset_lv2 = train_dataset_lv2.map(example_fn, remove_columns=['code1', 'code2', 'similar'])\n",
    "# train_dataset_lv3 = train_dataset_lv3.map(example_fn, remove_columns=['code1', 'code2', 'similar'])\n",
    "\n",
    "valid_dataset_lv1 = valid_dataset_lv1.map(example_fn, remove_columns=['code1', 'code2', 'similar'])\n",
    "# valid_dataset_lv2 = valid_dataset_lv2.map(example_fn, remove_columns=['code1', 'code2', 'similar'])\n",
    "# valid_dataset_lv3 = valid_dataset_lv3.map(example_fn, remove_columns=['code1', 'code2', 'similar'])"
   ]
  },
  {
   "cell_type": "code",
   "execution_count": 4,
   "id": "ec730d7b",
   "metadata": {
    "collapsed": false,
    "jupyter": {
     "outputs_hidden": false
    },
    "pycharm": {
     "name": "#%%\n"
    }
   },
   "outputs": [],
   "source": [
    "train_dataset_lv1.save_to_disk('./data/train_dataset_lv1')\n",
    "# train_dataset_lv2.save_to_disk('./data/train_dataset_lv2')\n",
    "# train_dataset_lv3.save_to_disk('./data/train_dataset_lv3')\n",
    "valid_dataset_lv1.save_to_disk('./data/valid_dataset_lv1')\n",
    "# valid_dataset_lv2.save_to_disk('./data/valid_dataset_lv2')\n",
    "# valid_dataset_lv3.save_to_disk('./data/valid_dataset_lv3')"
   ]
  },
  {
   "cell_type": "code",
   "execution_count": 3,
   "id": "252eafba",
   "metadata": {
    "collapsed": false,
    "jupyter": {
     "outputs_hidden": false
    },
    "pycharm": {
     "name": "#%%\n"
    }
   },
   "outputs": [],
   "source": []
  }
 ],
 "metadata": {
  "kernelspec": {
   "display_name": "Python 3 (ipykernel)",
   "language": "python",
   "name": "python3"
  },
  "language_info": {
   "codemirror_mode": {
    "name": "ipython",
    "version": 3
   },
   "file_extension": ".py",
   "mimetype": "text/x-python",
   "name": "python",
   "nbconvert_exporter": "python",
   "pygments_lexer": "ipython3",
   "version": "3.9.7"
  }
 },
 "nbformat": 4,
 "nbformat_minor": 5
}
