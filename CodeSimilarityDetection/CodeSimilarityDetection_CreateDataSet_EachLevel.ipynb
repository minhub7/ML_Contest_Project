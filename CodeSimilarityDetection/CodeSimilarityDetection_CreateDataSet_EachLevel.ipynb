{
 "cells": [
  {
   "cell_type": "markdown",
   "id": "12beff2b",
   "metadata": {},
   "source": [
    "# 0. 필요 라이브러리 및 변수, 함수 정의"
   ]
  },
  {
   "cell_type": "markdown",
   "id": "b6160b87",
   "metadata": {},
   "source": [
    "## import library & package"
   ]
  },
  {
   "cell_type": "code",
   "execution_count": 7,
   "id": "41b3b0a4",
   "metadata": {},
   "outputs": [],
   "source": [
    "import os\n",
    "import numpy as np\n",
    "import pandas as pd\n",
    "import torch\n",
    "import random\n",
    "import re\n",
    "\n",
    "from tqdm import tqdm\n",
    "from itertools import combinations\n",
    "from transformers import AutoTokenizer, BertForSequenceClassification\n",
    "# from transformers import AutoModel, AutoModelForSequenceClassification\n",
    "# from datasets import load_dataset, load_metric\n",
    "from rank_bm25 import BM25Okapi\n",
    "from sklearn.model_selection import train_test_split"
   ]
  },
  {
   "cell_type": "markdown",
   "id": "4e4672ad-5115-467e-8b74-48705cb6a4dd",
   "metadata": {},
   "source": [
    "**BM25: 키워드 기반 랭킹 알고리즘**\n",
    "- 주어진 쿼리에 대해 문서와의 연관성을 평가하는 랭킹 함수\n",
    "- Bag-of-words 개념을 사용하여 쿼리에 있는 용어가 각각의 문서에 얼마나 자주 등장하는지를 평가\n",
    "    - 이때 IDF값을 곱해서 자주 등장하지 않는 단어에 더 큰 가중치를 줌."
   ]
  },
  {
   "cell_type": "markdown",
   "id": "3cbef753",
   "metadata": {},
   "source": [
    "## Define variable data"
   ]
  },
  {
   "cell_type": "code",
   "execution_count": 2,
   "id": "cae75785",
   "metadata": {},
   "outputs": [],
   "source": [
    "code_folder = \"data/code/\"\n",
    "problem_folders = os.listdir(code_folder)"
   ]
  },
  {
   "cell_type": "markdown",
   "id": "8ca351d8",
   "metadata": {},
   "source": [
    "## Define function"
   ]
  },
  {
   "cell_type": "code",
   "execution_count": 35,
   "id": "f49450c0",
   "metadata": {},
   "outputs": [],
   "source": [
    "# PREPROCESSING FOR CODE SCRIPT\n",
    "def preprocess_script(script):\n",
    "    with open(script,'r',encoding='utf-8') as file:\n",
    "        lines = file.readlines()\n",
    "        preprocess_lines = []\n",
    "        for line in lines:\n",
    "            if line.lstrip().startswith('#'): # 주석으로 시작되는 행 skip\n",
    "                continue\n",
    "            if \"http\" in line:\n",
    "                continue\n",
    "                \n",
    "            line = line.rstrip()\n",
    "            if '#' in line:\n",
    "                line = line[:line.index('#')] # 주석 전까지 코드만 저장\n",
    "            line = line.replace('\\n','') # 개행 문자를 모두 삭제함\n",
    "            line = line.replace('    ','\\t') # 공백 4칸을 tab으로 변환\n",
    "            \n",
    "            if line == '': # 전처리 후 빈 라인은 skip\n",
    "                continue\n",
    "            \n",
    "            preprocess_lines.append(line)\n",
    "        preprocessed_script = '\\n'.join(preprocess_lines) # 개행 문자로 합침\n",
    "        \n",
    "    return preprocessed_script"
   ]
  },
  {
   "cell_type": "markdown",
   "id": "4e75ebdc-3fa6-4fb5-a4b0-2893c17a5f96",
   "metadata": {},
   "source": [
    "## Preprocessing"
   ]
  },
  {
   "cell_type": "code",
   "execution_count": 37,
   "id": "8a99c605",
   "metadata": {},
   "outputs": [
    {
     "name": "stderr",
     "output_type": "stream",
     "text": [
      "100%|████████████████████████████████████████████████████████████████████████████████| 300/300 [00:11<00:00, 25.87it/s]\n"
     ]
    }
   ],
   "source": [
    "preprocess_scripts = []\n",
    "problem_nums = []\n",
    "\n",
    "# 300개 Sample code에 대한 전처리\n",
    "for problem_folder in tqdm(problem_folders):\n",
    "    scripts = os.listdir(os.path.join(code_folder, problem_folder))\n",
    "    problem_num = problem_folder\n",
    "    for script in scripts:\n",
    "        script_file = os.path.join(code_folder,problem_folder,script)\n",
    "        preprocessed_script = preprocess_script(script_file)\n",
    "\n",
    "        preprocess_scripts.append(preprocessed_script)\n",
    "    # 번호 목록을 만들어서 전처리한 dataframe에 함께 넣어줌\n",
    "    problem_nums.extend([problem_num]*len(scripts))"
   ]
  },
  {
   "cell_type": "code",
   "execution_count": 38,
   "id": "646007ab",
   "metadata": {
    "scrolled": true
   },
   "outputs": [],
   "source": [
    "df = pd.DataFrame(data= {'code':preprocess_scripts, 'problem_num':problem_nums})"
   ]
  },
  {
   "cell_type": "markdown",
   "id": "178badfc-8192-4439-8d88-62519264df9a",
   "metadata": {},
   "source": [
    "**다중 주석 (\"\"\" \"\"\", ''' ''') 삭제**"
   ]
  },
  {
   "cell_type": "code",
   "execution_count": 39,
   "id": "e8c3e06b-145e-4ce3-a7ed-f07fa0b9f2f8",
   "metadata": {},
   "outputs": [
    {
     "name": "stderr",
     "output_type": "stream",
     "text": [
      "100%|████████████████████████████████████████████████████████████████████████| 45101/45101 [00:00<00:00, 309499.45it/s]\n"
     ]
    },
    {
     "data": {
      "text/html": [
       "<div>\n",
       "<style scoped>\n",
       "    .dataframe tbody tr th:only-of-type {\n",
       "        vertical-align: middle;\n",
       "    }\n",
       "\n",
       "    .dataframe tbody tr th {\n",
       "        vertical-align: top;\n",
       "    }\n",
       "\n",
       "    .dataframe thead th {\n",
       "        text-align: right;\n",
       "    }\n",
       "</style>\n",
       "<table border=\"1\" class=\"dataframe\">\n",
       "  <thead>\n",
       "    <tr style=\"text-align: right;\">\n",
       "      <th></th>\n",
       "      <th>code</th>\n",
       "      <th>problem_num</th>\n",
       "    </tr>\n",
       "  </thead>\n",
       "  <tbody>\n",
       "    <tr>\n",
       "      <th>0</th>\n",
       "      <td>M = 9\\nN = 9\\ndef main():\\n\\tfor i in range(1,...</td>\n",
       "      <td>problem001</td>\n",
       "    </tr>\n",
       "    <tr>\n",
       "      <th>1</th>\n",
       "      <td>list1 = range(1,10)\\nlist2 = list1\\nfor i in l...</td>\n",
       "      <td>problem001</td>\n",
       "    </tr>\n",
       "    <tr>\n",
       "      <th>2</th>\n",
       "      <td>for x in range(1, 10):\\n\\tfor y in range(1, 10...</td>\n",
       "      <td>problem001</td>\n",
       "    </tr>\n",
       "    <tr>\n",
       "      <th>3</th>\n",
       "      <td>for i in range(1,10):\\n\\tfor n in range(1, 10)...</td>\n",
       "      <td>problem001</td>\n",
       "    </tr>\n",
       "    <tr>\n",
       "      <th>4</th>\n",
       "      <td>for i in range(1,10):\\n\\tfor k in range(1,10):...</td>\n",
       "      <td>problem001</td>\n",
       "    </tr>\n",
       "  </tbody>\n",
       "</table>\n",
       "</div>"
      ],
      "text/plain": [
       "                                                code problem_num\n",
       "0  M = 9\\nN = 9\\ndef main():\\n\\tfor i in range(1,...  problem001\n",
       "1  list1 = range(1,10)\\nlist2 = list1\\nfor i in l...  problem001\n",
       "2  for x in range(1, 10):\\n\\tfor y in range(1, 10...  problem001\n",
       "3  for i in range(1,10):\\n\\tfor n in range(1, 10)...  problem001\n",
       "4  for i in range(1,10):\\n\\tfor k in range(1,10):...  problem001"
      ]
     },
     "execution_count": 39,
     "metadata": {},
     "output_type": "execute_result"
    }
   ],
   "source": [
    "codes = df['code'].to_list()\n",
    "new_codes = []\n",
    "for code in tqdm(codes):\n",
    "    new_code = re.sub('(\"\"\"[\\w\\W]*?\"\"\")', '<str>', code)\n",
    "    if new_code == code:\n",
    "        new_code = re.sub(\"('''[\\w\\W]*?''')\", '<str>', code)\n",
    "    new_codes.append(new_code)\n",
    "    \n",
    "df['code'] = new_codes\n",
    "df.head()"
   ]
  },
  {
   "cell_type": "markdown",
   "id": "4a0ecbd5-e21f-4131-869a-72177e02f660",
   "metadata": {
    "tags": []
   },
   "source": [
    "## Create Data Set"
   ]
  },
  {
   "cell_type": "markdown",
   "id": "835c0544-2c35-4562-a2c3-9cc479b5a61b",
   "metadata": {},
   "source": [
    "### Tokenizer 수행, microsoft에서 개발한 사전 학습 모델인 graphcodebert 사용"
   ]
  },
  {
   "cell_type": "code",
   "execution_count": null,
   "id": "7afd913e-0b03-4ba8-8987-96ff31189855",
   "metadata": {},
   "outputs": [
    {
     "name": "stderr",
     "output_type": "stream",
     "text": [
      "Token indices sequence length is longer than the specified maximum sequence length for this model (773 > 512). Running this sequence through the model will result in indexing errors\n"
     ]
    }
   ],
   "source": [
    "# # AutoTokenizer로 graphcodebert 사용하도록 설정\n",
    "# tokenizer = AutoTokenizer.from_pretrained(\"microsoft/graphcodebert-base\")\n",
    "# # tokenizer.truncation_side = 'left'\n",
    "\n",
    "# df['tokens'] = df['code'].apply(tokenizer.tokenize) # Sample code를 Tokenization해서 tokens 컬럼에 추가\n",
    "# df['len'] = df['tokens'].apply(len) # tokens의 길이를 len 컬럼에 추가"
   ]
  },
  {
   "cell_type": "code",
   "execution_count": 40,
   "id": "2366864c-6f80-470f-932d-f44a61501e90",
   "metadata": {},
   "outputs": [],
   "source": [
    "# AutoTokenizer로 graphcodebert 사용하도록 설정\n",
    "tokenizer = AutoTokenizer.from_pretrained(\"microsoft/graphcodebert-base\")\n",
    "tokenizer.truncation_side = 'left'\n",
    "\n",
    "tokens = []\n",
    "for code in df['code']:\n",
    "    tokens.append(tokenizer.tokenize(code, max_length=512, truncation=True))\n",
    "\n",
    "df['tokens'] = tokens # Sample code를 Tokenization해서 tokens 컬럼에 추가\n",
    "df['len'] = df['tokens'].apply(len) # tokens의 길이를 len 컬럼에 추가"
   ]
  },
  {
   "cell_type": "code",
   "execution_count": 41,
   "id": "7e901b90-3ca5-4bc2-a7b7-5037fe59582c",
   "metadata": {},
   "outputs": [
    {
     "data": {
      "text/html": [
       "<div>\n",
       "<style scoped>\n",
       "    .dataframe tbody tr th:only-of-type {\n",
       "        vertical-align: middle;\n",
       "    }\n",
       "\n",
       "    .dataframe tbody tr th {\n",
       "        vertical-align: top;\n",
       "    }\n",
       "\n",
       "    .dataframe thead th {\n",
       "        text-align: right;\n",
       "    }\n",
       "</style>\n",
       "<table border=\"1\" class=\"dataframe\">\n",
       "  <thead>\n",
       "    <tr style=\"text-align: right;\">\n",
       "      <th></th>\n",
       "      <th>code</th>\n",
       "      <th>problem_num</th>\n",
       "      <th>tokens</th>\n",
       "      <th>len</th>\n",
       "    </tr>\n",
       "  </thead>\n",
       "  <tbody>\n",
       "    <tr>\n",
       "      <th>0</th>\n",
       "      <td>M = 9\\nN = 9\\ndef main():\\n\\tfor i in range(1,...</td>\n",
       "      <td>problem001</td>\n",
       "      <td>[M, Ġ=, Ġ9, Ċ, N, Ġ=, Ġ9, Ċ, def, Ġmain, ():, ...</td>\n",
       "      <td>83</td>\n",
       "    </tr>\n",
       "    <tr>\n",
       "      <th>1</th>\n",
       "      <td>list1 = range(1,10)\\nlist2 = list1\\nfor i in l...</td>\n",
       "      <td>problem001</td>\n",
       "      <td>[list, 1, Ġ=, Ġrange, (, 1, ,, 10, ), Ċ, list,...</td>\n",
       "      <td>57</td>\n",
       "    </tr>\n",
       "    <tr>\n",
       "      <th>2</th>\n",
       "      <td>for x in range(1, 10):\\n\\tfor y in range(1, 10...</td>\n",
       "      <td>problem001</td>\n",
       "      <td>[for, Ġx, Ġin, Ġrange, (, 1, ,, Ġ10, ):, Ċ, ĉ,...</td>\n",
       "      <td>42</td>\n",
       "    </tr>\n",
       "    <tr>\n",
       "      <th>3</th>\n",
       "      <td>for i in range(1,10):\\n\\tfor n in range(1, 10)...</td>\n",
       "      <td>problem001</td>\n",
       "      <td>[for, Ġi, Ġin, Ġrange, (, 1, ,, 10, ):, Ċ, ĉ, ...</td>\n",
       "      <td>43</td>\n",
       "    </tr>\n",
       "    <tr>\n",
       "      <th>4</th>\n",
       "      <td>for i in range(1,10):\\n\\tfor k in range(1,10):...</td>\n",
       "      <td>problem001</td>\n",
       "      <td>[for, Ġi, Ġin, Ġrange, (, 1, ,, 10, ):, Ċ, ĉ, ...</td>\n",
       "      <td>46</td>\n",
       "    </tr>\n",
       "  </tbody>\n",
       "</table>\n",
       "</div>"
      ],
      "text/plain": [
       "                                                code problem_num  \\\n",
       "0  M = 9\\nN = 9\\ndef main():\\n\\tfor i in range(1,...  problem001   \n",
       "1  list1 = range(1,10)\\nlist2 = list1\\nfor i in l...  problem001   \n",
       "2  for x in range(1, 10):\\n\\tfor y in range(1, 10...  problem001   \n",
       "3  for i in range(1,10):\\n\\tfor n in range(1, 10)...  problem001   \n",
       "4  for i in range(1,10):\\n\\tfor k in range(1,10):...  problem001   \n",
       "\n",
       "                                              tokens  len  \n",
       "0  [M, Ġ=, Ġ9, Ċ, N, Ġ=, Ġ9, Ċ, def, Ġmain, ():, ...   83  \n",
       "1  [list, 1, Ġ=, Ġrange, (, 1, ,, 10, ), Ċ, list,...   57  \n",
       "2  [for, Ġx, Ġin, Ġrange, (, 1, ,, Ġ10, ):, Ċ, ĉ,...   42  \n",
       "3  [for, Ġi, Ġin, Ġrange, (, 1, ,, 10, ):, Ċ, ĉ, ...   43  \n",
       "4  [for, Ġi, Ġin, Ġrange, (, 1, ,, 10, ):, Ċ, ĉ, ...   46  "
      ]
     },
     "execution_count": 41,
     "metadata": {},
     "output_type": "execute_result"
    }
   ],
   "source": [
    "df.head()"
   ]
  },
  {
   "cell_type": "code",
   "execution_count": 42,
   "id": "76905708-0b78-4fbb-b216-d2250e502ae2",
   "metadata": {},
   "outputs": [
    {
     "data": {
      "text/html": [
       "<div>\n",
       "<style scoped>\n",
       "    .dataframe tbody tr th:only-of-type {\n",
       "        vertical-align: middle;\n",
       "    }\n",
       "\n",
       "    .dataframe tbody tr th {\n",
       "        vertical-align: top;\n",
       "    }\n",
       "\n",
       "    .dataframe thead th {\n",
       "        text-align: right;\n",
       "    }\n",
       "</style>\n",
       "<table border=\"1\" class=\"dataframe\">\n",
       "  <thead>\n",
       "    <tr style=\"text-align: right;\">\n",
       "      <th></th>\n",
       "      <th>len</th>\n",
       "    </tr>\n",
       "  </thead>\n",
       "  <tbody>\n",
       "    <tr>\n",
       "      <th>count</th>\n",
       "      <td>45101.000000</td>\n",
       "    </tr>\n",
       "    <tr>\n",
       "      <th>mean</th>\n",
       "      <td>148.884903</td>\n",
       "    </tr>\n",
       "    <tr>\n",
       "      <th>std</th>\n",
       "      <td>121.186994</td>\n",
       "    </tr>\n",
       "    <tr>\n",
       "      <th>min</th>\n",
       "      <td>5.000000</td>\n",
       "    </tr>\n",
       "    <tr>\n",
       "      <th>25%</th>\n",
       "      <td>61.000000</td>\n",
       "    </tr>\n",
       "    <tr>\n",
       "      <th>50%</th>\n",
       "      <td>107.000000</td>\n",
       "    </tr>\n",
       "    <tr>\n",
       "      <th>75%</th>\n",
       "      <td>198.000000</td>\n",
       "    </tr>\n",
       "    <tr>\n",
       "      <th>max</th>\n",
       "      <td>512.000000</td>\n",
       "    </tr>\n",
       "  </tbody>\n",
       "</table>\n",
       "</div>"
      ],
      "text/plain": [
       "                len\n",
       "count  45101.000000\n",
       "mean     148.884903\n",
       "std      121.186994\n",
       "min        5.000000\n",
       "25%       61.000000\n",
       "50%      107.000000\n",
       "75%      198.000000\n",
       "max      512.000000"
      ]
     },
     "execution_count": 42,
     "metadata": {},
     "output_type": "execute_result"
    }
   ],
   "source": [
    "df.describe()"
   ]
  },
  {
   "cell_type": "code",
   "execution_count": 43,
   "id": "85f05e9a-437c-48c2-9403-5b605efdf4a1",
   "metadata": {},
   "outputs": [],
   "source": [
    "# train과 validation data set 분리\n",
    "train_df, valid_df, train_label, valid_label = train_test_split(\n",
    "        df,\n",
    "        df['problem_num'],\n",
    "        random_state=42,\n",
    "        test_size=0.1,\n",
    "        stratify=df['problem_num']\n",
    "    )\n",
    "\n",
    "train_df = train_df.reset_index(drop=True) # Reindexing\n",
    "valid_df = valid_df.reset_index(drop=True)"
   ]
  },
  {
   "cell_type": "code",
   "execution_count": 44,
   "id": "e51c0335-194d-496f-a0f4-dd761740538a",
   "metadata": {},
   "outputs": [
    {
     "data": {
      "text/html": [
       "<div>\n",
       "<style scoped>\n",
       "    .dataframe tbody tr th:only-of-type {\n",
       "        vertical-align: middle;\n",
       "    }\n",
       "\n",
       "    .dataframe tbody tr th {\n",
       "        vertical-align: top;\n",
       "    }\n",
       "\n",
       "    .dataframe thead th {\n",
       "        text-align: right;\n",
       "    }\n",
       "</style>\n",
       "<table border=\"1\" class=\"dataframe\">\n",
       "  <thead>\n",
       "    <tr style=\"text-align: right;\">\n",
       "      <th></th>\n",
       "      <th>code</th>\n",
       "      <th>problem_num</th>\n",
       "      <th>tokens</th>\n",
       "      <th>len</th>\n",
       "    </tr>\n",
       "  </thead>\n",
       "  <tbody>\n",
       "    <tr>\n",
       "      <th>0</th>\n",
       "      <td>h,w,n = [int(input()) for i in range(3)]\\nprin...</td>\n",
       "      <td>problem236</td>\n",
       "      <td>[h, ,, w, ,, n, Ġ=, Ġ[, int, (, input, ()), Ġf...</td>\n",
       "      <td>34</td>\n",
       "    </tr>\n",
       "    <tr>\n",
       "      <th>1</th>\n",
       "      <td>join,rate=map(int,input().split())\\nif join&gt;=1...</td>\n",
       "      <td>problem211</td>\n",
       "      <td>[join, ,, rate, =, map, (, int, ,, input, ().,...</td>\n",
       "      <td>41</td>\n",
       "    </tr>\n",
       "    <tr>\n",
       "      <th>2</th>\n",
       "      <td>n, k = map(int, input().split())\\nh = sorted(l...</td>\n",
       "      <td>problem227</td>\n",
       "      <td>[n, ,, Ġk, Ġ=, Ġmap, (, int, ,, Ġinput, ()., s...</td>\n",
       "      <td>46</td>\n",
       "    </tr>\n",
       "    <tr>\n",
       "      <th>3</th>\n",
       "      <td>N = int(input())\\na_list = list(map(int, input...</td>\n",
       "      <td>problem257</td>\n",
       "      <td>[N, Ġ=, Ġint, (, input, ()), Ċ, a, _, list, Ġ=...</td>\n",
       "      <td>87</td>\n",
       "    </tr>\n",
       "    <tr>\n",
       "      <th>4</th>\n",
       "      <td>N=int(input())\\nD=[{} for _ in range(N+1)]\\nfo...</td>\n",
       "      <td>problem262</td>\n",
       "      <td>[N, =, int, (, input, ()), Ċ, D, =[, {, }, Ġfo...</td>\n",
       "      <td>218</td>\n",
       "    </tr>\n",
       "    <tr>\n",
       "      <th>...</th>\n",
       "      <td>...</td>\n",
       "      <td>...</td>\n",
       "      <td>...</td>\n",
       "      <td>...</td>\n",
       "    </tr>\n",
       "    <tr>\n",
       "      <th>40585</th>\n",
       "      <td>import math\\nx1, y1, x2, y2 = map(float, input...</td>\n",
       "      <td>problem029</td>\n",
       "      <td>[import, Ġmath, Ċ, x, 1, ,, Ġy, 1, ,, Ġx, 2, ,...</td>\n",
       "      <td>57</td>\n",
       "    </tr>\n",
       "    <tr>\n",
       "      <th>40586</th>\n",
       "      <td>N, M = map(int, input().split())\\ndata = [0]*N...</td>\n",
       "      <td>problem240</td>\n",
       "      <td>[N, ,, ĠM, Ġ=, Ġmap, (, int, ,, Ġinput, ()., s...</td>\n",
       "      <td>131</td>\n",
       "    </tr>\n",
       "    <tr>\n",
       "      <th>40587</th>\n",
       "      <td>mod = int(1e9+7)\\ndef add(a, b):\\n\\tc = a + b\\...</td>\n",
       "      <td>problem235</td>\n",
       "      <td>[), Ġ%, Ġmod, Ċ, def, Ġmy, _, p, ow, (, a, ,, ...</td>\n",
       "      <td>512</td>\n",
       "    </tr>\n",
       "    <tr>\n",
       "      <th>40588</th>\n",
       "      <td>import sys\\nINF = -1\\ndef main(T1, T2, A1, A2,...</td>\n",
       "      <td>problem269</td>\n",
       "      <td>[import, Ġsys, Ċ, IN, F, Ġ=, Ġ-, 1, Ċ, def, Ġm...</td>\n",
       "      <td>245</td>\n",
       "    </tr>\n",
       "    <tr>\n",
       "      <th>40589</th>\n",
       "      <td>N = int(input())\\nA = list(map(int,input().spl...</td>\n",
       "      <td>problem171</td>\n",
       "      <td>[N, Ġ=, Ġint, (, input, ()), Ċ, A, Ġ=, Ġlist, ...</td>\n",
       "      <td>301</td>\n",
       "    </tr>\n",
       "  </tbody>\n",
       "</table>\n",
       "<p>40590 rows × 4 columns</p>\n",
       "</div>"
      ],
      "text/plain": [
       "                                                    code problem_num  \\\n",
       "0      h,w,n = [int(input()) for i in range(3)]\\nprin...  problem236   \n",
       "1      join,rate=map(int,input().split())\\nif join>=1...  problem211   \n",
       "2      n, k = map(int, input().split())\\nh = sorted(l...  problem227   \n",
       "3      N = int(input())\\na_list = list(map(int, input...  problem257   \n",
       "4      N=int(input())\\nD=[{} for _ in range(N+1)]\\nfo...  problem262   \n",
       "...                                                  ...         ...   \n",
       "40585  import math\\nx1, y1, x2, y2 = map(float, input...  problem029   \n",
       "40586  N, M = map(int, input().split())\\ndata = [0]*N...  problem240   \n",
       "40587  mod = int(1e9+7)\\ndef add(a, b):\\n\\tc = a + b\\...  problem235   \n",
       "40588  import sys\\nINF = -1\\ndef main(T1, T2, A1, A2,...  problem269   \n",
       "40589  N = int(input())\\nA = list(map(int,input().spl...  problem171   \n",
       "\n",
       "                                                  tokens  len  \n",
       "0      [h, ,, w, ,, n, Ġ=, Ġ[, int, (, input, ()), Ġf...   34  \n",
       "1      [join, ,, rate, =, map, (, int, ,, input, ().,...   41  \n",
       "2      [n, ,, Ġk, Ġ=, Ġmap, (, int, ,, Ġinput, ()., s...   46  \n",
       "3      [N, Ġ=, Ġint, (, input, ()), Ċ, a, _, list, Ġ=...   87  \n",
       "4      [N, =, int, (, input, ()), Ċ, D, =[, {, }, Ġfo...  218  \n",
       "...                                                  ...  ...  \n",
       "40585  [import, Ġmath, Ċ, x, 1, ,, Ġy, 1, ,, Ġx, 2, ,...   57  \n",
       "40586  [N, ,, ĠM, Ġ=, Ġmap, (, int, ,, Ġinput, ()., s...  131  \n",
       "40587  [), Ġ%, Ġmod, Ċ, def, Ġmy, _, p, ow, (, a, ,, ...  512  \n",
       "40588  [import, Ġsys, Ċ, IN, F, Ġ=, Ġ-, 1, Ċ, def, Ġm...  245  \n",
       "40589  [N, Ġ=, Ġint, (, input, ()), Ċ, A, Ġ=, Ġlist, ...  301  \n",
       "\n",
       "[40590 rows x 4 columns]"
      ]
     },
     "execution_count": 44,
     "metadata": {},
     "output_type": "execute_result"
    }
   ],
   "source": [
    "train_df"
   ]
  },
  {
   "cell_type": "markdown",
   "id": "5af78563-b2e2-42ec-b06b-14de2cf1f8f6",
   "metadata": {},
   "source": [
    "**stratify (classification을 다룰 때 매우 중요한 옵션)**\n",
    "- default=None\n",
    "- stratify 값을 target으로 지정해주면 각각의 class 비율을 train / validation에 유지해 줌\n",
    "    - 한 쪽에 쏠려서 분배되는 것을 방지\n",
    "- 만약 이 옵션을 지정해 주지 않고 분류 문제를 다룬다면, 성능의 차이가 많이 날 수 있음"
   ]
  },
  {
   "cell_type": "markdown",
   "id": "f1f166eb-3550-4b59-b052-8c82d015a2fd",
   "metadata": {},
   "source": [
    "----------------\n",
    "#### Create Easy Level dataset\n",
    "- Random하게 뽑은 Positive pairs와 Negative pairs로 구성\n",
    "**Train data set**"
   ]
  },
  {
   "cell_type": "code",
   "execution_count": 45,
   "id": "69927a0a-225d-467c-977c-59a798f9da4b",
   "metadata": {},
   "outputs": [],
   "source": [
    "codes = train_df['code'].to_list() # code 컬럼을 list로 변환 - codes는 code가 쭉 나열된 형태임\n",
    "problems = train_df['problem_num'].unique().tolist() # 문제 번호를 중복을 제외하고 list로 변환\n",
    "problems.sort()"
   ]
  },
  {
   "cell_type": "code",
   "execution_count": 46,
   "id": "fefea800-a433-4fe4-a71f-5c9197a144e3",
   "metadata": {},
   "outputs": [],
   "source": [
    "total_positive_pairs = []\n",
    "total_negative_pairs = []"
   ]
  },
  {
   "cell_type": "code",
   "execution_count": null,
   "id": "ff7c78d1-f98e-4b87-ad9c-5af4a5e6c4d2",
   "metadata": {},
   "outputs": [
    {
     "name": "stderr",
     "output_type": "stream",
     "text": [
      " 27%|█████████████████████▌                                                           | 80/300 [00:03<00:08, 24.88it/s]"
     ]
    }
   ],
   "source": [
    "for problem in tqdm(problems):\n",
    "    # 각각의 문제에 대한 code를 골라 정답 코드로 저장, 아닌 문제는 other_codes로 저장\n",
    "    # 이때 train_df에는 problem_num이 정렬된 상태가 아니기 때문에 index가 다를 수 있음\n",
    "    solution_codes = train_df[train_df['problem_num'] == problem]['code'].to_list()\n",
    "    other_codes = train_df[train_df['problem_num'] != problem]['code'].to_list()\n",
    "    \n",
    "    # positive_pairs 500개 (총 300 * 500 = 150,000개) 추출\n",
    "    # negative_pairs 500개 (총 300 * 500 = 150,000개) 추출\n",
    "    positive_pairs = list(combinations(solution_codes,2))\n",
    "    random.shuffle(positive_pairs)\n",
    "    positive_pairs = positive_pairs[:1000]\n",
    "    random.shuffle(other_codes)\n",
    "    other_codes = other_codes[:1000]\n",
    "    \n",
    "    negative_pairs = []\n",
    "    for pos_codes, others in zip(positive_pairs, other_codes):\n",
    "        negative_pairs.append((pos_codes[0], others))\n",
    "    \n",
    "    total_positive_pairs.extend(positive_pairs)\n",
    "    total_negative_pairs.extend(negative_pairs)"
   ]
  },
  {
   "cell_type": "code",
   "execution_count": 29,
   "id": "b5f1b938-9588-46d7-8beb-4199bef52e0b",
   "metadata": {},
   "outputs": [
    {
     "name": "stdout",
     "output_type": "stream",
     "text": [
      "total_positive length is  300000\n",
      "total_negative length is  300000\n"
     ]
    }
   ],
   "source": [
    "print(\"total_positive length is \", len(total_positive_pairs))\n",
    "print(\"total_negative length is \", len(total_negative_pairs))"
   ]
  },
  {
   "cell_type": "code",
   "execution_count": 30,
   "id": "762c61d4-efe7-44d2-9232-138c79ee71f6",
   "metadata": {},
   "outputs": [],
   "source": [
    "# total_positive_pairs와 negative_pairs의 정답 코드를 묶어 code1로 지정\n",
    "# total_positive_pairs와 negative_pairs의 비교 대상 코드를 묶어 code2로 지정\n",
    "# 해당 코드에 맞는 label 설정\n",
    "code1 = [code[0] for code in total_positive_pairs] + [code[0] for code in total_negative_pairs]\n",
    "code2 = [code[1] for code in total_positive_pairs] + [code[1] for code in total_negative_pairs]\n",
    "label = [1]*len(total_positive_pairs) + [0]*len(total_negative_pairs)\n",
    "\n",
    "# DataFrame으로 선언\n",
    "easy_data = pd.DataFrame(data={'code1':code1, 'code2':code2, 'similar':label})\n",
    "easy_data = easy_data.sample(frac=1).reset_index(drop=True) # frac: 추출할 표본 비율\n",
    "easy_data.to_csv('data/train_data_lv1.csv',index=False)"
   ]
  },
  {
   "cell_type": "markdown",
   "id": "208c1b9b-38e5-47d7-b6c4-12c8205f2167",
   "metadata": {},
   "source": [
    "**Validation data set**"
   ]
  },
  {
   "cell_type": "code",
   "execution_count": 31,
   "id": "024636b3-563c-4719-8d55-534ba3fc8a39",
   "metadata": {},
   "outputs": [],
   "source": [
    "codes = valid_df['code'].to_list() # code 컬럼을 list로 변환 - codes는 code가 쭉 나열된 형태임\n",
    "problems = valid_df['problem_num'].unique().tolist() # 문제 번호를 중복을 제외하고 list로 변환\n",
    "problems.sort()\n",
    "\n",
    "total_positive_pairs = []\n",
    "total_negative_pairs = []"
   ]
  },
  {
   "cell_type": "code",
   "execution_count": 32,
   "id": "7b622cf2-0b5f-4b00-8253-d900e48ed121",
   "metadata": {},
   "outputs": [
    {
     "name": "stderr",
     "output_type": "stream",
     "text": [
      "100%|███████████████████████████████████████████████████████████████████████████████| 300/300 [00:01<00:00, 215.69it/s]\n"
     ]
    }
   ],
   "source": [
    "for problem in tqdm(problems):\n",
    "    # 각각의 문제에 대한 code를 골라 정답 코드로 저장, 아닌 문제는 other_codes로 저장\n",
    "    # 이때 train_df에는 problem_num이 정렬된 상태가 아니기 때문에 index가 다를 수 있음\n",
    "    solution_codes = valid_df[valid_df['problem_num'] == problem]['code'].to_list()\n",
    "    other_codes = valid_df[valid_df['problem_num'] != problem]['code'].to_list()\n",
    "    \n",
    "    # positive_pairs 500개 (총 300 * 50 = 15,000개) 추출\n",
    "    # negative_pairs 500개 (총 300 * 50 = 15,000개) 추출\n",
    "    positive_pairs = list(combinations(solution_codes,2))\n",
    "    random.shuffle(positive_pairs)\n",
    "    positive_pairs = positive_pairs[:100]\n",
    "    random.shuffle(other_codes)\n",
    "    other_codes = other_codes[:100]\n",
    "    \n",
    "    negative_pairs = []\n",
    "    for pos_codes, others in zip(positive_pairs, other_codes):\n",
    "        negative_pairs.append((pos_codes[0], others))\n",
    "    \n",
    "    total_positive_pairs.extend(positive_pairs)\n",
    "    total_negative_pairs.extend(negative_pairs)"
   ]
  },
  {
   "cell_type": "code",
   "execution_count": 33,
   "id": "01c75956-3815-4cbb-b2fe-761aede62b52",
   "metadata": {},
   "outputs": [
    {
     "name": "stdout",
     "output_type": "stream",
     "text": [
      "total_positive length is  30000\n",
      "total_negative length is  30000\n"
     ]
    }
   ],
   "source": [
    "print(\"total_positive length is \", len(total_positive_pairs))\n",
    "print(\"total_negative length is \", len(total_negative_pairs))"
   ]
  },
  {
   "cell_type": "code",
   "execution_count": 34,
   "id": "37a580c6-16ae-42df-b57f-5bbd9ecc989b",
   "metadata": {},
   "outputs": [],
   "source": [
    "# total_positive_pairs와 negative_pairs의 정답 코드를 묶어 code1로 지정\n",
    "# total_positive_pairs와 negative_pairs의 비교 대상 코드를 묶어 code2로 지정\n",
    "# 해당 코드에 맞는 label 설정\n",
    "code1 = [code[0] for code in total_positive_pairs] + [code[0] for code in total_negative_pairs]\n",
    "code2 = [code[1] for code in total_positive_pairs] + [code[1] for code in total_negative_pairs]\n",
    "label = [1]*len(total_positive_pairs) + [0]*len(total_negative_pairs)\n",
    "\n",
    "# DataFrame으로 선언\n",
    "easy_data = pd.DataFrame(data={'code1':code1, 'code2':code2, 'similar':label})\n",
    "easy_data = easy_data.sample(frac=1).reset_index(drop=True) # frac: 추출할 표본 비율\n",
    "easy_data.to_csv('data/valid_data_lv1.csv',index=False)"
   ]
  },
  {
   "cell_type": "markdown",
   "id": "7d0bf80c-5118-4f79-914e-8d4b7bc1143f",
   "metadata": {},
   "source": [
    "-------------\n",
    "#### Create Middle Level dataset\n",
    "- 유사도가 중간인 코드들의 Positive pairs와 Negative pairs로 이루어짐\n",
    "**Training data set**"
   ]
  },
  {
   "cell_type": "code",
   "execution_count": 107,
   "id": "269ee5c2-f51c-4a77-88b0-13aad2f9f3b5",
   "metadata": {},
   "outputs": [],
   "source": [
    "codes = train_df['code'].to_list() # code 컬럼을 list로 변환 - codes는 code가 쭉 나열된 형태임\n",
    "problems = train_df['problem_num'].unique().tolist() # 문제 번호를 중복을 제외하고 list로 변환\n",
    "problems.sort()\n",
    "\n",
    "# # code를 토큰화하여 저장, train_df에 저장된 모든 코드들에 대한 token들을 리스트 하나에 저장함\n",
    "# tokenized_corpus = train_df['tokens'].to_list()\n",
    "# # 토큰화된 code에 대해 상관관계를 계산, 현재 무작위로 설정된 code에 대해서 수행하기 때문에\n",
    "# # 상관관계를 계산하는 코드는 같은 문제를 푸는 코드가 아닐 수 있음.\n",
    "# bm25 = BM25Okapi(tokenized_corpus)"
   ]
  },
  {
   "cell_type": "code",
   "execution_count": 115,
   "id": "f8545e02-84b8-4ab9-8cfe-766b6774ca90",
   "metadata": {},
   "outputs": [],
   "source": [
    "total_positive_pairs = []\n",
    "total_negative_pairs = []"
   ]
  },
  {
   "cell_type": "code",
   "execution_count": 116,
   "id": "ceef72d8-006e-4348-9d8e-5d5b20db51bf",
   "metadata": {},
   "outputs": [
    {
     "name": "stderr",
     "output_type": "stream",
     "text": [
      "100%|██████████████████████████████████████████████████████████████████████████████| 300/300 [1:51:03<00:00, 22.21s/it]\n"
     ]
    }
   ],
   "source": [
    "for problem in tqdm(problems):\n",
    "    # 각각의 문제에 대한 code를 골라 정답 코드로 저장, 아닌 문제는 other_solutions로 저장\n",
    "    solutions = train_df[train_df['problem_num'] == problem]\n",
    "    other_solutions = train_df[train_df['problem_num'] != problem]\n",
    "    \n",
    "    positive_pairs = []\n",
    "    negative_pairs = []\n",
    "    \n",
    "    # 같은 문제를 푸는 코드에 대한 토큰을 저장\n",
    "    pp_tokens = solutions['tokens'].to_list()\n",
    "    np_tokens = other_solutions['tokens'].to_list()\n",
    "    ppbm25 = BM25Okapi(pp_tokens)\n",
    "    npbm25 = BM25Okapi(np_tokens)\n",
    "    \n",
    "    # 각각의 코드에 대해 유사도 비교하여 pairs에 추가\n",
    "    for solution, token in list(zip(solutions['code'], solutions['tokens']))[:10]: # solution_codes: 약 135\n",
    "        pp_scores = ppbm25.get_scores(token)\n",
    "        np_scores = npbm25.get_scores(token)\n",
    "        pos_idx = round(len(pp_scores)/2) # pos_idx: 135 / 2 = 약 68\n",
    "        neg_idx = round(len(np_scores)/2) # neg_idx: 40450 / 2 = 20,225\n",
    "        positive_code_ranking = pp_scores.argsort()[::1][pos_idx:]\n",
    "        negative_code_ranking = np_scores.argsort()[::-1][neg_idx:]\n",
    "        \n",
    "        # positive, negative pairs의 길이는 코드당 15개 (총 (300 * 10 * 15) * 2 = 90,000개)\n",
    "        for i in range(15):\n",
    "            score_idx = positive_code_ranking[i]\n",
    "            positive_pairs.append((solution, train_df['code'].iloc[score_idx]))\n",
    "        \n",
    "        for i in range(15):\n",
    "            score_idx = negative_code_ranking[i]\n",
    "            negative_pairs.append((solution, train_df['code'].iloc[score_idx]))\n",
    "\n",
    "            \n",
    "    total_positive_pairs.extend(positive_pairs)\n",
    "    total_negative_pairs.extend(negative_pairs)"
   ]
  },
  {
   "cell_type": "code",
   "execution_count": 136,
   "id": "bf908a23-4994-49ca-85b1-34a081736434",
   "metadata": {},
   "outputs": [
    {
     "name": "stdout",
     "output_type": "stream",
     "text": [
      "total_positive length is  45000\n",
      "total_negative length is  45000\n"
     ]
    }
   ],
   "source": [
    "print(\"total_positive length is \", len(total_positive_pairs))\n",
    "print(\"total_negative length is \", len(total_negative_pairs))"
   ]
  },
  {
   "cell_type": "code",
   "execution_count": 135,
   "id": "9417c772-b490-4601-9d4f-456f4d0309ac",
   "metadata": {},
   "outputs": [],
   "source": [
    "# total_positive_pairs와 negative_pairs의 정답 코드를 묶어 code1로 지정\n",
    "# total_positive_pairs와 negative_pairs의 비교 대상 코드를 묶어 code2로 지정\n",
    "# 해당 코드에 맞는 label 설정\n",
    "code1 = [code[0] for code in total_positive_pairs] + [code[0] for code in total_negative_pairs]\n",
    "code2 = [code[1] for code in total_positive_pairs] + [code[1] for code in total_negative_pairs]\n",
    "label = [1]*len(total_positive_pairs) + [0]*len(total_negative_pairs)\n",
    "\n",
    "# DataFrame으로 선언\n",
    "middle_data = pd.DataFrame(data={'code1':code1, 'code2':code2, 'similar':label})\n",
    "middle_data = middle_data.sample(frac=1).reset_index(drop=True) # frac: 추출할 표본 비율\n",
    "middle_data.to_csv('data/train_data_Middle.csv',index=False)"
   ]
  },
  {
   "cell_type": "markdown",
   "id": "cfe1e821-8663-4250-80a5-9fdd9405dec4",
   "metadata": {},
   "source": [
    "**validation data**"
   ]
  },
  {
   "cell_type": "code",
   "execution_count": 137,
   "id": "56bbfe89-75ee-40ca-b7c1-1ecae8dfa0ab",
   "metadata": {},
   "outputs": [],
   "source": [
    "codes = valid_df['code'].to_list() # code 컬럼을 list로 변환 - codes는 code가 쭉 나열된 형태임\n",
    "problems = valid_df['problem_num'].unique().tolist() # 문제 번호를 중복을 제외하고 list로 변환\n",
    "problems.sort()"
   ]
  },
  {
   "cell_type": "code",
   "execution_count": 138,
   "id": "ebb4966c-2726-4d47-a571-b463fffd2bf9",
   "metadata": {},
   "outputs": [],
   "source": [
    "total_positive_pairs = []\n",
    "total_negative_pairs = []"
   ]
  },
  {
   "cell_type": "code",
   "execution_count": 139,
   "id": "d952df35-f716-4b5b-ad25-3bcc90ec5884",
   "metadata": {
    "tags": []
   },
   "outputs": [
    {
     "name": "stderr",
     "output_type": "stream",
     "text": [
      "100%|████████████████████████████████████████████████████████████████████████████████| 300/300 [05:32<00:00,  1.11s/it]\n"
     ]
    }
   ],
   "source": [
    "for problem in tqdm(problems):\n",
    "    # 각각의 문제에 대한 code를 골라 정답 코드로 저장, 아닌 문제는 other_solutions로 저장\n",
    "    solutions = valid_df[valid_df['problem_num'] == problem]\n",
    "    other_solutions = valid_df[valid_df['problem_num'] != problem]\n",
    "    \n",
    "    positive_pairs = []\n",
    "    negative_pairs = []\n",
    "    \n",
    "    # 같은 문제를 푸는 코드에 대한 토큰을 저장\n",
    "    pp_tokens = solutions['tokens'].to_list()\n",
    "    np_tokens = other_solutions['tokens'].to_list()\n",
    "    ppbm25 = BM25Okapi(pp_tokens)\n",
    "    npbm25 = BM25Okapi(np_tokens)\n",
    "    \n",
    "    # 각각의 코드에 대해 유사도 비교하여 pairs에 추가\n",
    "    for solution, token in list(zip(solutions['code'], solutions['tokens']))[:5]: # solution_codes 5개\n",
    "        pp_scores = ppbm25.get_scores(token)\n",
    "        np_scores = npbm25.get_scores(token)\n",
    "        pos_idx = round(len(pp_scores)/2) # pos_idx: 135 / 2 = 약 68\n",
    "        neg_idx = round(len(np_scores)/2) # neg_idx: 40450 / 2 = 20,225\n",
    "        positive_code_ranking = pp_scores.argsort()[::1][pos_idx:]\n",
    "        negative_code_ranking = np_scores.argsort()[::-1][neg_idx:]\n",
    "        \n",
    "        # positive, negative pairs의 길이는 코드당 3개 (총 (300 * 5 * 3) * 2 = 9,000개)\n",
    "        for i in range(3):\n",
    "            score_idx = positive_code_ranking[i]\n",
    "            positive_pairs.append((solution, valid_df['code'].iloc[score_idx]))\n",
    "        \n",
    "        for i in range(3):\n",
    "            score_idx = negative_code_ranking[i]\n",
    "            negative_pairs.append((solution, valid_df['code'].iloc[score_idx]))\n",
    "\n",
    "            \n",
    "    total_positive_pairs.extend(positive_pairs)\n",
    "    total_negative_pairs.extend(negative_pairs)"
   ]
  },
  {
   "cell_type": "code",
   "execution_count": 140,
   "id": "82c888bb-b116-42f0-b861-3b95d22bbc36",
   "metadata": {},
   "outputs": [
    {
     "name": "stdout",
     "output_type": "stream",
     "text": [
      "total_positive length is  4500\n",
      "total_negative length is  4500\n"
     ]
    }
   ],
   "source": [
    "print(\"total_positive length is \", len(total_positive_pairs))\n",
    "print(\"total_negative length is \", len(total_negative_pairs))"
   ]
  },
  {
   "cell_type": "code",
   "execution_count": 141,
   "id": "c168c71f-de7d-44d4-a990-866d93f8e041",
   "metadata": {},
   "outputs": [],
   "source": [
    "# total_positive_pairs와 negative_pairs의 정답 코드를 묶어 code1로 지정\n",
    "# total_positive_pairs와 negative_pairs의 비교 대상 코드를 묶어 code2로 지정\n",
    "# 해당 코드에 맞는 label 설정\n",
    "code1 = [code[0] for code in total_positive_pairs] + [code[0] for code in total_negative_pairs]\n",
    "code2 = [code[1] for code in total_positive_pairs] + [code[1] for code in total_negative_pairs]\n",
    "label = [1]*len(total_positive_pairs) + [0]*len(total_negative_pairs)\n",
    "\n",
    "# DataFrame으로 선언\n",
    "middle_data = pd.DataFrame(data={'code1':code1, 'code2':code2, 'similar':label})\n",
    "middle_data = middle_data.sample(frac=1).reset_index(drop=True) # frac: 추출할 표본 비율\n",
    "middle_data.to_csv('data/valid_data_Middle.csv',index=False)"
   ]
  },
  {
   "cell_type": "markdown",
   "id": "4417fd18-0c54-46a8-b0fc-c6506031e7cb",
   "metadata": {},
   "source": [
    "-------------\n",
    "#### Create High Level dataset\n",
    "- 유사도가 낮은 Positive pairs\n",
    "- 유사도가 높은 Negative pairs로 이루어짐\n",
    "**Training data set**"
   ]
  },
  {
   "cell_type": "code",
   "execution_count": 142,
   "id": "03ea3ae8-b7de-455a-ab42-b71135533449",
   "metadata": {},
   "outputs": [],
   "source": [
    "codes = train_df['code'].to_list() # code 컬럼을 list로 변환 - codes는 code가 쭉 나열된 형태임\n",
    "problems = train_df['problem_num'].unique().tolist() # 문제 번호를 중복을 제외하고 list로 변환\n",
    "problems.sort()"
   ]
  },
  {
   "cell_type": "code",
   "execution_count": 143,
   "id": "e1a2adec-bfb7-4b5a-a443-cde7e4724c9b",
   "metadata": {},
   "outputs": [],
   "source": [
    "total_positive_pairs = []\n",
    "total_negative_pairs = []"
   ]
  },
  {
   "cell_type": "code",
   "execution_count": 144,
   "id": "4da63083-a073-4034-b78f-62f7918f3281",
   "metadata": {},
   "outputs": [
    {
     "name": "stderr",
     "output_type": "stream",
     "text": [
      "100%|██████████████████████████████████████████████████████████████████████████████| 300/300 [2:03:02<00:00, 24.61s/it]\n"
     ]
    }
   ],
   "source": [
    "for problem in tqdm(problems):\n",
    "    # 각각의 문제에 대한 code를 골라 정답 코드로 저장, 아닌 문제는 other_solutions로 저장\n",
    "    solutions = train_df[train_df['problem_num'] == problem]\n",
    "    other_solutions = train_df[train_df['problem_num'] != problem]\n",
    "    \n",
    "    positive_pairs = []\n",
    "    negative_pairs = []\n",
    "    \n",
    "    # 같은 문제를 푸는 코드에 대한 토큰을 저장\n",
    "    pp_tokens = solutions['tokens'].to_list()\n",
    "    np_tokens = other_solutions['tokens'].to_list()\n",
    "    ppbm25 = BM25Okapi(pp_tokens)\n",
    "    npbm25 = BM25Okapi(np_tokens)\n",
    "    \n",
    "    # 각각의 코드에 대해 유사도 비교하여 pairs에 추가\n",
    "    for solution, token in list(zip(solutions['code'], solutions['tokens']))[:10]: # solution_codes: 약 135\n",
    "        pp_scores = ppbm25.get_scores(token)\n",
    "        np_scores = npbm25.get_scores(token)\n",
    "        positive_code_ranking = pp_scores.argsort()[::1]\n",
    "        negative_code_ranking = np_scores.argsort()[::-1]\n",
    "        \n",
    "        # positive, negative pairs의 길이는 코드당 15개 (총 (300 * 10 * 15) * 2 = 90,000개)\n",
    "        for i in range(15):\n",
    "            score_idx = positive_code_ranking[i]\n",
    "            positive_pairs.append((solution, train_df['code'].iloc[score_idx]))\n",
    "        \n",
    "        for i in range(15):\n",
    "            score_idx = negative_code_ranking[i]\n",
    "            negative_pairs.append((solution, train_df['code'].iloc[score_idx]))\n",
    "\n",
    "            \n",
    "    total_positive_pairs.extend(positive_pairs)\n",
    "    total_negative_pairs.extend(negative_pairs)"
   ]
  },
  {
   "cell_type": "code",
   "execution_count": 145,
   "id": "427aeaa4-f7f7-46b1-83ee-45b950443f85",
   "metadata": {},
   "outputs": [
    {
     "name": "stdout",
     "output_type": "stream",
     "text": [
      "total_positive length is  45000\n",
      "total_negative length is  45000\n"
     ]
    }
   ],
   "source": [
    "print(\"total_positive length is \", len(total_positive_pairs))\n",
    "print(\"total_negative length is \", len(total_negative_pairs))"
   ]
  },
  {
   "cell_type": "code",
   "execution_count": 146,
   "id": "11b99390-f506-41d7-a8fb-46235705c7a2",
   "metadata": {},
   "outputs": [],
   "source": [
    "# total_positive_pairs와 negative_pairs의 정답 코드를 묶어 code1로 지정\n",
    "# total_positive_pairs와 negative_pairs의 비교 대상 코드를 묶어 code2로 지정\n",
    "# 해당 코드에 맞는 label 설정\n",
    "code1 = [code[0] for code in total_positive_pairs] + [code[0] for code in total_negative_pairs]\n",
    "code2 = [code[1] for code in total_positive_pairs] + [code[1] for code in total_negative_pairs]\n",
    "label = [1]*len(total_positive_pairs) + [0]*len(total_negative_pairs)\n",
    "\n",
    "# DataFrame으로 선언\n",
    "high_data = pd.DataFrame(data={'code1':code1, 'code2':code2, 'similar':label})\n",
    "high_data = high_data.sample(frac=1).reset_index(drop=True) # frac: 추출할 표본 비율\n",
    "high_data.to_csv('data/train_data_High.csv',index=False)"
   ]
  },
  {
   "cell_type": "markdown",
   "id": "7c4d4806-cb12-414d-a001-5199beb1ade4",
   "metadata": {},
   "source": [
    "**validation data**"
   ]
  },
  {
   "cell_type": "code",
   "execution_count": 147,
   "id": "a87a73c3-ced9-4fb9-a0c9-de1d521077bd",
   "metadata": {},
   "outputs": [],
   "source": [
    "codes = valid_df['code'].to_list() # code 컬럼을 list로 변환 - codes는 code가 쭉 나열된 형태임\n",
    "problems = valid_df['problem_num'].unique().tolist() # 문제 번호를 중복을 제외하고 list로 변환\n",
    "problems.sort()"
   ]
  },
  {
   "cell_type": "code",
   "execution_count": 148,
   "id": "5e83ad95-4858-4a2b-85c2-a507d2f57956",
   "metadata": {},
   "outputs": [],
   "source": [
    "total_positive_pairs = []\n",
    "total_negative_pairs = []"
   ]
  },
  {
   "cell_type": "code",
   "execution_count": 149,
   "id": "aa6f30ee-b13c-4945-8181-1dc4a3565056",
   "metadata": {
    "tags": []
   },
   "outputs": [
    {
     "name": "stderr",
     "output_type": "stream",
     "text": [
      "100%|████████████████████████████████████████████████████████████████████████████████| 300/300 [07:27<00:00,  1.49s/it]\n"
     ]
    }
   ],
   "source": [
    "for problem in tqdm(problems):\n",
    "    # 각각의 문제에 대한 code를 골라 정답 코드로 저장, 아닌 문제는 other_solutions로 저장\n",
    "    solutions = valid_df[valid_df['problem_num'] == problem]\n",
    "    other_solutions = valid_df[valid_df['problem_num'] != problem]\n",
    "    \n",
    "    positive_pairs = []\n",
    "    negative_pairs = []\n",
    "    \n",
    "    # 같은 문제를 푸는 코드에 대한 토큰을 저장\n",
    "    pp_tokens = solutions['tokens'].to_list()\n",
    "    np_tokens = other_solutions['tokens'].to_list()\n",
    "    ppbm25 = BM25Okapi(pp_tokens)\n",
    "    npbm25 = BM25Okapi(np_tokens)\n",
    "    \n",
    "    # 각각의 코드에 대해 유사도 비교하여 pairs에 추가\n",
    "    for solution, token in list(zip(solutions['code'], solutions['tokens']))[:5]: # solution_codes 5개\n",
    "        pp_scores = ppbm25.get_scores(token)\n",
    "        np_scores = npbm25.get_scores(token)\n",
    "        positive_code_ranking = pp_scores.argsort()[::1]\n",
    "        negative_code_ranking = np_scores.argsort()[::-1]\n",
    "        \n",
    "        # positive, negative pairs의 길이는 코드당 3개 (총 (300 * 5 * 3) * 2 = 9,000개)\n",
    "        for i in range(3):\n",
    "            score_idx = positive_code_ranking[i]\n",
    "            positive_pairs.append((solution, valid_df['code'].iloc[score_idx]))\n",
    "        \n",
    "        for i in range(3):\n",
    "            score_idx = negative_code_ranking[i]\n",
    "            negative_pairs.append((solution, valid_df['code'].iloc[score_idx]))\n",
    "\n",
    "            \n",
    "    total_positive_pairs.extend(positive_pairs)\n",
    "    total_negative_pairs.extend(negative_pairs)"
   ]
  },
  {
   "cell_type": "code",
   "execution_count": 150,
   "id": "7894d734-e57b-4daf-a788-a5a081b94bd4",
   "metadata": {},
   "outputs": [
    {
     "name": "stdout",
     "output_type": "stream",
     "text": [
      "total_positive length is  4500\n",
      "total_negative length is  4500\n"
     ]
    }
   ],
   "source": [
    "print(\"total_positive length is \", len(total_positive_pairs))\n",
    "print(\"total_negative length is \", len(total_negative_pairs))"
   ]
  },
  {
   "cell_type": "code",
   "execution_count": 151,
   "id": "ce55db0e-a16d-42f2-9366-7d882abf6e06",
   "metadata": {},
   "outputs": [],
   "source": [
    "# total_positive_pairs와 negative_pairs의 정답 코드를 묶어 code1로 지정\n",
    "# total_positive_pairs와 negative_pairs의 비교 대상 코드를 묶어 code2로 지정\n",
    "# 해당 코드에 맞는 label 설정\n",
    "code1 = [code[0] for code in total_positive_pairs] + [code[0] for code in total_negative_pairs]\n",
    "code2 = [code[1] for code in total_positive_pairs] + [code[1] for code in total_negative_pairs]\n",
    "label = [1]*len(total_positive_pairs) + [0]*len(total_negative_pairs)\n",
    "\n",
    "# DataFrame으로 선언\n",
    "high_data = pd.DataFrame(data={'code1':code1, 'code2':code2, 'similar':label})\n",
    "high_data = high_data.sample(frac=1).reset_index(drop=True) # frac: 추출할 표본 비율\n",
    "high_data.to_csv('data/valid_data_High.csv',index=False)"
   ]
  }
 ],
 "metadata": {
  "kernelspec": {
   "display_name": "Python 3 (ipykernel)",
   "language": "python",
   "name": "python3"
  },
  "language_info": {
   "codemirror_mode": {
    "name": "ipython",
    "version": 3
   },
   "file_extension": ".py",
   "mimetype": "text/x-python",
   "name": "python",
   "nbconvert_exporter": "python",
   "pygments_lexer": "ipython3",
   "version": "3.9.7"
  }
 },
 "nbformat": 4,
 "nbformat_minor": 5
}
